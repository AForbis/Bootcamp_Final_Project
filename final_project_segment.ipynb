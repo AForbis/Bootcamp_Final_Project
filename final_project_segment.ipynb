{
 "cells": [
  {
   "cell_type": "code",
   "execution_count": 59,
   "metadata": {
    "id": "y5Z88nubR4Fj"
   },
   "outputs": [],
   "source": [
    "import pandas as pd \n",
    "import numpy as np\n",
    "import requests\n",
    "import io\n",
    "import csv\n",
    "from path import Path\n",
    "import psycopg2\n",
    "from config import db_password"
   ]
  },
  {
   "cell_type": "code",
   "execution_count": 60,
   "metadata": {},
   "outputs": [],
   "source": [
    "# Connction to AWS nba database\n",
    "connection = psycopg2.connect(\n",
    "    host = 'nba-db.cpmpsi1pfaz0.us-east-2.rds.amazonaws.com',\n",
    "    port = 5432,\n",
    "    user = 'postgres',\n",
    "    password = db_password,\n",
    "    database='postgres'\n",
    "    )\n",
    "cursor=connection.cursor()"
   ]
  },
  {
   "cell_type": "code",
   "execution_count": 73,
   "metadata": {
    "colab": {
     "base_uri": "https://localhost:8080/",
     "height": 544
    },
    "id": "8OrPjJ34bbb9",
    "outputId": "fa09661a-735f-4559-dedf-0a9764f73b73"
   },
   "outputs": [],
   "source": [
    "#eventually we will replace this with a database\n",
    "#url = 'https://github.com/AForbis/Bootcamp_Final_Project/blob/datasourcing/SeasonData/AllNBA_Unpivoted.xlsx'\n",
    "##url= Path(\"Resources/AllNBA_UNpivoted.xlsx\")\n",
    "#load in All NBA teams, drop the league column (we are not including the ABA, I already deleted all that from the file)\n",
    "##All_NBA_Unpivoted_df = pd.DataFrame(pd.read_excel(url)).drop(['Lg'],axis=1)\n",
    "#rename the players column\n",
    "##All_NBA_Unpivoted_df=All_NBA_Unpivoted_df.rename(columns = {'Value':'PlayerName'})\n",
    "#create column with the start year\n",
    "##All_NBA_Unpivoted_df['Season_Start_Year'] = All_NBA_Unpivoted_df['Season'].apply(lambda row: row[0:4])\n",
    "##All_NBA_Unpivoted_df['Season_Start_Year'] = pd.to_numeric(All_NBA_Unpivoted_df['Season_Start_Year'])\n",
    "#All_NBA_Unpivoted_df.head(10)"
   ]
  },
  {
   "cell_type": "code",
   "execution_count": 61,
   "metadata": {},
   "outputs": [],
   "source": [
    "#read in data from database for All NBA table\n",
    "nba_unpivoted_sql = 'SELECT * FROM public.allnba_unpivoted'\n",
    "All_NBA_Unpivoted_df = pd.read_sql(nba_unpivoted_sql, con=connection).drop(['Lg'],axis=1)\n",
    "#rename the players column\n",
    "All_NBA_Unpivoted_df=All_NBA_Unpivoted_df.rename(columns = {'Value':'PlayerName'})\n",
    "#create column with the start year\n",
    "All_NBA_Unpivoted_df['Season_Start_Year'] = All_NBA_Unpivoted_df['Season'].apply(lambda row: row[0:4])\n",
    "All_NBA_Unpivoted_df['Season_Start_Year'] = pd.to_numeric(All_NBA_Unpivoted_df['Season_Start_Year'])\n",
    "#All_NBA_Unpivoted_df.head()"
   ]
  },
  {
   "cell_type": "code",
   "execution_count": 62,
   "metadata": {
    "id": "jOYXy-FybbfU",
    "outputId": "62771572-9ddb-48af-a77c-bf5aab2c80da"
   },
   "outputs": [],
   "source": [
    "#cleaning up the names with crazy characters\n",
    "All_NBA_Unpivoted_df['PlayerName_Formatted'] = All_NBA_Unpivoted_df['PlayerName'].apply(lambda row: row.replace(\"ć\",\"c\"))\n",
    "All_NBA_Unpivoted_df['PlayerName_Formatted'] = All_NBA_Unpivoted_df['PlayerName_Formatted'].apply(lambda row: row.replace(\"č\",\"c\"))\n",
    "All_NBA_Unpivoted_df['PlayerName_Formatted'] = All_NBA_Unpivoted_df['PlayerName_Formatted'].apply(lambda row: row.replace(\"ž\",\"z\"))\n",
    "\n",
    "#make dummies for position and team (1st, 2nd, 3rd)\n",
    "All_NBA_Unpivoted_df = pd.get_dummies(All_NBA_Unpivoted_df,columns=['Position','Tm']).drop(['Season','PlayerName'],axis=1)\n",
    "#rename the columns (cosmetic)\n",
    "All_NBA_Unpivoted_df=All_NBA_Unpivoted_df.rename(columns = {'Position_C':'AllNBA_Center'})\n",
    "All_NBA_Unpivoted_df=All_NBA_Unpivoted_df.rename(columns = {'Position_F':'AllNBA_Forward'})\n",
    "All_NBA_Unpivoted_df=All_NBA_Unpivoted_df.rename(columns = {'Position_G':'AllNBA_Guard'})\n",
    "#All_NBA_Unpivoted_df.head(10)"
   ]
  },
  {
   "cell_type": "code",
   "execution_count": 63,
   "metadata": {
    "id": "KPs6BA3BbbiV"
   },
   "outputs": [],
   "source": [
    "#get list of all of the players that have made an all nba team\n",
    "AllNBAPlayersList = All_NBA_Unpivoted_df['PlayerName_Formatted'].unique()\n",
    "#AllNBAPlayersList"
   ]
  },
  {
   "cell_type": "code",
   "execution_count": 76,
   "metadata": {
    "id": "Hi3fF2Csbbk9",
    "outputId": "8d1a6eb8-520c-4508-e463-ab2fc1767c15"
   },
   "outputs": [],
   "source": [
    "#url = 'SeasonData/Seasons_Stats.xlsx'\n",
    "##url= Path(\"Resources/Seasons_Stats.xlsx\")\n",
    "#load in season stats\n",
    "##season_stats_df = pd.DataFrame(pd.read_excel(url))\n",
    "##season_stats_df['Player'] = season_stats_df['Player'].apply(lambda row: row.replace(\"*\",\"\"))\n",
    "##season_stats_df=season_stats_df.rename(columns = {'Year':'Year_season_end'})\n",
    "##season_stats_df['Year_season_start'] = (season_stats_df['Year_season_end'] - 1)\n",
    "#season_stats_df.head()\n",
    "#season_stats_df.to_csv('ML_DF.csv')"
   ]
  },
  {
   "cell_type": "code",
   "execution_count": 64,
   "metadata": {},
   "outputs": [],
   "source": [
    "#read in data from database for season stats table\n",
    "seasons_stats_sql = 'SELECT * FROM public.seasons_stats'\n",
    "season_stats_df = pd.read_sql(seasons_stats_sql, con=connection)\n",
    "#divid year into season start and end\n",
    "season_stats_df=season_stats_df.rename(columns = {'Year':'Year_season_end'})\n",
    "season_stats_df['Year_season_end'] = pd.to_numeric(season_stats_df['Year_season_end'])\n",
    "season_stats_df['Year_season_start'] = (season_stats_df['Year_season_end'] - 1)\n",
    "#season_stats_df.head()"
   ]
  },
  {
   "cell_type": "code",
   "execution_count": 65,
   "metadata": {
    "id": "V-HopAfXbbnt"
   },
   "outputs": [],
   "source": [
    "# get list of every nba player\n",
    "AllPlayersList = season_stats_df.Player.unique()\n",
    "AllPlayersList_df = pd.DataFrame(AllPlayersList)\n",
    "#AllPlayersList_df.to_csv('listofplayers_test.csv')"
   ]
  },
  {
   "cell_type": "code",
   "execution_count": 66,
   "metadata": {
    "id": "gTw2sao4bbqY",
    "outputId": "b6753f71-eb01-4a68-8950-1e43e7efaae8"
   },
   "outputs": [
    {
     "output_type": "stream",
     "name": "stdout",
     "text": [
      "Luka Doncic\nJayson Tatum\nBen Simmons\n"
     ]
    }
   ],
   "source": [
    "#check and make sure every all-nba player shows up in the season data dataset\n",
    "#players who weren't in the league in 2017 will show up here, that's okay!\n",
    "#I cleaned up a bunch of names in the excel\n",
    "for player in AllNBAPlayersList:\n",
    "    if player not in AllPlayersList:   \n",
    "        print(player)"
   ]
  },
  {
   "cell_type": "code",
   "execution_count": 67,
   "metadata": {
    "id": "EtMZI2dSbbtJ"
   },
   "outputs": [],
   "source": [
    "#merge allNBA status into season stats\n",
    "Season_Stats_ML_DF = pd.merge(season_stats_df,All_NBA_Unpivoted_df,how='left',left_on = ['Player','Year_season_start'], right_on = ['PlayerName_Formatted','Season_Start_Year'])"
   ]
  },
  {
   "cell_type": "code",
   "execution_count": 68,
   "metadata": {
    "id": "XxnJYn_Ibbv4"
   },
   "outputs": [],
   "source": [
    "# get rid of duplicate cols\n",
    "Season_Stats_ML_DF = Season_Stats_ML_DF.drop(['Season_Start_Year','PlayerName_Formatted'],axis=1)"
   ]
  },
  {
   "cell_type": "code",
   "execution_count": 69,
   "metadata": {
    "id": "uSHCIICBbby4",
    "outputId": "84df7620-cc3e-47ea-fad0-c6f2a3cda813"
   },
   "outputs": [],
   "source": [
    "# fill in zeros for players that arent all nba\n",
    "Season_Stats_ML_DF['AllNBA_Center'] = Season_Stats_ML_DF['AllNBA_Center'].fillna(int(0))\n",
    "Season_Stats_ML_DF['AllNBA_Forward'] = Season_Stats_ML_DF['AllNBA_Forward'].fillna(int(0))\n",
    "Season_Stats_ML_DF['AllNBA_Guard'] = Season_Stats_ML_DF['AllNBA_Guard'].fillna(int(0))\n",
    "Season_Stats_ML_DF['Tm_1st'] = Season_Stats_ML_DF['Tm_1st'].fillna(int(0))\n",
    "Season_Stats_ML_DF['Tm_2nd'] = Season_Stats_ML_DF['Tm_2nd'].fillna(int(0))\n",
    "Season_Stats_ML_DF['Tm_3rd'] = Season_Stats_ML_DF['Tm_3rd'].fillna(int(0))\n"
   ]
  },
  {
   "cell_type": "code",
   "execution_count": 70,
   "metadata": {
    "id": "ke9nPg5Sbb1l",
    "outputId": "db745df0-b3a7-4953-f487-5c41e37662b7"
   },
   "outputs": [],
   "source": [
    "#get list of positions\n",
    "Positions_List = Season_Stats_ML_DF['Pos'].unique()\n"
   ]
  },
  {
   "cell_type": "code",
   "execution_count": 71,
   "metadata": {
    "id": "VScYa7vCbb4n"
   },
   "outputs": [],
   "source": [
    "# create functions to determine if player is a guard forward and/or center\n",
    "def is_forward(pos):\n",
    "    possible_pos = [ 'SF',  'PF', 'PF-C', 'SG-SF', 'PF-SF', 'SF-SG', 'SF-PF', 'C-PF', 'SG-PF', 'C-SF', 'PG-SF']\n",
    "    if pos in possible_pos: isF = 1\n",
    "    else: isF = 0\n",
    "    return isF\n",
    "\n",
    "def is_guard(pos):\n",
    "    possible_pos = ['PG','SG','SG-SF','PG-SG','SG-PG','SF-SG','SG-PF','PG-SF']\n",
    "    if pos in possible_pos: isG = 1\n",
    "    else: isG = 0\n",
    "    return isG\n",
    "\n",
    "def is_center(pos):\n",
    "    possible_pos = ['C','PF-C','C-PF','C-SF']\n",
    "    if pos in possible_pos: isC = 1\n",
    "    else: isC = 0\n",
    "    return isC"
   ]
  },
  {
   "cell_type": "code",
   "execution_count": 72,
   "metadata": {
    "id": "umRKFx1Kbb7q",
    "outputId": "ab3b3d85-06bc-4ab1-c038-fa110c27cd46"
   },
   "outputs": [],
   "source": [
    "#Create dummy columns for G, F, C\n",
    "Season_Stats_ML_DF['is_Guard'] = Season_Stats_ML_DF['Pos'].apply(lambda pos: is_guard(pos) )\n",
    "Season_Stats_ML_DF['is_Forward'] = Season_Stats_ML_DF['Pos'].apply(lambda pos: is_forward(pos) )\n",
    "Season_Stats_ML_DF['is_Center'] = Season_Stats_ML_DF['Pos'].apply(lambda pos: is_center(pos) )\n"
   ]
  },
  {
   "cell_type": "code",
   "execution_count": 73,
   "metadata": {
    "id": "g18TtxJVbb-u"
   },
   "outputs": [],
   "source": [
    "#Drop the Pos Column since we have dummy columns\n",
    "Season_Stats_ML_DF=Season_Stats_ML_DF.drop(['Pos'],axis=1)\n"
   ]
  },
  {
   "cell_type": "code",
   "execution_count": 74,
   "metadata": {
    "id": "V2nu9jDHeNzd",
    "outputId": "0943a9fb-011c-4579-8696-65afdd719d55"
   },
   "outputs": [],
   "source": [
    "#make dummies for team\n",
    "Season_Stats_ML_DF = pd.get_dummies(Season_Stats_ML_DF,columns=['Tm','Year_season_start'])\n"
   ]
  },
  {
   "cell_type": "code",
   "execution_count": 75,
   "metadata": {
    "id": "3SkQvNpLeNzd",
    "outputId": "b6c2187d-9510-465f-801e-2a7d2b9d6028"
   },
   "outputs": [
    {
     "output_type": "execute_result",
     "data": {
      "text/plain": [
       "  Age   G  GS      MP   PER  TS_pct  3PAr    FTr  ORB_pct  DRB_pct  ...  \\\n",
       "0  31  16   0   158.0  11.4   0.449   NaN  0.383     12.4     20.9  ...   \n",
       "1  31   2   0    24.0  11.5   0.279   NaN  0.231     26.0     37.3  ...   \n",
       "2  23  31   0   285.0   7.6   0.367   NaN  0.556     16.3     15.4  ...   \n",
       "3  30  77   0   988.0  14.0   0.551   NaN  0.619      1.2      7.3  ...   \n",
       "4  29  82   0  2186.0  13.6   0.484   NaN  0.238      3.5      5.2  ...   \n",
       "\n",
       "   Year_season_start_2007  Year_season_start_2008  Year_season_start_2009  \\\n",
       "0                       0                       0                       0   \n",
       "1                       0                       0                       0   \n",
       "2                       0                       0                       0   \n",
       "3                       0                       0                       0   \n",
       "4                       0                       0                       0   \n",
       "\n",
       "   Year_season_start_2010  Year_season_start_2011  Year_season_start_2012  \\\n",
       "0                       0                       0                       0   \n",
       "1                       0                       0                       0   \n",
       "2                       0                       0                       0   \n",
       "3                       0                       0                       0   \n",
       "4                       0                       0                       0   \n",
       "\n",
       "   Year_season_start_2013  Year_season_start_2014  Year_season_start_2015  \\\n",
       "0                       0                       0                       0   \n",
       "1                       0                       0                       0   \n",
       "2                       0                       0                       0   \n",
       "3                       0                       0                       0   \n",
       "4                       0                       0                       0   \n",
       "\n",
       "   Year_season_start_2016  \n",
       "0                       0  \n",
       "1                       0  \n",
       "2                       0  \n",
       "3                       0  \n",
       "4                       0  \n",
       "\n",
       "[5 rows x 138 columns]"
      ],
      "text/html": "<div>\n<style scoped>\n    .dataframe tbody tr th:only-of-type {\n        vertical-align: middle;\n    }\n\n    .dataframe tbody tr th {\n        vertical-align: top;\n    }\n\n    .dataframe thead th {\n        text-align: right;\n    }\n</style>\n<table border=\"1\" class=\"dataframe\">\n  <thead>\n    <tr style=\"text-align: right;\">\n      <th></th>\n      <th>Age</th>\n      <th>G</th>\n      <th>GS</th>\n      <th>MP</th>\n      <th>PER</th>\n      <th>TS_pct</th>\n      <th>3PAr</th>\n      <th>FTr</th>\n      <th>ORB_pct</th>\n      <th>DRB_pct</th>\n      <th>...</th>\n      <th>Year_season_start_2007</th>\n      <th>Year_season_start_2008</th>\n      <th>Year_season_start_2009</th>\n      <th>Year_season_start_2010</th>\n      <th>Year_season_start_2011</th>\n      <th>Year_season_start_2012</th>\n      <th>Year_season_start_2013</th>\n      <th>Year_season_start_2014</th>\n      <th>Year_season_start_2015</th>\n      <th>Year_season_start_2016</th>\n    </tr>\n  </thead>\n  <tbody>\n    <tr>\n      <th>0</th>\n      <td>31</td>\n      <td>16</td>\n      <td>0</td>\n      <td>158.0</td>\n      <td>11.4</td>\n      <td>0.449</td>\n      <td>NaN</td>\n      <td>0.383</td>\n      <td>12.4</td>\n      <td>20.9</td>\n      <td>...</td>\n      <td>0</td>\n      <td>0</td>\n      <td>0</td>\n      <td>0</td>\n      <td>0</td>\n      <td>0</td>\n      <td>0</td>\n      <td>0</td>\n      <td>0</td>\n      <td>0</td>\n    </tr>\n    <tr>\n      <th>1</th>\n      <td>31</td>\n      <td>2</td>\n      <td>0</td>\n      <td>24.0</td>\n      <td>11.5</td>\n      <td>0.279</td>\n      <td>NaN</td>\n      <td>0.231</td>\n      <td>26.0</td>\n      <td>37.3</td>\n      <td>...</td>\n      <td>0</td>\n      <td>0</td>\n      <td>0</td>\n      <td>0</td>\n      <td>0</td>\n      <td>0</td>\n      <td>0</td>\n      <td>0</td>\n      <td>0</td>\n      <td>0</td>\n    </tr>\n    <tr>\n      <th>2</th>\n      <td>23</td>\n      <td>31</td>\n      <td>0</td>\n      <td>285.0</td>\n      <td>7.6</td>\n      <td>0.367</td>\n      <td>NaN</td>\n      <td>0.556</td>\n      <td>16.3</td>\n      <td>15.4</td>\n      <td>...</td>\n      <td>0</td>\n      <td>0</td>\n      <td>0</td>\n      <td>0</td>\n      <td>0</td>\n      <td>0</td>\n      <td>0</td>\n      <td>0</td>\n      <td>0</td>\n      <td>0</td>\n    </tr>\n    <tr>\n      <th>3</th>\n      <td>30</td>\n      <td>77</td>\n      <td>0</td>\n      <td>988.0</td>\n      <td>14.0</td>\n      <td>0.551</td>\n      <td>NaN</td>\n      <td>0.619</td>\n      <td>1.2</td>\n      <td>7.3</td>\n      <td>...</td>\n      <td>0</td>\n      <td>0</td>\n      <td>0</td>\n      <td>0</td>\n      <td>0</td>\n      <td>0</td>\n      <td>0</td>\n      <td>0</td>\n      <td>0</td>\n      <td>0</td>\n    </tr>\n    <tr>\n      <th>4</th>\n      <td>29</td>\n      <td>82</td>\n      <td>0</td>\n      <td>2186.0</td>\n      <td>13.6</td>\n      <td>0.484</td>\n      <td>NaN</td>\n      <td>0.238</td>\n      <td>3.5</td>\n      <td>5.2</td>\n      <td>...</td>\n      <td>0</td>\n      <td>0</td>\n      <td>0</td>\n      <td>0</td>\n      <td>0</td>\n      <td>0</td>\n      <td>0</td>\n      <td>0</td>\n      <td>0</td>\n      <td>0</td>\n    </tr>\n  </tbody>\n</table>\n<p>5 rows × 138 columns</p>\n</div>"
     },
     "metadata": {},
     "execution_count": 75
    }
   ],
   "source": [
    "# drop year end and player name\n",
    "Season_Stats_ML_DF=Season_Stats_ML_DF.drop(['Year_season_end','Player'],axis=1)\n",
    "Season_Stats_ML_DF.head()"
   ]
  },
  {
   "cell_type": "code",
   "execution_count": 28,
   "metadata": {
    "id": "BfnLMFVteNzd"
   },
   "outputs": [],
   "source": [
    "#Season_Stats_ML_DF.to_csv(r'C:\\Users\\18323\\Desktop\\Classwork\\Final_Project\\export_dataframe.csv', index = False, header=True)"
   ]
  },
  {
   "cell_type": "code",
   "execution_count": 76,
   "metadata": {
    "id": "uPYKv6aTeNze"
   },
   "outputs": [],
   "source": [
    "#Creating Per Game Statistics\n",
    "\n",
    "#Points per Game\n",
    "Season_Stats_ML_DF[\"PPG\"] = Season_Stats_ML_DF[\"PTS\"]/Season_Stats_ML_DF[\"G\"]\n",
    "#Assits Per Game\n",
    "Season_Stats_ML_DF[\"APG\"] = Season_Stats_ML_DF[\"AST\"]/Season_Stats_ML_DF[\"G\"]\n",
    "#Rebounds Per Game\n",
    "Season_Stats_ML_DF[\"RPG\"] = Season_Stats_ML_DF[\"TRB\"]/Season_Stats_ML_DF[\"G\"]\n",
    "#Blocks Per Game\n",
    "Season_Stats_ML_DF[\"RPG\"] = Season_Stats_ML_DF[\"BLK\"]/Season_Stats_ML_DF[\"G\"]\n",
    "#STLs Per Game\n",
    "Season_Stats_ML_DF[\"SPG\"] = Season_Stats_ML_DF[\"STL\"]/Season_Stats_ML_DF[\"G\"]"
   ]
  },
  {
   "cell_type": "code",
   "execution_count": 97,
   "metadata": {},
   "outputs": [
    {
     "output_type": "execute_result",
     "data": {
      "text/plain": [
       "  Age   G  GS      MP   PER  TS_pct  3PAr    FTr  ORB_pct  DRB_pct  ...  \\\n",
       "0  31  16   0   158.0  11.4   0.449   NaN  0.383     12.4     20.9  ...   \n",
       "1  31   2   0    24.0  11.5   0.279   NaN  0.231     26.0     37.3  ...   \n",
       "2  23  31   0   285.0   7.6   0.367   NaN  0.556     16.3     15.4  ...   \n",
       "3  30  77   0   988.0  14.0   0.551   NaN  0.619      1.2      7.3  ...   \n",
       "4  29  82   0  2186.0  13.6   0.484   NaN  0.238      3.5      5.2  ...   \n",
       "\n",
       "   Year_season_start_2011  Year_season_start_2012  Year_season_start_2013  \\\n",
       "0                       0                       0                       0   \n",
       "1                       0                       0                       0   \n",
       "2                       0                       0                       0   \n",
       "3                       0                       0                       0   \n",
       "4                       0                       0                       0   \n",
       "\n",
       "   Year_season_start_2014  Year_season_start_2015  Year_season_start_2016  \\\n",
       "0                       0                       0                       0   \n",
       "1                       0                       0                       0   \n",
       "2                       0                       0                       0   \n",
       "3                       0                       0                       0   \n",
       "4                       0                       0                       0   \n",
       "\n",
       "         PPG       APG       RPG       SPG  \n",
       "0   3.937500  0.625000  0.187500  0.187500  \n",
       "1   4.000000  1.500000  0.500000  0.500000  \n",
       "2   2.387097  0.709677  0.225806  0.354839  \n",
       "3   6.064935  1.922078  0.064935  0.597403  \n",
       "4  12.329268  2.743902  0.231707  0.829268  \n",
       "\n",
       "[5 rows x 141 columns]"
      ],
      "text/html": "<div>\n<style scoped>\n    .dataframe tbody tr th:only-of-type {\n        vertical-align: middle;\n    }\n\n    .dataframe tbody tr th {\n        vertical-align: top;\n    }\n\n    .dataframe thead th {\n        text-align: right;\n    }\n</style>\n<table border=\"1\" class=\"dataframe\">\n  <thead>\n    <tr style=\"text-align: right;\">\n      <th></th>\n      <th>Age</th>\n      <th>G</th>\n      <th>GS</th>\n      <th>MP</th>\n      <th>PER</th>\n      <th>TS_pct</th>\n      <th>3PAr</th>\n      <th>FTr</th>\n      <th>ORB_pct</th>\n      <th>DRB_pct</th>\n      <th>...</th>\n      <th>Year_season_start_2011</th>\n      <th>Year_season_start_2012</th>\n      <th>Year_season_start_2013</th>\n      <th>Year_season_start_2014</th>\n      <th>Year_season_start_2015</th>\n      <th>Year_season_start_2016</th>\n      <th>PPG</th>\n      <th>APG</th>\n      <th>RPG</th>\n      <th>SPG</th>\n    </tr>\n  </thead>\n  <tbody>\n    <tr>\n      <th>0</th>\n      <td>31</td>\n      <td>16</td>\n      <td>0</td>\n      <td>158.0</td>\n      <td>11.4</td>\n      <td>0.449</td>\n      <td>NaN</td>\n      <td>0.383</td>\n      <td>12.4</td>\n      <td>20.9</td>\n      <td>...</td>\n      <td>0</td>\n      <td>0</td>\n      <td>0</td>\n      <td>0</td>\n      <td>0</td>\n      <td>0</td>\n      <td>3.937500</td>\n      <td>0.625000</td>\n      <td>0.187500</td>\n      <td>0.187500</td>\n    </tr>\n    <tr>\n      <th>1</th>\n      <td>31</td>\n      <td>2</td>\n      <td>0</td>\n      <td>24.0</td>\n      <td>11.5</td>\n      <td>0.279</td>\n      <td>NaN</td>\n      <td>0.231</td>\n      <td>26.0</td>\n      <td>37.3</td>\n      <td>...</td>\n      <td>0</td>\n      <td>0</td>\n      <td>0</td>\n      <td>0</td>\n      <td>0</td>\n      <td>0</td>\n      <td>4.000000</td>\n      <td>1.500000</td>\n      <td>0.500000</td>\n      <td>0.500000</td>\n    </tr>\n    <tr>\n      <th>2</th>\n      <td>23</td>\n      <td>31</td>\n      <td>0</td>\n      <td>285.0</td>\n      <td>7.6</td>\n      <td>0.367</td>\n      <td>NaN</td>\n      <td>0.556</td>\n      <td>16.3</td>\n      <td>15.4</td>\n      <td>...</td>\n      <td>0</td>\n      <td>0</td>\n      <td>0</td>\n      <td>0</td>\n      <td>0</td>\n      <td>0</td>\n      <td>2.387097</td>\n      <td>0.709677</td>\n      <td>0.225806</td>\n      <td>0.354839</td>\n    </tr>\n    <tr>\n      <th>3</th>\n      <td>30</td>\n      <td>77</td>\n      <td>0</td>\n      <td>988.0</td>\n      <td>14.0</td>\n      <td>0.551</td>\n      <td>NaN</td>\n      <td>0.619</td>\n      <td>1.2</td>\n      <td>7.3</td>\n      <td>...</td>\n      <td>0</td>\n      <td>0</td>\n      <td>0</td>\n      <td>0</td>\n      <td>0</td>\n      <td>0</td>\n      <td>6.064935</td>\n      <td>1.922078</td>\n      <td>0.064935</td>\n      <td>0.597403</td>\n    </tr>\n    <tr>\n      <th>4</th>\n      <td>29</td>\n      <td>82</td>\n      <td>0</td>\n      <td>2186.0</td>\n      <td>13.6</td>\n      <td>0.484</td>\n      <td>NaN</td>\n      <td>0.238</td>\n      <td>3.5</td>\n      <td>5.2</td>\n      <td>...</td>\n      <td>0</td>\n      <td>0</td>\n      <td>0</td>\n      <td>0</td>\n      <td>0</td>\n      <td>0</td>\n      <td>12.329268</td>\n      <td>2.743902</td>\n      <td>0.231707</td>\n      <td>0.829268</td>\n    </tr>\n  </tbody>\n</table>\n<p>5 rows × 141 columns</p>\n</div>"
     },
     "metadata": {},
     "execution_count": 97
    }
   ],
   "source": [
    "#machine learning part\n",
    "\n",
    "\n",
    "\n",
    "#Here is the code for how to \"Replace NaN with zero and infinity with large finite numbers.\" using numpy.nan_to_num.\n",
    "\n",
    "Season_Stats_ML_DF[:] = np.nan_to_num(Season_Stats_ML_DF, copy=False)\n",
    "\n",
    "#X = Season_Stats_ML_DF_loans.copy()\n",
    "X = Season_Stats_ML_DF.drop(\"AllNBA_Center\", axis=1)\n",
    "X.head()      \n",
    "                                                                        "
   ]
  },
  {
   "cell_type": "code",
   "execution_count": 98,
   "metadata": {
    "id": "YacLMRO3eNzf"
   },
   "outputs": [
    {
     "output_type": "execute_result",
     "data": {
      "text/plain": [
       "array([[0.],\n",
       "       [0.],\n",
       "       [0.],\n",
       "       [0.],\n",
       "       [0.]])"
      ]
     },
     "metadata": {},
     "execution_count": 98
    }
   ],
   "source": [
    "y = Season_Stats_ML_DF[\"AllNBA_Center\"].values.reshape(-1, 1)\n",
    "y[:5]"
   ]
  },
  {
   "cell_type": "code",
   "execution_count": 99,
   "metadata": {
    "id": "G9_Qoo1BeNzf"
   },
   "outputs": [],
   "source": [
    "# Splitting into Train and Test sets\n",
    "from sklearn.model_selection import train_test_split\n",
    "X_train, X_test, y_train, y_test = train_test_split(X, y, random_state=78)"
   ]
  },
  {
   "cell_type": "code",
   "execution_count": 100,
   "metadata": {
    "id": "k7bw3kGYeNzf"
   },
   "outputs": [],
   "source": [
    "from sklearn.preprocessing import StandardScaler\n",
    "# Creating StandardScaler instance\n",
    "scaler = StandardScaler()\n",
    "# Fitting Standard Scaller\n",
    "X_scaler = scaler.fit(X_train)\n",
    "# Scaling data\n",
    "X_train_scaled = X_scaler.transform(X_train)\n",
    "X_test_scaled = X_scaler.transform(X_test)"
   ]
  },
  {
   "cell_type": "code",
   "execution_count": 101,
   "metadata": {
    "id": "FhN0kBSweNzf"
   },
   "outputs": [
    {
     "output_type": "error",
     "ename": "ValueError",
     "evalue": "Input contains NaN, infinity or a value too large for dtype('float32').",
     "traceback": [
      "\u001b[1;31m---------------------------------------------------------------------------\u001b[0m",
      "\u001b[1;31mValueError\u001b[0m                                Traceback (most recent call last)",
      "\u001b[1;32m<ipython-input-101-ebe393d5ebdc>\u001b[0m in \u001b[0;36m<module>\u001b[1;34m\u001b[0m\n\u001b[0;32m      5\u001b[0m \u001b[0mmodel\u001b[0m \u001b[1;33m=\u001b[0m \u001b[0mtree\u001b[0m\u001b[1;33m.\u001b[0m\u001b[0mDecisionTreeClassifier\u001b[0m\u001b[1;33m(\u001b[0m\u001b[1;33m)\u001b[0m\u001b[1;33m\u001b[0m\u001b[1;33m\u001b[0m\u001b[0m\n\u001b[0;32m      6\u001b[0m \u001b[1;33m\u001b[0m\u001b[0m\n\u001b[1;32m----> 7\u001b[1;33m \u001b[0mmodel\u001b[0m \u001b[1;33m=\u001b[0m \u001b[0mmodel\u001b[0m\u001b[1;33m.\u001b[0m\u001b[0mfit\u001b[0m\u001b[1;33m(\u001b[0m\u001b[0mX_train_scaled\u001b[0m\u001b[1;33m,\u001b[0m \u001b[0my_train\u001b[0m\u001b[1;33m)\u001b[0m\u001b[1;33m\u001b[0m\u001b[1;33m\u001b[0m\u001b[0m\n\u001b[0m\u001b[0;32m      8\u001b[0m \u001b[1;33m\u001b[0m\u001b[0m\n\u001b[0;32m      9\u001b[0m \u001b[1;31m# Making predictions using the testing data\u001b[0m\u001b[1;33m\u001b[0m\u001b[1;33m\u001b[0m\u001b[1;33m\u001b[0m\u001b[0m\n",
      "\u001b[1;32m~\\anaconda3\\envs\\mlenv\\lib\\site-packages\\sklearn\\tree\\_classes.py\u001b[0m in \u001b[0;36mfit\u001b[1;34m(self, X, y, sample_weight, check_input, X_idx_sorted)\u001b[0m\n\u001b[0;32m    900\u001b[0m             \u001b[0msample_weight\u001b[0m\u001b[1;33m=\u001b[0m\u001b[0msample_weight\u001b[0m\u001b[1;33m,\u001b[0m\u001b[1;33m\u001b[0m\u001b[1;33m\u001b[0m\u001b[0m\n\u001b[0;32m    901\u001b[0m             \u001b[0mcheck_input\u001b[0m\u001b[1;33m=\u001b[0m\u001b[0mcheck_input\u001b[0m\u001b[1;33m,\u001b[0m\u001b[1;33m\u001b[0m\u001b[1;33m\u001b[0m\u001b[0m\n\u001b[1;32m--> 902\u001b[1;33m             X_idx_sorted=X_idx_sorted)\n\u001b[0m\u001b[0;32m    903\u001b[0m         \u001b[1;32mreturn\u001b[0m \u001b[0mself\u001b[0m\u001b[1;33m\u001b[0m\u001b[1;33m\u001b[0m\u001b[0m\n\u001b[0;32m    904\u001b[0m \u001b[1;33m\u001b[0m\u001b[0m\n",
      "\u001b[1;32m~\\anaconda3\\envs\\mlenv\\lib\\site-packages\\sklearn\\tree\\_classes.py\u001b[0m in \u001b[0;36mfit\u001b[1;34m(self, X, y, sample_weight, check_input, X_idx_sorted)\u001b[0m\n\u001b[0;32m    156\u001b[0m             X, y = self._validate_data(X, y,\n\u001b[0;32m    157\u001b[0m                                        validate_separately=(check_X_params,\n\u001b[1;32m--> 158\u001b[1;33m                                                             check_y_params))\n\u001b[0m\u001b[0;32m    159\u001b[0m             \u001b[1;32mif\u001b[0m \u001b[0missparse\u001b[0m\u001b[1;33m(\u001b[0m\u001b[0mX\u001b[0m\u001b[1;33m)\u001b[0m\u001b[1;33m:\u001b[0m\u001b[1;33m\u001b[0m\u001b[1;33m\u001b[0m\u001b[0m\n\u001b[0;32m    160\u001b[0m                 \u001b[0mX\u001b[0m\u001b[1;33m.\u001b[0m\u001b[0msort_indices\u001b[0m\u001b[1;33m(\u001b[0m\u001b[1;33m)\u001b[0m\u001b[1;33m\u001b[0m\u001b[1;33m\u001b[0m\u001b[0m\n",
      "\u001b[1;32m~\\anaconda3\\envs\\mlenv\\lib\\site-packages\\sklearn\\base.py\u001b[0m in \u001b[0;36m_validate_data\u001b[1;34m(self, X, y, reset, validate_separately, **check_params)\u001b[0m\n\u001b[0;32m    428\u001b[0m                 \u001b[1;31m# :(\u001b[0m\u001b[1;33m\u001b[0m\u001b[1;33m\u001b[0m\u001b[1;33m\u001b[0m\u001b[0m\n\u001b[0;32m    429\u001b[0m                 \u001b[0mcheck_X_params\u001b[0m\u001b[1;33m,\u001b[0m \u001b[0mcheck_y_params\u001b[0m \u001b[1;33m=\u001b[0m \u001b[0mvalidate_separately\u001b[0m\u001b[1;33m\u001b[0m\u001b[1;33m\u001b[0m\u001b[0m\n\u001b[1;32m--> 430\u001b[1;33m                 \u001b[0mX\u001b[0m \u001b[1;33m=\u001b[0m \u001b[0mcheck_array\u001b[0m\u001b[1;33m(\u001b[0m\u001b[0mX\u001b[0m\u001b[1;33m,\u001b[0m \u001b[1;33m**\u001b[0m\u001b[0mcheck_X_params\u001b[0m\u001b[1;33m)\u001b[0m\u001b[1;33m\u001b[0m\u001b[1;33m\u001b[0m\u001b[0m\n\u001b[0m\u001b[0;32m    431\u001b[0m                 \u001b[0my\u001b[0m \u001b[1;33m=\u001b[0m \u001b[0mcheck_array\u001b[0m\u001b[1;33m(\u001b[0m\u001b[0my\u001b[0m\u001b[1;33m,\u001b[0m \u001b[1;33m**\u001b[0m\u001b[0mcheck_y_params\u001b[0m\u001b[1;33m)\u001b[0m\u001b[1;33m\u001b[0m\u001b[1;33m\u001b[0m\u001b[0m\n\u001b[0;32m    432\u001b[0m             \u001b[1;32melse\u001b[0m\u001b[1;33m:\u001b[0m\u001b[1;33m\u001b[0m\u001b[1;33m\u001b[0m\u001b[0m\n",
      "\u001b[1;32m~\\anaconda3\\envs\\mlenv\\lib\\site-packages\\sklearn\\utils\\validation.py\u001b[0m in \u001b[0;36minner_f\u001b[1;34m(*args, **kwargs)\u001b[0m\n\u001b[0;32m     61\u001b[0m             \u001b[0mextra_args\u001b[0m \u001b[1;33m=\u001b[0m \u001b[0mlen\u001b[0m\u001b[1;33m(\u001b[0m\u001b[0margs\u001b[0m\u001b[1;33m)\u001b[0m \u001b[1;33m-\u001b[0m \u001b[0mlen\u001b[0m\u001b[1;33m(\u001b[0m\u001b[0mall_args\u001b[0m\u001b[1;33m)\u001b[0m\u001b[1;33m\u001b[0m\u001b[1;33m\u001b[0m\u001b[0m\n\u001b[0;32m     62\u001b[0m             \u001b[1;32mif\u001b[0m \u001b[0mextra_args\u001b[0m \u001b[1;33m<=\u001b[0m \u001b[1;36m0\u001b[0m\u001b[1;33m:\u001b[0m\u001b[1;33m\u001b[0m\u001b[1;33m\u001b[0m\u001b[0m\n\u001b[1;32m---> 63\u001b[1;33m                 \u001b[1;32mreturn\u001b[0m \u001b[0mf\u001b[0m\u001b[1;33m(\u001b[0m\u001b[1;33m*\u001b[0m\u001b[0margs\u001b[0m\u001b[1;33m,\u001b[0m \u001b[1;33m**\u001b[0m\u001b[0mkwargs\u001b[0m\u001b[1;33m)\u001b[0m\u001b[1;33m\u001b[0m\u001b[1;33m\u001b[0m\u001b[0m\n\u001b[0m\u001b[0;32m     64\u001b[0m \u001b[1;33m\u001b[0m\u001b[0m\n\u001b[0;32m     65\u001b[0m             \u001b[1;31m# extra_args > 0\u001b[0m\u001b[1;33m\u001b[0m\u001b[1;33m\u001b[0m\u001b[1;33m\u001b[0m\u001b[0m\n",
      "\u001b[1;32m~\\anaconda3\\envs\\mlenv\\lib\\site-packages\\sklearn\\utils\\validation.py\u001b[0m in \u001b[0;36mcheck_array\u001b[1;34m(array, accept_sparse, accept_large_sparse, dtype, order, copy, force_all_finite, ensure_2d, allow_nd, ensure_min_samples, ensure_min_features, estimator)\u001b[0m\n\u001b[0;32m    662\u001b[0m         \u001b[1;32mif\u001b[0m \u001b[0mforce_all_finite\u001b[0m\u001b[1;33m:\u001b[0m\u001b[1;33m\u001b[0m\u001b[1;33m\u001b[0m\u001b[0m\n\u001b[0;32m    663\u001b[0m             _assert_all_finite(array,\n\u001b[1;32m--> 664\u001b[1;33m                                allow_nan=force_all_finite == 'allow-nan')\n\u001b[0m\u001b[0;32m    665\u001b[0m \u001b[1;33m\u001b[0m\u001b[0m\n\u001b[0;32m    666\u001b[0m     \u001b[1;32mif\u001b[0m \u001b[0mensure_min_samples\u001b[0m \u001b[1;33m>\u001b[0m \u001b[1;36m0\u001b[0m\u001b[1;33m:\u001b[0m\u001b[1;33m\u001b[0m\u001b[1;33m\u001b[0m\u001b[0m\n",
      "\u001b[1;32m~\\anaconda3\\envs\\mlenv\\lib\\site-packages\\sklearn\\utils\\validation.py\u001b[0m in \u001b[0;36m_assert_all_finite\u001b[1;34m(X, allow_nan, msg_dtype)\u001b[0m\n\u001b[0;32m    104\u001b[0m                     \u001b[0mmsg_err\u001b[0m\u001b[1;33m.\u001b[0m\u001b[0mformat\u001b[0m\u001b[1;33m\u001b[0m\u001b[1;33m\u001b[0m\u001b[0m\n\u001b[0;32m    105\u001b[0m                     (type_err,\n\u001b[1;32m--> 106\u001b[1;33m                      msg_dtype if msg_dtype is not None else X.dtype)\n\u001b[0m\u001b[0;32m    107\u001b[0m             )\n\u001b[0;32m    108\u001b[0m     \u001b[1;31m# for object dtype data, we only check for NaNs (GH-13254)\u001b[0m\u001b[1;33m\u001b[0m\u001b[1;33m\u001b[0m\u001b[1;33m\u001b[0m\u001b[0m\n",
      "\u001b[1;31mValueError\u001b[0m: Input contains NaN, infinity or a value too large for dtype('float32')."
     ]
    }
   ],
   "source": [
    "from sklearn import tree\n",
    "from sklearn.metrics import confusion_matrix, accuracy_score, classification_report\n",
    "\n",
    "# Creating the decision tree classifier instance\n",
    "model = tree.DecisionTreeClassifier()\n",
    "\n",
    "model = model.fit(X_train_scaled, y_train)\n",
    "\n",
    "# Making predictions using the testing data\n",
    "predictions = model.predict(X_test_scaled)\n",
    "predictions\n",
    "\n",
    "\n",
    "\n",
    "# Calculating the confusion matrix\n",
    "cm = confusion_matrix(y_test, predictions)\n",
    "cm_df = pd.DataFrame(\n",
    "    cm, index=[\"Actual 0\", \"Actual 1\"], columns=[\"Predicted 0\", \"Predicted 1\"]\n",
    ")\n",
    "\n",
    "# Calculating the accuracy score\n",
    "acc_score = accuracy_score(y_test, predictions)"
   ]
  },
  {
   "cell_type": "code",
   "execution_count": 111,
   "metadata": {
    "id": "JkzjqTtLeNzg"
   },
   "outputs": [
    {
     "name": "stdout",
     "output_type": "stream",
     "text": [
      "Confusion Matrix\n"
     ]
    },
    {
     "data": {
      "text/html": [
       "<div>\n",
       "<style scoped>\n",
       "    .dataframe tbody tr th:only-of-type {\n",
       "        vertical-align: middle;\n",
       "    }\n",
       "\n",
       "    .dataframe tbody tr th {\n",
       "        vertical-align: top;\n",
       "    }\n",
       "\n",
       "    .dataframe thead th {\n",
       "        text-align: right;\n",
       "    }\n",
       "</style>\n",
       "<table border=\"1\" class=\"dataframe\">\n",
       "  <thead>\n",
       "    <tr style=\"text-align: right;\">\n",
       "      <th></th>\n",
       "      <th>Predicted 0</th>\n",
       "      <th>Predicted 1</th>\n",
       "    </tr>\n",
       "  </thead>\n",
       "  <tbody>\n",
       "    <tr>\n",
       "      <th>Actual 0</th>\n",
       "      <td>4868</td>\n",
       "      <td>12</td>\n",
       "    </tr>\n",
       "    <tr>\n",
       "      <th>Actual 1</th>\n",
       "      <td>13</td>\n",
       "      <td>19</td>\n",
       "    </tr>\n",
       "  </tbody>\n",
       "</table>\n",
       "</div>"
      ],
      "text/plain": [
       "          Predicted 0  Predicted 1\n",
       "Actual 0         4868           12\n",
       "Actual 1           13           19"
      ]
     },
     "metadata": {},
     "output_type": "display_data"
    },
    {
     "name": "stdout",
     "output_type": "stream",
     "text": [
      "Accuracy Score : 0.9949104234527687\n",
      "Classification Report\n",
      "              precision    recall  f1-score   support\n",
      "\n",
      "         0.0       1.00      1.00      1.00      4880\n",
      "         1.0       0.61      0.59      0.60        32\n",
      "\n",
      "    accuracy                           0.99      4912\n",
      "   macro avg       0.81      0.80      0.80      4912\n",
      "weighted avg       0.99      0.99      0.99      4912\n",
      "\n"
     ]
    }
   ],
   "source": [
    "# Displaying results\n",
    "print(\"Confusion Matrix\")\n",
    "display(cm_df)\n",
    "print(f\"Accuracy Score : {acc_score}\")\n",
    "print(\"Classification Report\")\n",
    "print(classification_report(y_test, predictions))"
   ]
  },
  {
   "cell_type": "code",
   "execution_count": 112,
   "metadata": {},
   "outputs": [
    {
     "data": {
      "text/plain": [
       "[(0.18440061237719257, 'PER'),\n",
       " (0.13709008135843312, 'is_Center'),\n",
       " (0.13695379012553704, 'BLK'),\n",
       " (0.0716822910892883, 'FTA'),\n",
       " (0.060667410101976155, 'Tm_3rd'),\n",
       " (0.04994119259882496, 'DWS'),\n",
       " (0.044133977665195376, 'FT'),\n",
       " (0.04174602536628056, 'TOV'),\n",
       " (0.039514204447141064, 'RPG'),\n",
       " (0.03942428445946935, 'TOV%'),\n",
       " (0.03803465030122715, 'ORB'),\n",
       " (0.03321468453682746, 'BLK%'),\n",
       " (0.021816803316821398, 'TRB'),\n",
       " (0.016650463086935196, 'TRB%'),\n",
       " (0.012544661907172306, '2P'),\n",
       " (0.011977852801392144, 'FGA'),\n",
       " (0.011312416534648132, 'GS'),\n",
       " (0.011135660026294255, 'BPM'),\n",
       " (0.0096963570296984, 'DRB%'),\n",
       " (0.009544851451109362, 'AST'),\n",
       " (0.009544851451109362, '3PAr'),\n",
       " (0.008484312400986098, 'DBPM'),\n",
       " (0.0004885655664402371, 'WS/48'),\n",
       " (0.0, 'is_Guard'),\n",
       " (0.0, 'is_Forward'),\n",
       " (0.0, 'eFG%'),\n",
       " (0.0, 'Year_season_start_2016'),\n",
       " (0.0, 'Year_season_start_2015'),\n",
       " (0.0, 'Year_season_start_2014'),\n",
       " (0.0, 'Year_season_start_2013'),\n",
       " (0.0, 'Year_season_start_2012'),\n",
       " (0.0, 'Year_season_start_2011'),\n",
       " (0.0, 'Year_season_start_2010'),\n",
       " (0.0, 'Year_season_start_2009'),\n",
       " (0.0, 'Year_season_start_2008'),\n",
       " (0.0, 'Year_season_start_2007'),\n",
       " (0.0, 'Year_season_start_2006'),\n",
       " (0.0, 'Year_season_start_2005'),\n",
       " (0.0, 'Year_season_start_2004'),\n",
       " (0.0, 'Year_season_start_2003'),\n",
       " (0.0, 'Year_season_start_2002'),\n",
       " (0.0, 'Year_season_start_2001'),\n",
       " (0.0, 'Year_season_start_2000'),\n",
       " (0.0, 'Year_season_start_1999'),\n",
       " (0.0, 'Year_season_start_1998'),\n",
       " (0.0, 'Year_season_start_1997'),\n",
       " (0.0, 'Year_season_start_1996'),\n",
       " (0.0, 'Year_season_start_1995'),\n",
       " (0.0, 'Year_season_start_1994'),\n",
       " (0.0, 'Year_season_start_1993'),\n",
       " (0.0, 'Year_season_start_1992'),\n",
       " (0.0, 'Year_season_start_1991'),\n",
       " (0.0, 'Year_season_start_1990'),\n",
       " (0.0, 'Year_season_start_1989'),\n",
       " (0.0, 'Year_season_start_1988'),\n",
       " (0.0, 'Year_season_start_1987'),\n",
       " (0.0, 'Year_season_start_1986'),\n",
       " (0.0, 'Year_season_start_1985'),\n",
       " (0.0, 'Year_season_start_1984'),\n",
       " (0.0, 'Year_season_start_1983'),\n",
       " (0.0, 'Year_season_start_1982'),\n",
       " (0.0, 'Year_season_start_1981'),\n",
       " (0.0, 'Year_season_start_1980'),\n",
       " (0.0, 'Year_season_start_1979'),\n",
       " (0.0, 'Year_season_start_1978'),\n",
       " (0.0, 'Year_season_start_1977'),\n",
       " (0.0, 'WS'),\n",
       " (0.0, 'VORP'),\n",
       " (0.0, 'USG%'),\n",
       " (0.0, 'Tm_WSB'),\n",
       " (0.0, 'Tm_WAS'),\n",
       " (0.0, 'Tm_VAN'),\n",
       " (0.0, 'Tm_UTA'),\n",
       " (0.0, 'Tm_TOT'),\n",
       " (0.0, 'Tm_TOR'),\n",
       " (0.0, 'Tm_SEA'),\n",
       " (0.0, 'Tm_SDC'),\n",
       " (0.0, 'Tm_SAS'),\n",
       " (0.0, 'Tm_SAC'),\n",
       " (0.0, 'Tm_POR'),\n",
       " (0.0, 'Tm_PHO'),\n",
       " (0.0, 'Tm_PHI'),\n",
       " (0.0, 'Tm_ORL'),\n",
       " (0.0, 'Tm_OKC'),\n",
       " (0.0, 'Tm_NYK'),\n",
       " (0.0, 'Tm_NOP'),\n",
       " (0.0, 'Tm_NOK'),\n",
       " (0.0, 'Tm_NOJ'),\n",
       " (0.0, 'Tm_NOH'),\n",
       " (0.0, 'Tm_NJN'),\n",
       " (0.0, 'Tm_MIN'),\n",
       " (0.0, 'Tm_MIL'),\n",
       " (0.0, 'Tm_MIA'),\n",
       " (0.0, 'Tm_MEM'),\n",
       " (0.0, 'Tm_LAL'),\n",
       " (0.0, 'Tm_LAC'),\n",
       " (0.0, 'Tm_KCK'),\n",
       " (0.0, 'Tm_IND'),\n",
       " (0.0, 'Tm_HOU'),\n",
       " (0.0, 'Tm_GSW'),\n",
       " (0.0, 'Tm_DET'),\n",
       " (0.0, 'Tm_DEN'),\n",
       " (0.0, 'Tm_DAL'),\n",
       " (0.0, 'Tm_CLE'),\n",
       " (0.0, 'Tm_CHO'),\n",
       " (0.0, 'Tm_CHI'),\n",
       " (0.0, 'Tm_CHH'),\n",
       " (0.0, 'Tm_CHA'),\n",
       " (0.0, 'Tm_BUF'),\n",
       " (0.0, 'Tm_BRK'),\n",
       " (0.0, 'Tm_BOS'),\n",
       " (0.0, 'Tm_ATL'),\n",
       " (0.0, 'Tm_2nd'),\n",
       " (0.0, 'Tm_1st'),\n",
       " (0.0, 'TS%'),\n",
       " (0.0, 'STL%'),\n",
       " (0.0, 'STL'),\n",
       " (0.0, 'SPG'),\n",
       " (0.0, 'PTS'),\n",
       " (0.0, 'PPG'),\n",
       " (0.0, 'PF'),\n",
       " (0.0, 'OWS'),\n",
       " (0.0, 'ORB%'),\n",
       " (0.0, 'OBPM'),\n",
       " (0.0, 'MP'),\n",
       " (0.0, 'G'),\n",
       " (0.0, 'FTr'),\n",
       " (0.0, 'FT%'),\n",
       " (0.0, 'FG%'),\n",
       " (0.0, 'FG'),\n",
       " (0.0, 'DRB'),\n",
       " (0.0, 'AllNBA_Guard'),\n",
       " (0.0, 'AllNBA_Forward'),\n",
       " (0.0, 'Age'),\n",
       " (0.0, 'AST%'),\n",
       " (0.0, 'APG'),\n",
       " (0.0, '3PA'),\n",
       " (0.0, '3P%'),\n",
       " (0.0, '3P'),\n",
       " (0.0, '2PA'),\n",
       " (0.0, '2P%')]"
      ]
     },
     "execution_count": 112,
     "metadata": {},
     "output_type": "execute_result"
    }
   ],
   "source": [
    "model  = model .fit(X_train_scaled, y_train)\n",
    "\n",
    "importances =model.feature_importances_\n",
    "importances\n",
    "\n",
    "# We can sort the features by their importance.\n",
    "sorted(zip(model.feature_importances_, X.columns), reverse=True)"
   ]
  },
  {
   "cell_type": "code",
   "execution_count": 113,
   "metadata": {},
   "outputs": [
    {
     "data": {
      "text/html": [
       "<div>\n",
       "<style scoped>\n",
       "    .dataframe tbody tr th:only-of-type {\n",
       "        vertical-align: middle;\n",
       "    }\n",
       "\n",
       "    .dataframe tbody tr th {\n",
       "        vertical-align: top;\n",
       "    }\n",
       "\n",
       "    .dataframe thead th {\n",
       "        text-align: right;\n",
       "    }\n",
       "</style>\n",
       "<table border=\"1\" class=\"dataframe\">\n",
       "  <thead>\n",
       "    <tr style=\"text-align: right;\">\n",
       "      <th></th>\n",
       "      <th>Age</th>\n",
       "      <th>G</th>\n",
       "      <th>GS</th>\n",
       "      <th>MP</th>\n",
       "      <th>PER</th>\n",
       "      <th>TS%</th>\n",
       "      <th>3PAr</th>\n",
       "      <th>FTr</th>\n",
       "      <th>ORB%</th>\n",
       "      <th>DRB%</th>\n",
       "      <th>...</th>\n",
       "      <th>Year_season_start_2011</th>\n",
       "      <th>Year_season_start_2012</th>\n",
       "      <th>Year_season_start_2013</th>\n",
       "      <th>Year_season_start_2014</th>\n",
       "      <th>Year_season_start_2015</th>\n",
       "      <th>Year_season_start_2016</th>\n",
       "      <th>PPG</th>\n",
       "      <th>APG</th>\n",
       "      <th>RPG</th>\n",
       "      <th>SPG</th>\n",
       "    </tr>\n",
       "  </thead>\n",
       "  <tbody>\n",
       "    <tr>\n",
       "      <th>0</th>\n",
       "      <td>24.0</td>\n",
       "      <td>22.0</td>\n",
       "      <td>0.0</td>\n",
       "      <td>163.0</td>\n",
       "      <td>8.4</td>\n",
       "      <td>0.472</td>\n",
       "      <td>0.238</td>\n",
       "      <td>0.476</td>\n",
       "      <td>5.4</td>\n",
       "      <td>20.9</td>\n",
       "      <td>...</td>\n",
       "      <td>0.0</td>\n",
       "      <td>0.0</td>\n",
       "      <td>0.0</td>\n",
       "      <td>0.0</td>\n",
       "      <td>0.0</td>\n",
       "      <td>1.0</td>\n",
       "      <td>2.181818</td>\n",
       "      <td>0.181818</td>\n",
       "      <td>0.590909</td>\n",
       "      <td>0.045455</td>\n",
       "    </tr>\n",
       "    <tr>\n",
       "      <th>1</th>\n",
       "      <td>32.0</td>\n",
       "      <td>65.0</td>\n",
       "      <td>0.0</td>\n",
       "      <td>894.0</td>\n",
       "      <td>9.5</td>\n",
       "      <td>0.507</td>\n",
       "      <td>0.427</td>\n",
       "      <td>0.133</td>\n",
       "      <td>2.3</td>\n",
       "      <td>6.3</td>\n",
       "      <td>...</td>\n",
       "      <td>0.0</td>\n",
       "      <td>0.0</td>\n",
       "      <td>0.0</td>\n",
       "      <td>0.0</td>\n",
       "      <td>0.0</td>\n",
       "      <td>1.0</td>\n",
       "      <td>4.953846</td>\n",
       "      <td>1.923077</td>\n",
       "      <td>0.138462</td>\n",
       "      <td>0.384615</td>\n",
       "    </tr>\n",
       "    <tr>\n",
       "      <th>2</th>\n",
       "      <td>21.0</td>\n",
       "      <td>80.0</td>\n",
       "      <td>72.0</td>\n",
       "      <td>2298.0</td>\n",
       "      <td>14.4</td>\n",
       "      <td>0.530</td>\n",
       "      <td>0.309</td>\n",
       "      <td>0.251</td>\n",
       "      <td>5.3</td>\n",
       "      <td>14.1</td>\n",
       "      <td>...</td>\n",
       "      <td>0.0</td>\n",
       "      <td>0.0</td>\n",
       "      <td>0.0</td>\n",
       "      <td>0.0</td>\n",
       "      <td>0.0</td>\n",
       "      <td>1.0</td>\n",
       "      <td>12.737500</td>\n",
       "      <td>1.875000</td>\n",
       "      <td>0.500000</td>\n",
       "      <td>0.800000</td>\n",
       "    </tr>\n",
       "    <tr>\n",
       "      <th>3</th>\n",
       "      <td>22.0</td>\n",
       "      <td>5.0</td>\n",
       "      <td>0.0</td>\n",
       "      <td>17.0</td>\n",
       "      <td>-2.2</td>\n",
       "      <td>0.102</td>\n",
       "      <td>0.500</td>\n",
       "      <td>0.500</td>\n",
       "      <td>0.0</td>\n",
       "      <td>19.5</td>\n",
       "      <td>...</td>\n",
       "      <td>0.0</td>\n",
       "      <td>0.0</td>\n",
       "      <td>0.0</td>\n",
       "      <td>0.0</td>\n",
       "      <td>0.0</td>\n",
       "      <td>1.0</td>\n",
       "      <td>0.200000</td>\n",
       "      <td>0.600000</td>\n",
       "      <td>0.000000</td>\n",
       "      <td>0.000000</td>\n",
       "    </tr>\n",
       "    <tr>\n",
       "      <th>4</th>\n",
       "      <td>25.0</td>\n",
       "      <td>18.0</td>\n",
       "      <td>0.0</td>\n",
       "      <td>135.0</td>\n",
       "      <td>14.4</td>\n",
       "      <td>0.505</td>\n",
       "      <td>0.278</td>\n",
       "      <td>0.352</td>\n",
       "      <td>7.7</td>\n",
       "      <td>21.0</td>\n",
       "      <td>...</td>\n",
       "      <td>0.0</td>\n",
       "      <td>0.0</td>\n",
       "      <td>0.0</td>\n",
       "      <td>0.0</td>\n",
       "      <td>0.0</td>\n",
       "      <td>1.0</td>\n",
       "      <td>3.500000</td>\n",
       "      <td>0.388889</td>\n",
       "      <td>0.388889</td>\n",
       "      <td>0.444444</td>\n",
       "    </tr>\n",
       "  </tbody>\n",
       "</table>\n",
       "<p>5 rows × 141 columns</p>\n",
       "</div>"
      ],
      "text/plain": [
       "    Age     G    GS      MP   PER    TS%   3PAr    FTr  ORB%  DRB%  ...  \\\n",
       "0  24.0  22.0   0.0   163.0   8.4  0.472  0.238  0.476   5.4  20.9  ...   \n",
       "1  32.0  65.0   0.0   894.0   9.5  0.507  0.427  0.133   2.3   6.3  ...   \n",
       "2  21.0  80.0  72.0  2298.0  14.4  0.530  0.309  0.251   5.3  14.1  ...   \n",
       "3  22.0   5.0   0.0    17.0  -2.2  0.102  0.500  0.500   0.0  19.5  ...   \n",
       "4  25.0  18.0   0.0   135.0  14.4  0.505  0.278  0.352   7.7  21.0  ...   \n",
       "\n",
       "   Year_season_start_2011  Year_season_start_2012  Year_season_start_2013  \\\n",
       "0                     0.0                     0.0                     0.0   \n",
       "1                     0.0                     0.0                     0.0   \n",
       "2                     0.0                     0.0                     0.0   \n",
       "3                     0.0                     0.0                     0.0   \n",
       "4                     0.0                     0.0                     0.0   \n",
       "\n",
       "   Year_season_start_2014  Year_season_start_2015  Year_season_start_2016  \\\n",
       "0                     0.0                     0.0                     1.0   \n",
       "1                     0.0                     0.0                     1.0   \n",
       "2                     0.0                     0.0                     1.0   \n",
       "3                     0.0                     0.0                     1.0   \n",
       "4                     0.0                     0.0                     1.0   \n",
       "\n",
       "         PPG       APG       RPG       SPG  \n",
       "0   2.181818  0.181818  0.590909  0.045455  \n",
       "1   4.953846  1.923077  0.138462  0.384615  \n",
       "2  12.737500  1.875000  0.500000  0.800000  \n",
       "3   0.200000  0.600000  0.000000  0.000000  \n",
       "4   3.500000  0.388889  0.388889  0.444444  \n",
       "\n",
       "[5 rows x 141 columns]"
      ]
     },
     "execution_count": 113,
     "metadata": {},
     "output_type": "execute_result"
    }
   ],
   "source": [
    "###MACHINE LEARNING FOR GUARD\n",
    "\n",
    "Season_Stats_ML_DF[:] = np.nan_to_num(Season_Stats_ML_DF)\n",
    "\n",
    "#X = Season_Stats_ML_DF_loans.copy()\n",
    "X = Season_Stats_ML_DF.drop(\"AllNBA_Guard\", axis=1)\n",
    "X.head()        \n",
    "                    \n",
    "\n"
   ]
  },
  {
   "cell_type": "code",
   "execution_count": 114,
   "metadata": {},
   "outputs": [
    {
     "data": {
      "text/plain": [
       "array([[0.],\n",
       "       [0.],\n",
       "       [0.],\n",
       "       [0.],\n",
       "       [0.]])"
      ]
     },
     "execution_count": 114,
     "metadata": {},
     "output_type": "execute_result"
    }
   ],
   "source": [
    "y = Season_Stats_ML_DF[\"AllNBA_Guard\"].values.reshape(-1, 1)\n",
    "y[:5]"
   ]
  },
  {
   "cell_type": "code",
   "execution_count": 115,
   "metadata": {},
   "outputs": [],
   "source": [
    "# Splitting into Train and Test sets\n",
    "from sklearn.model_selection import train_test_split\n",
    "X_train, X_test, y_train, y_test = train_test_split(X, y, random_state=78)\n",
    "\n",
    "from sklearn.preprocessing import StandardScaler\n",
    "# Creating StandardScaler instance\n",
    "scaler = StandardScaler()\n",
    "# Fitting Standard Scaller\n",
    "X_scaler = scaler.fit(X_train)\n",
    "# Scaling data\n",
    "X_train_scaled = X_scaler.transform(X_train)\n",
    "X_test_scaled = X_scaler.transform(X_test)\n",
    "\n",
    "\n",
    "import pandas as pd\n",
    "from path import Path\n",
    "from sklearn import tree\n",
    "from sklearn.preprocessing import StandardScaler\n",
    "from sklearn.model_selection import train_test_split\n",
    "from sklearn.metrics import confusion_matrix, accuracy_score, classification_report\n",
    "from sklearn import tree\n",
    "# Creating the decision tree classifier instance\n",
    "model = tree.DecisionTreeClassifier()\n",
    "\n",
    "model = model.fit(X_train_scaled, y_train)\n",
    "\n",
    "# Making predictions using the testing data\n",
    "predictions = model.predict(X_test_scaled)\n",
    "predictions\n",
    "\n",
    "\n",
    "\n",
    "# Calculating the confusion matrix\n",
    "cm = confusion_matrix(y_test, predictions)\n",
    "cm_df = pd.DataFrame(\n",
    "    cm, index=[\"Actual 0\", \"Actual 1\"], columns=[\"Predicted 0\", \"Predicted 1\"]\n",
    ")\n",
    "\n",
    "# Calculating the accuracy score\n",
    "acc_score = accuracy_score(y_test, predictions)\n",
    "\n"
   ]
  },
  {
   "cell_type": "code",
   "execution_count": 116,
   "metadata": {},
   "outputs": [
    {
     "name": "stdout",
     "output_type": "stream",
     "text": [
      "Confusion Matrix\n"
     ]
    },
    {
     "data": {
      "text/html": [
       "<div>\n",
       "<style scoped>\n",
       "    .dataframe tbody tr th:only-of-type {\n",
       "        vertical-align: middle;\n",
       "    }\n",
       "\n",
       "    .dataframe tbody tr th {\n",
       "        vertical-align: top;\n",
       "    }\n",
       "\n",
       "    .dataframe thead th {\n",
       "        text-align: right;\n",
       "    }\n",
       "</style>\n",
       "<table border=\"1\" class=\"dataframe\">\n",
       "  <thead>\n",
       "    <tr style=\"text-align: right;\">\n",
       "      <th></th>\n",
       "      <th>Predicted 0</th>\n",
       "      <th>Predicted 1</th>\n",
       "    </tr>\n",
       "  </thead>\n",
       "  <tbody>\n",
       "    <tr>\n",
       "      <th>Actual 0</th>\n",
       "      <td>4845</td>\n",
       "      <td>3</td>\n",
       "    </tr>\n",
       "    <tr>\n",
       "      <th>Actual 1</th>\n",
       "      <td>5</td>\n",
       "      <td>59</td>\n",
       "    </tr>\n",
       "  </tbody>\n",
       "</table>\n",
       "</div>"
      ],
      "text/plain": [
       "          Predicted 0  Predicted 1\n",
       "Actual 0         4845            3\n",
       "Actual 1            5           59"
      ]
     },
     "metadata": {},
     "output_type": "display_data"
    },
    {
     "name": "stdout",
     "output_type": "stream",
     "text": [
      "Accuracy Score : 0.998371335504886\n",
      "Classification Report\n",
      "              precision    recall  f1-score   support\n",
      "\n",
      "         0.0       1.00      1.00      1.00      4848\n",
      "         1.0       0.95      0.92      0.94        64\n",
      "\n",
      "    accuracy                           1.00      4912\n",
      "   macro avg       0.98      0.96      0.97      4912\n",
      "weighted avg       1.00      1.00      1.00      4912\n",
      "\n"
     ]
    }
   ],
   "source": [
    "# Displaying results\n",
    "print(\"Confusion Matrix\")\n",
    "display(cm_df)\n",
    "print(f\"Accuracy Score : {acc_score}\")\n",
    "print(\"Classification Report\")\n",
    "print(classification_report(y_test, predictions))"
   ]
  },
  {
   "cell_type": "code",
   "execution_count": 117,
   "metadata": {},
   "outputs": [
    {
     "data": {
      "text/plain": [
       "[(0.35454923945672473, 'is_Guard'),\n",
       " (0.20448994975955698, 'OBPM'),\n",
       " (0.12687503983229448, 'FG'),\n",
       " (0.09934425237342207, 'Tm_2nd'),\n",
       " (0.06520294435267887, 'Tm_3rd'),\n",
       " (0.053183954775460375, 'PER'),\n",
       " (0.02948807890087942, 'Tm_1st'),\n",
       " (0.01590057093197373, 'DWS'),\n",
       " (0.010236359293918406, 'FTr'),\n",
       " (0.007982041773122854, 'TOV'),\n",
       " (0.00710858284299889, 'OWS'),\n",
       " (0.006303640374012259, 'ORB'),\n",
       " (0.005686866274399115, 'STL%'),\n",
       " (0.005118179646959201, 'GS'),\n",
       " (0.004265149705799335, 'eFG%'),\n",
       " (0.004265149705799335, '2P%'),\n",
       " (0.0, 'is_Forward'),\n",
       " (0.0, 'is_Center'),\n",
       " (0.0, 'Year_season_start_2016'),\n",
       " (0.0, 'Year_season_start_2015'),\n",
       " (0.0, 'Year_season_start_2014'),\n",
       " (0.0, 'Year_season_start_2013'),\n",
       " (0.0, 'Year_season_start_2012'),\n",
       " (0.0, 'Year_season_start_2011'),\n",
       " (0.0, 'Year_season_start_2010'),\n",
       " (0.0, 'Year_season_start_2009'),\n",
       " (0.0, 'Year_season_start_2008'),\n",
       " (0.0, 'Year_season_start_2007'),\n",
       " (0.0, 'Year_season_start_2006'),\n",
       " (0.0, 'Year_season_start_2005'),\n",
       " (0.0, 'Year_season_start_2004'),\n",
       " (0.0, 'Year_season_start_2003'),\n",
       " (0.0, 'Year_season_start_2002'),\n",
       " (0.0, 'Year_season_start_2001'),\n",
       " (0.0, 'Year_season_start_2000'),\n",
       " (0.0, 'Year_season_start_1999'),\n",
       " (0.0, 'Year_season_start_1998'),\n",
       " (0.0, 'Year_season_start_1997'),\n",
       " (0.0, 'Year_season_start_1996'),\n",
       " (0.0, 'Year_season_start_1995'),\n",
       " (0.0, 'Year_season_start_1994'),\n",
       " (0.0, 'Year_season_start_1993'),\n",
       " (0.0, 'Year_season_start_1992'),\n",
       " (0.0, 'Year_season_start_1991'),\n",
       " (0.0, 'Year_season_start_1990'),\n",
       " (0.0, 'Year_season_start_1989'),\n",
       " (0.0, 'Year_season_start_1988'),\n",
       " (0.0, 'Year_season_start_1987'),\n",
       " (0.0, 'Year_season_start_1986'),\n",
       " (0.0, 'Year_season_start_1985'),\n",
       " (0.0, 'Year_season_start_1984'),\n",
       " (0.0, 'Year_season_start_1983'),\n",
       " (0.0, 'Year_season_start_1982'),\n",
       " (0.0, 'Year_season_start_1981'),\n",
       " (0.0, 'Year_season_start_1980'),\n",
       " (0.0, 'Year_season_start_1979'),\n",
       " (0.0, 'Year_season_start_1978'),\n",
       " (0.0, 'Year_season_start_1977'),\n",
       " (0.0, 'WS/48'),\n",
       " (0.0, 'WS'),\n",
       " (0.0, 'VORP'),\n",
       " (0.0, 'USG%'),\n",
       " (0.0, 'Tm_WSB'),\n",
       " (0.0, 'Tm_WAS'),\n",
       " (0.0, 'Tm_VAN'),\n",
       " (0.0, 'Tm_UTA'),\n",
       " (0.0, 'Tm_TOT'),\n",
       " (0.0, 'Tm_TOR'),\n",
       " (0.0, 'Tm_SEA'),\n",
       " (0.0, 'Tm_SDC'),\n",
       " (0.0, 'Tm_SAS'),\n",
       " (0.0, 'Tm_SAC'),\n",
       " (0.0, 'Tm_POR'),\n",
       " (0.0, 'Tm_PHO'),\n",
       " (0.0, 'Tm_PHI'),\n",
       " (0.0, 'Tm_ORL'),\n",
       " (0.0, 'Tm_OKC'),\n",
       " (0.0, 'Tm_NYK'),\n",
       " (0.0, 'Tm_NOP'),\n",
       " (0.0, 'Tm_NOK'),\n",
       " (0.0, 'Tm_NOJ'),\n",
       " (0.0, 'Tm_NOH'),\n",
       " (0.0, 'Tm_NJN'),\n",
       " (0.0, 'Tm_MIN'),\n",
       " (0.0, 'Tm_MIL'),\n",
       " (0.0, 'Tm_MIA'),\n",
       " (0.0, 'Tm_MEM'),\n",
       " (0.0, 'Tm_LAL'),\n",
       " (0.0, 'Tm_LAC'),\n",
       " (0.0, 'Tm_KCK'),\n",
       " (0.0, 'Tm_IND'),\n",
       " (0.0, 'Tm_HOU'),\n",
       " (0.0, 'Tm_GSW'),\n",
       " (0.0, 'Tm_DET'),\n",
       " (0.0, 'Tm_DEN'),\n",
       " (0.0, 'Tm_DAL'),\n",
       " (0.0, 'Tm_CLE'),\n",
       " (0.0, 'Tm_CHO'),\n",
       " (0.0, 'Tm_CHI'),\n",
       " (0.0, 'Tm_CHH'),\n",
       " (0.0, 'Tm_CHA'),\n",
       " (0.0, 'Tm_BUF'),\n",
       " (0.0, 'Tm_BRK'),\n",
       " (0.0, 'Tm_BOS'),\n",
       " (0.0, 'Tm_ATL'),\n",
       " (0.0, 'TS%'),\n",
       " (0.0, 'TRB%'),\n",
       " (0.0, 'TRB'),\n",
       " (0.0, 'TOV%'),\n",
       " (0.0, 'STL'),\n",
       " (0.0, 'SPG'),\n",
       " (0.0, 'RPG'),\n",
       " (0.0, 'PTS'),\n",
       " (0.0, 'PPG'),\n",
       " (0.0, 'PF'),\n",
       " (0.0, 'ORB%'),\n",
       " (0.0, 'MP'),\n",
       " (0.0, 'G'),\n",
       " (0.0, 'FTA'),\n",
       " (0.0, 'FT%'),\n",
       " (0.0, 'FT'),\n",
       " (0.0, 'FGA'),\n",
       " (0.0, 'FG%'),\n",
       " (0.0, 'DRB%'),\n",
       " (0.0, 'DRB'),\n",
       " (0.0, 'DBPM'),\n",
       " (0.0, 'BPM'),\n",
       " (0.0, 'BLK%'),\n",
       " (0.0, 'BLK'),\n",
       " (0.0, 'AllNBA_Forward'),\n",
       " (0.0, 'AllNBA_Center'),\n",
       " (0.0, 'Age'),\n",
       " (0.0, 'AST%'),\n",
       " (0.0, 'AST'),\n",
       " (0.0, 'APG'),\n",
       " (0.0, '3PAr'),\n",
       " (0.0, '3PA'),\n",
       " (0.0, '3P%'),\n",
       " (0.0, '3P'),\n",
       " (0.0, '2PA'),\n",
       " (0.0, '2P')]"
      ]
     },
     "execution_count": 117,
     "metadata": {},
     "output_type": "execute_result"
    }
   ],
   "source": [
    "model  = model .fit(X_train_scaled, y_train)\n",
    "\n",
    "importances =model.feature_importances_\n",
    "importances\n",
    "\n",
    "# We can sort the features by their importance.\n",
    "sorted(zip(model.feature_importances_, X.columns), reverse=True)"
   ]
  },
  {
   "cell_type": "code",
   "execution_count": 118,
   "metadata": {},
   "outputs": [
    {
     "data": {
      "text/plain": [
       "array([[0.],\n",
       "       [0.],\n",
       "       [0.],\n",
       "       [0.],\n",
       "       [0.]])"
      ]
     },
     "execution_count": 118,
     "metadata": {},
     "output_type": "execute_result"
    }
   ],
   "source": [
    "####machine learning for forward\n",
    "\n",
    "Season_Stats_ML_DF[:] = np.nan_to_num(Season_Stats_ML_DF)\n",
    "\n",
    "#X = Season_Stats_ML_DF_loans.copy()\n",
    "X = Season_Stats_ML_DF.drop(\"AllNBA_Forward\", axis=1)\n",
    "X.head()        \n",
    "                    \n",
    "\n",
    "y = Season_Stats_ML_DF[\"AllNBA_Forward\"].values.reshape(-1, 1)\n",
    "y[:5]"
   ]
  },
  {
   "cell_type": "code",
   "execution_count": 119,
   "metadata": {},
   "outputs": [],
   "source": [
    "# Splitting into Train and Test sets\n",
    "from sklearn.model_selection import train_test_split\n",
    "X_train, X_test, y_train, y_test = train_test_split(X, y, random_state=78)\n",
    "\n",
    "from sklearn.preprocessing import StandardScaler\n",
    "# Creating StandardScaler instance\n",
    "scaler = StandardScaler()\n",
    "# Fitting Standard Scaller\n",
    "X_scaler = scaler.fit(X_train)\n",
    "# Scaling data\n",
    "X_train_scaled = X_scaler.transform(X_train)\n",
    "X_test_scaled = X_scaler.transform(X_test)\n",
    "\n",
    "\n",
    "import pandas as pd\n",
    "from path import Path\n",
    "from sklearn import tree\n",
    "from sklearn.preprocessing import StandardScaler\n",
    "from sklearn.model_selection import train_test_split\n",
    "from sklearn.metrics import confusion_matrix, accuracy_score, classification_report\n",
    "from sklearn import tree\n",
    "# Creating the decision tree classifier instance\n",
    "model = tree.DecisionTreeClassifier()\n",
    "\n",
    "model = model.fit(X_train_scaled, y_train)\n",
    "\n",
    "# Making predictions using the testing data\n",
    "predictions = model.predict(X_test_scaled)\n",
    "predictions\n",
    "\n",
    "\n",
    "\n",
    "# Calculating the confusion matrix\n",
    "cm = confusion_matrix(y_test, predictions)\n",
    "cm_df = pd.DataFrame(\n",
    "    cm, index=[\"Actual 0\", \"Actual 1\"], columns=[\"Predicted 0\", \"Predicted 1\"]\n",
    ")\n",
    "\n",
    "# Calculating the accuracy score\n",
    "acc_score = accuracy_score(y_test, predictions)"
   ]
  },
  {
   "cell_type": "code",
   "execution_count": 120,
   "metadata": {},
   "outputs": [
    {
     "name": "stdout",
     "output_type": "stream",
     "text": [
      "Confusion Matrix\n"
     ]
    },
    {
     "data": {
      "text/html": [
       "<div>\n",
       "<style scoped>\n",
       "    .dataframe tbody tr th:only-of-type {\n",
       "        vertical-align: middle;\n",
       "    }\n",
       "\n",
       "    .dataframe tbody tr th {\n",
       "        vertical-align: top;\n",
       "    }\n",
       "\n",
       "    .dataframe thead th {\n",
       "        text-align: right;\n",
       "    }\n",
       "</style>\n",
       "<table border=\"1\" class=\"dataframe\">\n",
       "  <thead>\n",
       "    <tr style=\"text-align: right;\">\n",
       "      <th></th>\n",
       "      <th>Predicted 0</th>\n",
       "      <th>Predicted 1</th>\n",
       "    </tr>\n",
       "  </thead>\n",
       "  <tbody>\n",
       "    <tr>\n",
       "      <th>Actual 0</th>\n",
       "      <td>4843</td>\n",
       "      <td>8</td>\n",
       "    </tr>\n",
       "    <tr>\n",
       "      <th>Actual 1</th>\n",
       "      <td>6</td>\n",
       "      <td>55</td>\n",
       "    </tr>\n",
       "  </tbody>\n",
       "</table>\n",
       "</div>"
      ],
      "text/plain": [
       "          Predicted 0  Predicted 1\n",
       "Actual 0         4843            8\n",
       "Actual 1            6           55"
      ]
     },
     "metadata": {},
     "output_type": "display_data"
    },
    {
     "name": "stdout",
     "output_type": "stream",
     "text": [
      "Accuracy Score : 0.9971498371335505\n",
      "Classification Report\n",
      "              precision    recall  f1-score   support\n",
      "\n",
      "         0.0       1.00      1.00      1.00      4851\n",
      "         1.0       0.87      0.90      0.89        61\n",
      "\n",
      "    accuracy                           1.00      4912\n",
      "   macro avg       0.94      0.95      0.94      4912\n",
      "weighted avg       1.00      1.00      1.00      4912\n",
      "\n"
     ]
    }
   ],
   "source": [
    "# Displaying results\n",
    "print(\"Confusion Matrix\")\n",
    "display(cm_df)\n",
    "print(f\"Accuracy Score : {acc_score}\")\n",
    "print(\"Classification Report\")\n",
    "print(classification_report(y_test, predictions))"
   ]
  },
  {
   "cell_type": "code",
   "execution_count": 121,
   "metadata": {},
   "outputs": [
    {
     "data": {
      "text/plain": [
       "[(0.43053578579852564, 'is_Forward'),\n",
       " (0.20995400776501963, 'WS'),\n",
       " (0.09200766381273466, 'Tm_3rd'),\n",
       " (0.08459674436043521, 'Tm_2nd'),\n",
       " (0.05491762631970668, 'USG%'),\n",
       " (0.018551943279134456, 'BPM'),\n",
       " (0.018026005379057207, 'Tm_1st'),\n",
       " (0.01789347911255364, 'eFG%'),\n",
       " (0.016593481710347874, 'PF'),\n",
       " (0.009082747883558836, 'VORP'),\n",
       " (0.0062197077898283265, 'Tm_TOR'),\n",
       " (0.006181314531866432, 'Tm_DEN'),\n",
       " (0.005955039373239903, 'Year_season_start_2008'),\n",
       " (0.005904510324463421, 'FGA'),\n",
       " (0.005298269598742654, 'PER'),\n",
       " (0.004768442638868388, 'WS/48'),\n",
       " (0.004742353574227329, 'SPG'),\n",
       " (0.0031789617592455923, 'FTr'),\n",
       " (0.003084067378372583, 'Year_season_start_2005'),\n",
       " (0.0014843182557689593, 'Year_season_start_1997'),\n",
       " (0.0010235293543025457, 'Year_season_start_2001'),\n",
       " (0.0, 'is_Guard'),\n",
       " (0.0, 'is_Center'),\n",
       " (0.0, 'Year_season_start_2016'),\n",
       " (0.0, 'Year_season_start_2015'),\n",
       " (0.0, 'Year_season_start_2014'),\n",
       " (0.0, 'Year_season_start_2013'),\n",
       " (0.0, 'Year_season_start_2012'),\n",
       " (0.0, 'Year_season_start_2011'),\n",
       " (0.0, 'Year_season_start_2010'),\n",
       " (0.0, 'Year_season_start_2009'),\n",
       " (0.0, 'Year_season_start_2007'),\n",
       " (0.0, 'Year_season_start_2006'),\n",
       " (0.0, 'Year_season_start_2004'),\n",
       " (0.0, 'Year_season_start_2003'),\n",
       " (0.0, 'Year_season_start_2002'),\n",
       " (0.0, 'Year_season_start_2000'),\n",
       " (0.0, 'Year_season_start_1999'),\n",
       " (0.0, 'Year_season_start_1998'),\n",
       " (0.0, 'Year_season_start_1996'),\n",
       " (0.0, 'Year_season_start_1995'),\n",
       " (0.0, 'Year_season_start_1994'),\n",
       " (0.0, 'Year_season_start_1993'),\n",
       " (0.0, 'Year_season_start_1992'),\n",
       " (0.0, 'Year_season_start_1991'),\n",
       " (0.0, 'Year_season_start_1990'),\n",
       " (0.0, 'Year_season_start_1989'),\n",
       " (0.0, 'Year_season_start_1988'),\n",
       " (0.0, 'Year_season_start_1987'),\n",
       " (0.0, 'Year_season_start_1986'),\n",
       " (0.0, 'Year_season_start_1985'),\n",
       " (0.0, 'Year_season_start_1984'),\n",
       " (0.0, 'Year_season_start_1983'),\n",
       " (0.0, 'Year_season_start_1982'),\n",
       " (0.0, 'Year_season_start_1981'),\n",
       " (0.0, 'Year_season_start_1980'),\n",
       " (0.0, 'Year_season_start_1979'),\n",
       " (0.0, 'Year_season_start_1978'),\n",
       " (0.0, 'Year_season_start_1977'),\n",
       " (0.0, 'Tm_WSB'),\n",
       " (0.0, 'Tm_WAS'),\n",
       " (0.0, 'Tm_VAN'),\n",
       " (0.0, 'Tm_UTA'),\n",
       " (0.0, 'Tm_TOT'),\n",
       " (0.0, 'Tm_SEA'),\n",
       " (0.0, 'Tm_SDC'),\n",
       " (0.0, 'Tm_SAS'),\n",
       " (0.0, 'Tm_SAC'),\n",
       " (0.0, 'Tm_POR'),\n",
       " (0.0, 'Tm_PHO'),\n",
       " (0.0, 'Tm_PHI'),\n",
       " (0.0, 'Tm_ORL'),\n",
       " (0.0, 'Tm_OKC'),\n",
       " (0.0, 'Tm_NYK'),\n",
       " (0.0, 'Tm_NOP'),\n",
       " (0.0, 'Tm_NOK'),\n",
       " (0.0, 'Tm_NOJ'),\n",
       " (0.0, 'Tm_NOH'),\n",
       " (0.0, 'Tm_NJN'),\n",
       " (0.0, 'Tm_MIN'),\n",
       " (0.0, 'Tm_MIL'),\n",
       " (0.0, 'Tm_MIA'),\n",
       " (0.0, 'Tm_MEM'),\n",
       " (0.0, 'Tm_LAL'),\n",
       " (0.0, 'Tm_LAC'),\n",
       " (0.0, 'Tm_KCK'),\n",
       " (0.0, 'Tm_IND'),\n",
       " (0.0, 'Tm_HOU'),\n",
       " (0.0, 'Tm_GSW'),\n",
       " (0.0, 'Tm_DET'),\n",
       " (0.0, 'Tm_DAL'),\n",
       " (0.0, 'Tm_CLE'),\n",
       " (0.0, 'Tm_CHO'),\n",
       " (0.0, 'Tm_CHI'),\n",
       " (0.0, 'Tm_CHH'),\n",
       " (0.0, 'Tm_CHA'),\n",
       " (0.0, 'Tm_BUF'),\n",
       " (0.0, 'Tm_BRK'),\n",
       " (0.0, 'Tm_BOS'),\n",
       " (0.0, 'Tm_ATL'),\n",
       " (0.0, 'TS%'),\n",
       " (0.0, 'TRB%'),\n",
       " (0.0, 'TRB'),\n",
       " (0.0, 'TOV%'),\n",
       " (0.0, 'TOV'),\n",
       " (0.0, 'STL%'),\n",
       " (0.0, 'STL'),\n",
       " (0.0, 'RPG'),\n",
       " (0.0, 'PTS'),\n",
       " (0.0, 'PPG'),\n",
       " (0.0, 'OWS'),\n",
       " (0.0, 'ORB%'),\n",
       " (0.0, 'ORB'),\n",
       " (0.0, 'OBPM'),\n",
       " (0.0, 'MP'),\n",
       " (0.0, 'GS'),\n",
       " (0.0, 'G'),\n",
       " (0.0, 'FTA'),\n",
       " (0.0, 'FT%'),\n",
       " (0.0, 'FT'),\n",
       " (0.0, 'FG%'),\n",
       " (0.0, 'FG'),\n",
       " (0.0, 'DWS'),\n",
       " (0.0, 'DRB%'),\n",
       " (0.0, 'DRB'),\n",
       " (0.0, 'DBPM'),\n",
       " (0.0, 'BLK%'),\n",
       " (0.0, 'BLK'),\n",
       " (0.0, 'AllNBA_Guard'),\n",
       " (0.0, 'AllNBA_Center'),\n",
       " (0.0, 'Age'),\n",
       " (0.0, 'AST%'),\n",
       " (0.0, 'AST'),\n",
       " (0.0, 'APG'),\n",
       " (0.0, '3PAr'),\n",
       " (0.0, '3PA'),\n",
       " (0.0, '3P%'),\n",
       " (0.0, '3P'),\n",
       " (0.0, '2PA'),\n",
       " (0.0, '2P%'),\n",
       " (0.0, '2P')]"
      ]
     },
     "execution_count": 121,
     "metadata": {},
     "output_type": "execute_result"
    }
   ],
   "source": [
    "model  = model .fit(X_train_scaled, y_train)\n",
    "\n",
    "importances =model.feature_importances_\n",
    "importances\n",
    "\n",
    "# We can sort the features by their importance.\n",
    "sorted(zip(model.feature_importances_, X.columns), reverse=True)"
   ]
  },
  {
   "cell_type": "code",
   "execution_count": null,
   "metadata": {},
   "outputs": [],
   "source": []
  }
 ],
 "metadata": {
  "colab": {
   "name": "final_project_segment.ipynb",
   "provenance": []
  },
  "kernelspec": {
   "name": "python379jvsc74a57bd04d3a522243aef200067933e7bbc5def1dc4c2aec8f3e1dfe50a486e6cce9fde9",
   "display_name": "Python 3.7.9 64-bit ('mlenv': conda)"
  },
  "language_info": {
   "codemirror_mode": {
    "name": "ipython",
    "version": 3
   },
   "file_extension": ".py",
   "mimetype": "text/x-python",
   "name": "python",
   "nbconvert_exporter": "python",
   "pygments_lexer": "ipython3",
   "version": "3.7.9"
  }
 },
 "nbformat": 4,
 "nbformat_minor": 1
}