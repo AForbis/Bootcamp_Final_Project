{
 "cells": [
  {
   "cell_type": "code",
   "execution_count": 102,
   "metadata": {
    "id": "y5Z88nubR4Fj"
   },
   "outputs": [],
   "source": [
    "import pandas as pd \n",
    "import numpy as np\n",
    "import requests\n",
    "import io\n",
    "import csv\n",
    "from path import Path"
   ]
  },
  {
   "cell_type": "code",
   "execution_count": 73,
   "metadata": {
    "colab": {
     "base_uri": "https://localhost:8080/",
     "height": 544
    },
    "id": "8OrPjJ34bbb9",
    "outputId": "fa09661a-735f-4559-dedf-0a9764f73b73"
   },
   "outputs": [],
   "source": [
    "#eventually we will replace this with a database\n",
    "#url = 'https://github.com/AForbis/Bootcamp_Final_Project/blob/datasourcing/SeasonData/AllNBA_Unpivoted.xlsx'\n",
    "url= Path(\"Resources/AllNBA_UNpivoted.xlsx\")\n",
    "#load in All NBA teams, drop the league column (we are not including the ABA, I already deleted all that from the file)\n",
    "All_NBA_Unpivoted_df = pd.DataFrame(pd.read_excel(url)).drop(['Lg'],axis=1)\n",
    "#rename the players column\n",
    "All_NBA_Unpivoted_df=All_NBA_Unpivoted_df.rename(columns = {'Value':'PlayerName'})\n",
    "#create column with the start year\n",
    "All_NBA_Unpivoted_df['Season_Start_Year'] = All_NBA_Unpivoted_df['Season'].apply(lambda row: row[0:4])\n",
    "All_NBA_Unpivoted_df['Season_Start_Year'] = pd.to_numeric(All_NBA_Unpivoted_df['Season_Start_Year'])\n",
    "#All_NBA_Unpivoted_df.head(10)"
   ]
  },
  {
   "cell_type": "code",
   "execution_count": 74,
   "metadata": {
    "id": "jOYXy-FybbfU",
    "outputId": "62771572-9ddb-48af-a77c-bf5aab2c80da"
   },
   "outputs": [],
   "source": [
    "#cleaning up the names with crazy characters\n",
    "All_NBA_Unpivoted_df['PlayerName_Formatted'] = All_NBA_Unpivoted_df['PlayerName'].apply(lambda row: row.replace(\"ć\",\"c\"))\n",
    "All_NBA_Unpivoted_df['PlayerName_Formatted'] = All_NBA_Unpivoted_df['PlayerName_Formatted'].apply(lambda row: row.replace(\"č\",\"c\"))\n",
    "All_NBA_Unpivoted_df['PlayerName_Formatted'] = All_NBA_Unpivoted_df['PlayerName_Formatted'].apply(lambda row: row.replace(\"ž\",\"z\"))\n",
    "\n",
    "#make dummies for position and team (1st, 2nd, 3rd)\n",
    "All_NBA_Unpivoted_df = pd.get_dummies(All_NBA_Unpivoted_df,columns=['Position','Tm']).drop(['Season','PlayerName'],axis=1)\n",
    "#rename the columns (cosmetic)\n",
    "All_NBA_Unpivoted_df=All_NBA_Unpivoted_df.rename(columns = {'Position_C':'AllNBA_Center'})\n",
    "All_NBA_Unpivoted_df=All_NBA_Unpivoted_df.rename(columns = {'Position_F':'AllNBA_Forward'})\n",
    "All_NBA_Unpivoted_df=All_NBA_Unpivoted_df.rename(columns = {'Position_G':'AllNBA_Guard'})\n",
    "#All_NBA_Unpivoted_df.head(10)"
   ]
  },
  {
   "cell_type": "code",
   "execution_count": 75,
   "metadata": {
    "id": "KPs6BA3BbbiV"
   },
   "outputs": [],
   "source": [
    "#get list of all of the players that have made an all nba team\n",
    "AllNBAPlayersList = All_NBA_Unpivoted_df['PlayerName_Formatted'].unique()\n",
    "#AllNBAPlayersList"
   ]
  },
  {
   "cell_type": "code",
   "execution_count": 76,
   "metadata": {
    "id": "Hi3fF2Csbbk9",
    "outputId": "8d1a6eb8-520c-4508-e463-ab2fc1767c15"
   },
   "outputs": [],
   "source": [
    "#url = 'SeasonData/Seasons_Stats.xlsx'\n",
    "url= Path(\"Resources/Seasons_Stats.xlsx\")\n",
    "#load in season stats\n",
    "season_stats_df = pd.DataFrame(pd.read_excel(url))\n",
    "season_stats_df['Player'] = season_stats_df['Player'].apply(lambda row: row.replace(\"*\",\"\"))\n",
    "season_stats_df=season_stats_df.rename(columns = {'Year':'Year_season_end'})\n",
    "season_stats_df['Year_season_start'] = (season_stats_df['Year_season_end'] - 1)\n",
    "#season_stats_df.head()\n",
    "#season_stats_df.to_csv('ML_DF.csv')"
   ]
  },
  {
   "cell_type": "code",
   "execution_count": 77,
   "metadata": {
    "id": "V-HopAfXbbnt"
   },
   "outputs": [],
   "source": [
    "# get list of every nba player\n",
    "AllPlayersList = season_stats_df.Player.unique()\n",
    "AllPlayersList_df = pd.DataFrame(AllPlayersList)\n",
    "#AllPlayersList_df.to_csv('listofplayers_test.csv')"
   ]
  },
  {
   "cell_type": "code",
   "execution_count": 78,
   "metadata": {
    "id": "gTw2sao4bbqY",
    "outputId": "b6753f71-eb01-4a68-8950-1e43e7efaae8"
   },
   "outputs": [
    {
     "name": "stdout",
     "output_type": "stream",
     "text": [
      "Luka Doncic\n",
      "Jayson Tatum\n",
      "Ben Simmons\n"
     ]
    }
   ],
   "source": [
    "#check and make sure every all-nba player shows up in the season data dataset\n",
    "#players who weren't in the league in 2017 will show up here, that's okay!\n",
    "#I cleaned up a bunch of names in the excel\n",
    "for player in AllNBAPlayersList:\n",
    "    if player not in AllPlayersList:   \n",
    "        print(player)"
   ]
  },
  {
   "cell_type": "code",
   "execution_count": 79,
   "metadata": {
    "id": "EtMZI2dSbbtJ"
   },
   "outputs": [],
   "source": [
    "#merge allNBA status into season stats\n",
    "Season_Stats_ML_DF = pd.merge(season_stats_df,All_NBA_Unpivoted_df,how='left',left_on = ['Player','Year_season_start'], right_on = ['PlayerName_Formatted','Season_Start_Year'])"
   ]
  },
  {
   "cell_type": "code",
   "execution_count": 80,
   "metadata": {
    "id": "XxnJYn_Ibbv4"
   },
   "outputs": [],
   "source": [
    "# get rid of duplicate cols\n",
    "Season_Stats_ML_DF = Season_Stats_ML_DF.drop(['Season_Start_Year','PlayerName_Formatted'],axis=1)"
   ]
  },
  {
   "cell_type": "code",
   "execution_count": 81,
   "metadata": {
    "id": "uSHCIICBbby4",
    "outputId": "84df7620-cc3e-47ea-fad0-c6f2a3cda813"
   },
   "outputs": [],
   "source": [
    "# fill in zeros for players that arent all nba\n",
    "Season_Stats_ML_DF['AllNBA_Center'] = Season_Stats_ML_DF['AllNBA_Center'].fillna(int(0))\n",
    "Season_Stats_ML_DF['AllNBA_Forward'] = Season_Stats_ML_DF['AllNBA_Forward'].fillna(int(0))\n",
    "Season_Stats_ML_DF['AllNBA_Guard'] = Season_Stats_ML_DF['AllNBA_Guard'].fillna(int(0))\n",
    "Season_Stats_ML_DF['Tm_1st'] = Season_Stats_ML_DF['Tm_1st'].fillna(int(0))\n",
    "Season_Stats_ML_DF['Tm_2nd'] = Season_Stats_ML_DF['Tm_2nd'].fillna(int(0))\n",
    "Season_Stats_ML_DF['Tm_3rd'] = Season_Stats_ML_DF['Tm_3rd'].fillna(int(0))\n"
   ]
  },
  {
   "cell_type": "code",
   "execution_count": 82,
   "metadata": {
    "id": "ke9nPg5Sbb1l",
    "outputId": "db745df0-b3a7-4953-f487-5c41e37662b7"
   },
   "outputs": [],
   "source": [
    "#get list of positions\n",
    "Positions_List = Season_Stats_ML_DF['Pos'].unique()\n"
   ]
  },
  {
   "cell_type": "code",
   "execution_count": 83,
   "metadata": {
    "id": "VScYa7vCbb4n"
   },
   "outputs": [],
   "source": [
    "# create functions to determine if player is a guard forward and/or center\n",
    "def is_forward(pos):\n",
    "    possible_pos = [ 'SF',  'PF', 'PF-C', 'SG-SF', 'PF-SF', 'SF-SG', 'SF-PF', 'C-PF', 'SG-PF', 'C-SF', 'PG-SF']\n",
    "    if pos in possible_pos: isF = 1\n",
    "    else: isF = 0\n",
    "    return isF\n",
    "\n",
    "def is_guard(pos):\n",
    "    possible_pos = ['PG','SG','SG-SF','PG-SG','SG-PG','SF-SG','SG-PF','PG-SF']\n",
    "    if pos in possible_pos: isG = 1\n",
    "    else: isG = 0\n",
    "    return isG\n",
    "\n",
    "def is_center(pos):\n",
    "    possible_pos = ['C','PF-C','C-PF','C-SF']\n",
    "    if pos in possible_pos: isC = 1\n",
    "    else: isC = 0\n",
    "    return isC"
   ]
  },
  {
   "cell_type": "code",
   "execution_count": 84,
   "metadata": {
    "id": "umRKFx1Kbb7q",
    "outputId": "ab3b3d85-06bc-4ab1-c038-fa110c27cd46"
   },
   "outputs": [],
   "source": [
    "#Create dummy columns for G, F, C\n",
    "Season_Stats_ML_DF['is_Guard'] = Season_Stats_ML_DF['Pos'].apply(lambda pos: is_guard(pos) )\n",
    "Season_Stats_ML_DF['is_Forward'] = Season_Stats_ML_DF['Pos'].apply(lambda pos: is_forward(pos) )\n",
    "Season_Stats_ML_DF['is_Center'] = Season_Stats_ML_DF['Pos'].apply(lambda pos: is_center(pos) )\n"
   ]
  },
  {
   "cell_type": "code",
   "execution_count": 85,
   "metadata": {
    "id": "g18TtxJVbb-u"
   },
   "outputs": [],
   "source": [
    "#Drop the Pos Column since we have dummy columns\n",
    "Season_Stats_ML_DF=Season_Stats_ML_DF.drop(['Pos'],axis=1)\n"
   ]
  },
  {
   "cell_type": "code",
   "execution_count": 86,
   "metadata": {
    "id": "V2nu9jDHeNzd",
    "outputId": "0943a9fb-011c-4579-8696-65afdd719d55"
   },
   "outputs": [],
   "source": [
    "#make dummies for team\n",
    "Season_Stats_ML_DF = pd.get_dummies(Season_Stats_ML_DF,columns=['Tm','Year_season_start'])\n"
   ]
  },
  {
   "cell_type": "code",
   "execution_count": 87,
   "metadata": {
    "id": "3SkQvNpLeNzd",
    "outputId": "b6c2187d-9510-465f-801e-2a7d2b9d6028"
   },
   "outputs": [
    {
     "data": {
      "text/html": [
       "<div>\n",
       "<style scoped>\n",
       "    .dataframe tbody tr th:only-of-type {\n",
       "        vertical-align: middle;\n",
       "    }\n",
       "\n",
       "    .dataframe tbody tr th {\n",
       "        vertical-align: top;\n",
       "    }\n",
       "\n",
       "    .dataframe thead th {\n",
       "        text-align: right;\n",
       "    }\n",
       "</style>\n",
       "<table border=\"1\" class=\"dataframe\">\n",
       "  <thead>\n",
       "    <tr style=\"text-align: right;\">\n",
       "      <th></th>\n",
       "      <th>Age</th>\n",
       "      <th>G</th>\n",
       "      <th>GS</th>\n",
       "      <th>MP</th>\n",
       "      <th>PER</th>\n",
       "      <th>TS%</th>\n",
       "      <th>3PAr</th>\n",
       "      <th>FTr</th>\n",
       "      <th>ORB%</th>\n",
       "      <th>DRB%</th>\n",
       "      <th>...</th>\n",
       "      <th>Year_season_start_2007</th>\n",
       "      <th>Year_season_start_2008</th>\n",
       "      <th>Year_season_start_2009</th>\n",
       "      <th>Year_season_start_2010</th>\n",
       "      <th>Year_season_start_2011</th>\n",
       "      <th>Year_season_start_2012</th>\n",
       "      <th>Year_season_start_2013</th>\n",
       "      <th>Year_season_start_2014</th>\n",
       "      <th>Year_season_start_2015</th>\n",
       "      <th>Year_season_start_2016</th>\n",
       "    </tr>\n",
       "  </thead>\n",
       "  <tbody>\n",
       "    <tr>\n",
       "      <th>0</th>\n",
       "      <td>24</td>\n",
       "      <td>22</td>\n",
       "      <td>0.0</td>\n",
       "      <td>163</td>\n",
       "      <td>8.4</td>\n",
       "      <td>0.472</td>\n",
       "      <td>0.238</td>\n",
       "      <td>0.476</td>\n",
       "      <td>5.4</td>\n",
       "      <td>20.9</td>\n",
       "      <td>...</td>\n",
       "      <td>0</td>\n",
       "      <td>0</td>\n",
       "      <td>0</td>\n",
       "      <td>0</td>\n",
       "      <td>0</td>\n",
       "      <td>0</td>\n",
       "      <td>0</td>\n",
       "      <td>0</td>\n",
       "      <td>0</td>\n",
       "      <td>1</td>\n",
       "    </tr>\n",
       "    <tr>\n",
       "      <th>1</th>\n",
       "      <td>32</td>\n",
       "      <td>65</td>\n",
       "      <td>0.0</td>\n",
       "      <td>894</td>\n",
       "      <td>9.5</td>\n",
       "      <td>0.507</td>\n",
       "      <td>0.427</td>\n",
       "      <td>0.133</td>\n",
       "      <td>2.3</td>\n",
       "      <td>6.3</td>\n",
       "      <td>...</td>\n",
       "      <td>0</td>\n",
       "      <td>0</td>\n",
       "      <td>0</td>\n",
       "      <td>0</td>\n",
       "      <td>0</td>\n",
       "      <td>0</td>\n",
       "      <td>0</td>\n",
       "      <td>0</td>\n",
       "      <td>0</td>\n",
       "      <td>1</td>\n",
       "    </tr>\n",
       "    <tr>\n",
       "      <th>2</th>\n",
       "      <td>21</td>\n",
       "      <td>80</td>\n",
       "      <td>72.0</td>\n",
       "      <td>2298</td>\n",
       "      <td>14.4</td>\n",
       "      <td>0.530</td>\n",
       "      <td>0.309</td>\n",
       "      <td>0.251</td>\n",
       "      <td>5.3</td>\n",
       "      <td>14.1</td>\n",
       "      <td>...</td>\n",
       "      <td>0</td>\n",
       "      <td>0</td>\n",
       "      <td>0</td>\n",
       "      <td>0</td>\n",
       "      <td>0</td>\n",
       "      <td>0</td>\n",
       "      <td>0</td>\n",
       "      <td>0</td>\n",
       "      <td>0</td>\n",
       "      <td>1</td>\n",
       "    </tr>\n",
       "    <tr>\n",
       "      <th>3</th>\n",
       "      <td>22</td>\n",
       "      <td>5</td>\n",
       "      <td>0.0</td>\n",
       "      <td>17</td>\n",
       "      <td>-2.2</td>\n",
       "      <td>0.102</td>\n",
       "      <td>0.500</td>\n",
       "      <td>0.500</td>\n",
       "      <td>0.0</td>\n",
       "      <td>19.5</td>\n",
       "      <td>...</td>\n",
       "      <td>0</td>\n",
       "      <td>0</td>\n",
       "      <td>0</td>\n",
       "      <td>0</td>\n",
       "      <td>0</td>\n",
       "      <td>0</td>\n",
       "      <td>0</td>\n",
       "      <td>0</td>\n",
       "      <td>0</td>\n",
       "      <td>1</td>\n",
       "    </tr>\n",
       "    <tr>\n",
       "      <th>4</th>\n",
       "      <td>25</td>\n",
       "      <td>18</td>\n",
       "      <td>0.0</td>\n",
       "      <td>135</td>\n",
       "      <td>14.4</td>\n",
       "      <td>0.505</td>\n",
       "      <td>0.278</td>\n",
       "      <td>0.352</td>\n",
       "      <td>7.7</td>\n",
       "      <td>21.0</td>\n",
       "      <td>...</td>\n",
       "      <td>0</td>\n",
       "      <td>0</td>\n",
       "      <td>0</td>\n",
       "      <td>0</td>\n",
       "      <td>0</td>\n",
       "      <td>0</td>\n",
       "      <td>0</td>\n",
       "      <td>0</td>\n",
       "      <td>0</td>\n",
       "      <td>1</td>\n",
       "    </tr>\n",
       "  </tbody>\n",
       "</table>\n",
       "<p>5 rows × 138 columns</p>\n",
       "</div>"
      ],
      "text/plain": [
       "   Age   G    GS    MP   PER    TS%   3PAr    FTr  ORB%  DRB%  ...  \\\n",
       "0   24  22   0.0   163   8.4  0.472  0.238  0.476   5.4  20.9  ...   \n",
       "1   32  65   0.0   894   9.5  0.507  0.427  0.133   2.3   6.3  ...   \n",
       "2   21  80  72.0  2298  14.4  0.530  0.309  0.251   5.3  14.1  ...   \n",
       "3   22   5   0.0    17  -2.2  0.102  0.500  0.500   0.0  19.5  ...   \n",
       "4   25  18   0.0   135  14.4  0.505  0.278  0.352   7.7  21.0  ...   \n",
       "\n",
       "   Year_season_start_2007  Year_season_start_2008  Year_season_start_2009  \\\n",
       "0                       0                       0                       0   \n",
       "1                       0                       0                       0   \n",
       "2                       0                       0                       0   \n",
       "3                       0                       0                       0   \n",
       "4                       0                       0                       0   \n",
       "\n",
       "   Year_season_start_2010  Year_season_start_2011  Year_season_start_2012  \\\n",
       "0                       0                       0                       0   \n",
       "1                       0                       0                       0   \n",
       "2                       0                       0                       0   \n",
       "3                       0                       0                       0   \n",
       "4                       0                       0                       0   \n",
       "\n",
       "   Year_season_start_2013  Year_season_start_2014  Year_season_start_2015  \\\n",
       "0                       0                       0                       0   \n",
       "1                       0                       0                       0   \n",
       "2                       0                       0                       0   \n",
       "3                       0                       0                       0   \n",
       "4                       0                       0                       0   \n",
       "\n",
       "   Year_season_start_2016  \n",
       "0                       1  \n",
       "1                       1  \n",
       "2                       1  \n",
       "3                       1  \n",
       "4                       1  \n",
       "\n",
       "[5 rows x 138 columns]"
      ]
     },
     "execution_count": 87,
     "metadata": {},
     "output_type": "execute_result"
    }
   ],
   "source": [
    "# drop year end and player name\n",
    "Season_Stats_ML_DF=Season_Stats_ML_DF.drop(['Year_season_end','Player'],axis=1)\n",
    "Season_Stats_ML_DF.head()"
   ]
  },
  {
   "cell_type": "code",
   "execution_count": 28,
   "metadata": {
    "id": "BfnLMFVteNzd"
   },
   "outputs": [],
   "source": [
    "#Season_Stats_ML_DF.to_csv(r'C:\\Users\\18323\\Desktop\\Classwork\\Final_Project\\export_dataframe.csv', index = False, header=True)"
   ]
  },
  {
   "cell_type": "code",
   "execution_count": 88,
   "metadata": {
    "id": "uPYKv6aTeNze"
   },
   "outputs": [],
   "source": [
    "#Creating Per Game Statistics\n",
    "\n",
    "#Points per Game\n",
    "Season_Stats_ML_DF[\"PPG\"] = Season_Stats_ML_DF[\"PTS\"]/Season_Stats_ML_DF[\"G\"]\n",
    "#Assits Per Game\n",
    "Season_Stats_ML_DF[\"APG\"] = Season_Stats_ML_DF[\"AST\"]/Season_Stats_ML_DF[\"G\"]\n",
    "#Rebounds Per Game\n",
    "Season_Stats_ML_DF[\"RPG\"] = Season_Stats_ML_DF[\"TRB\"]/Season_Stats_ML_DF[\"G\"]\n",
    "#Blocks Per Game\n",
    "Season_Stats_ML_DF[\"RPG\"] = Season_Stats_ML_DF[\"BLK\"]/Season_Stats_ML_DF[\"G\"]\n",
    "#STLs Per Game\n",
    "Season_Stats_ML_DF[\"SPG\"] = Season_Stats_ML_DF[\"STL\"]/Season_Stats_ML_DF[\"G\"]"
   ]
  },
  {
   "cell_type": "code",
   "execution_count": 103,
   "metadata": {},
   "outputs": [
    {
     "data": {
      "text/html": [
       "<div>\n",
       "<style scoped>\n",
       "    .dataframe tbody tr th:only-of-type {\n",
       "        vertical-align: middle;\n",
       "    }\n",
       "\n",
       "    .dataframe tbody tr th {\n",
       "        vertical-align: top;\n",
       "    }\n",
       "\n",
       "    .dataframe thead th {\n",
       "        text-align: right;\n",
       "    }\n",
       "</style>\n",
       "<table border=\"1\" class=\"dataframe\">\n",
       "  <thead>\n",
       "    <tr style=\"text-align: right;\">\n",
       "      <th></th>\n",
       "      <th>Age</th>\n",
       "      <th>G</th>\n",
       "      <th>GS</th>\n",
       "      <th>MP</th>\n",
       "      <th>PER</th>\n",
       "      <th>TS%</th>\n",
       "      <th>3PAr</th>\n",
       "      <th>FTr</th>\n",
       "      <th>ORB%</th>\n",
       "      <th>DRB%</th>\n",
       "      <th>...</th>\n",
       "      <th>Year_season_start_2011</th>\n",
       "      <th>Year_season_start_2012</th>\n",
       "      <th>Year_season_start_2013</th>\n",
       "      <th>Year_season_start_2014</th>\n",
       "      <th>Year_season_start_2015</th>\n",
       "      <th>Year_season_start_2016</th>\n",
       "      <th>PPG</th>\n",
       "      <th>APG</th>\n",
       "      <th>RPG</th>\n",
       "      <th>SPG</th>\n",
       "    </tr>\n",
       "  </thead>\n",
       "  <tbody>\n",
       "    <tr>\n",
       "      <th>0</th>\n",
       "      <td>24.0</td>\n",
       "      <td>22.0</td>\n",
       "      <td>0.0</td>\n",
       "      <td>163.0</td>\n",
       "      <td>8.4</td>\n",
       "      <td>0.472</td>\n",
       "      <td>0.238</td>\n",
       "      <td>0.476</td>\n",
       "      <td>5.4</td>\n",
       "      <td>20.9</td>\n",
       "      <td>...</td>\n",
       "      <td>0.0</td>\n",
       "      <td>0.0</td>\n",
       "      <td>0.0</td>\n",
       "      <td>0.0</td>\n",
       "      <td>0.0</td>\n",
       "      <td>1.0</td>\n",
       "      <td>2.181818</td>\n",
       "      <td>0.181818</td>\n",
       "      <td>0.590909</td>\n",
       "      <td>0.045455</td>\n",
       "    </tr>\n",
       "    <tr>\n",
       "      <th>1</th>\n",
       "      <td>32.0</td>\n",
       "      <td>65.0</td>\n",
       "      <td>0.0</td>\n",
       "      <td>894.0</td>\n",
       "      <td>9.5</td>\n",
       "      <td>0.507</td>\n",
       "      <td>0.427</td>\n",
       "      <td>0.133</td>\n",
       "      <td>2.3</td>\n",
       "      <td>6.3</td>\n",
       "      <td>...</td>\n",
       "      <td>0.0</td>\n",
       "      <td>0.0</td>\n",
       "      <td>0.0</td>\n",
       "      <td>0.0</td>\n",
       "      <td>0.0</td>\n",
       "      <td>1.0</td>\n",
       "      <td>4.953846</td>\n",
       "      <td>1.923077</td>\n",
       "      <td>0.138462</td>\n",
       "      <td>0.384615</td>\n",
       "    </tr>\n",
       "    <tr>\n",
       "      <th>2</th>\n",
       "      <td>21.0</td>\n",
       "      <td>80.0</td>\n",
       "      <td>72.0</td>\n",
       "      <td>2298.0</td>\n",
       "      <td>14.4</td>\n",
       "      <td>0.530</td>\n",
       "      <td>0.309</td>\n",
       "      <td>0.251</td>\n",
       "      <td>5.3</td>\n",
       "      <td>14.1</td>\n",
       "      <td>...</td>\n",
       "      <td>0.0</td>\n",
       "      <td>0.0</td>\n",
       "      <td>0.0</td>\n",
       "      <td>0.0</td>\n",
       "      <td>0.0</td>\n",
       "      <td>1.0</td>\n",
       "      <td>12.737500</td>\n",
       "      <td>1.875000</td>\n",
       "      <td>0.500000</td>\n",
       "      <td>0.800000</td>\n",
       "    </tr>\n",
       "    <tr>\n",
       "      <th>3</th>\n",
       "      <td>22.0</td>\n",
       "      <td>5.0</td>\n",
       "      <td>0.0</td>\n",
       "      <td>17.0</td>\n",
       "      <td>-2.2</td>\n",
       "      <td>0.102</td>\n",
       "      <td>0.500</td>\n",
       "      <td>0.500</td>\n",
       "      <td>0.0</td>\n",
       "      <td>19.5</td>\n",
       "      <td>...</td>\n",
       "      <td>0.0</td>\n",
       "      <td>0.0</td>\n",
       "      <td>0.0</td>\n",
       "      <td>0.0</td>\n",
       "      <td>0.0</td>\n",
       "      <td>1.0</td>\n",
       "      <td>0.200000</td>\n",
       "      <td>0.600000</td>\n",
       "      <td>0.000000</td>\n",
       "      <td>0.000000</td>\n",
       "    </tr>\n",
       "    <tr>\n",
       "      <th>4</th>\n",
       "      <td>25.0</td>\n",
       "      <td>18.0</td>\n",
       "      <td>0.0</td>\n",
       "      <td>135.0</td>\n",
       "      <td>14.4</td>\n",
       "      <td>0.505</td>\n",
       "      <td>0.278</td>\n",
       "      <td>0.352</td>\n",
       "      <td>7.7</td>\n",
       "      <td>21.0</td>\n",
       "      <td>...</td>\n",
       "      <td>0.0</td>\n",
       "      <td>0.0</td>\n",
       "      <td>0.0</td>\n",
       "      <td>0.0</td>\n",
       "      <td>0.0</td>\n",
       "      <td>1.0</td>\n",
       "      <td>3.500000</td>\n",
       "      <td>0.388889</td>\n",
       "      <td>0.388889</td>\n",
       "      <td>0.444444</td>\n",
       "    </tr>\n",
       "  </tbody>\n",
       "</table>\n",
       "<p>5 rows × 141 columns</p>\n",
       "</div>"
      ],
      "text/plain": [
       "    Age     G    GS      MP   PER    TS%   3PAr    FTr  ORB%  DRB%  ...  \\\n",
       "0  24.0  22.0   0.0   163.0   8.4  0.472  0.238  0.476   5.4  20.9  ...   \n",
       "1  32.0  65.0   0.0   894.0   9.5  0.507  0.427  0.133   2.3   6.3  ...   \n",
       "2  21.0  80.0  72.0  2298.0  14.4  0.530  0.309  0.251   5.3  14.1  ...   \n",
       "3  22.0   5.0   0.0    17.0  -2.2  0.102  0.500  0.500   0.0  19.5  ...   \n",
       "4  25.0  18.0   0.0   135.0  14.4  0.505  0.278  0.352   7.7  21.0  ...   \n",
       "\n",
       "   Year_season_start_2011  Year_season_start_2012  Year_season_start_2013  \\\n",
       "0                     0.0                     0.0                     0.0   \n",
       "1                     0.0                     0.0                     0.0   \n",
       "2                     0.0                     0.0                     0.0   \n",
       "3                     0.0                     0.0                     0.0   \n",
       "4                     0.0                     0.0                     0.0   \n",
       "\n",
       "   Year_season_start_2014  Year_season_start_2015  Year_season_start_2016  \\\n",
       "0                     0.0                     0.0                     1.0   \n",
       "1                     0.0                     0.0                     1.0   \n",
       "2                     0.0                     0.0                     1.0   \n",
       "3                     0.0                     0.0                     1.0   \n",
       "4                     0.0                     0.0                     1.0   \n",
       "\n",
       "         PPG       APG       RPG       SPG  \n",
       "0   2.181818  0.181818  0.590909  0.045455  \n",
       "1   4.953846  1.923077  0.138462  0.384615  \n",
       "2  12.737500  1.875000  0.500000  0.800000  \n",
       "3   0.200000  0.600000  0.000000  0.000000  \n",
       "4   3.500000  0.388889  0.388889  0.444444  \n",
       "\n",
       "[5 rows x 141 columns]"
      ]
     },
     "execution_count": 103,
     "metadata": {},
     "output_type": "execute_result"
    }
   ],
   "source": [
    "#machine learning part\n",
    "\n",
    "\n",
    "\n",
    "#Here is the code for how to \"Replace NaN with zero and infinity with large finite numbers.\" using numpy.nan_to_num.\n",
    "\n",
    "Season_Stats_ML_DF[:] = np.nan_to_num(Season_Stats_ML_DF)\n",
    "\n",
    "#X = Season_Stats_ML_DF_loans.copy()\n",
    "X = Season_Stats_ML_DF.drop(\"AllNBA_Center\", axis=1)\n",
    "X.head()        \n",
    "                                                                        "
   ]
  },
  {
   "cell_type": "code",
   "execution_count": 104,
   "metadata": {
    "id": "YacLMRO3eNzf"
   },
   "outputs": [
    {
     "data": {
      "text/plain": [
       "array([[0.],\n",
       "       [0.],\n",
       "       [0.],\n",
       "       [0.],\n",
       "       [0.]])"
      ]
     },
     "execution_count": 104,
     "metadata": {},
     "output_type": "execute_result"
    }
   ],
   "source": [
    "y = Season_Stats_ML_DF[\"AllNBA_Center\"].values.reshape(-1, 1)\n",
    "y[:5]"
   ]
  },
  {
   "cell_type": "code",
   "execution_count": 105,
   "metadata": {
    "id": "G9_Qoo1BeNzf"
   },
   "outputs": [],
   "source": [
    "# Splitting into Train and Test sets\n",
    "from sklearn.model_selection import train_test_split\n",
    "X_train, X_test, y_train, y_test = train_test_split(X, y, random_state=78)"
   ]
  },
  {
   "cell_type": "code",
   "execution_count": 106,
   "metadata": {
    "id": "k7bw3kGYeNzf"
   },
   "outputs": [],
   "source": [
    "from sklearn.preprocessing import StandardScaler\n",
    "# Creating StandardScaler instance\n",
    "scaler = StandardScaler()\n",
    "# Fitting Standard Scaller\n",
    "X_scaler = scaler.fit(X_train)\n",
    "# Scaling data\n",
    "X_train_scaled = X_scaler.transform(X_train)\n",
    "X_test_scaled = X_scaler.transform(X_test)"
   ]
  },
  {
   "cell_type": "code",
   "execution_count": 108,
   "metadata": {
    "id": "FhN0kBSweNzf"
   },
   "outputs": [],
   "source": [
    "import pandas as pd\n",
    "from path import Path\n",
    "from sklearn import tree\n",
    "from sklearn.preprocessing import StandardScaler\n",
    "from sklearn.model_selection import train_test_split\n",
    "from sklearn.metrics import confusion_matrix, accuracy_score, classification_report\n",
    "from sklearn import tree\n",
    "# Creating the decision tree classifier instance\n",
    "model = tree.DecisionTreeClassifier()\n",
    "\n",
    "model = model.fit(X_train_scaled, y_train)\n",
    "\n",
    "# Making predictions using the testing data\n",
    "predictions = model.predict(X_test_scaled)\n",
    "predictions\n",
    "\n",
    "\n",
    "\n",
    "# Calculating the confusion matrix\n",
    "cm = confusion_matrix(y_test, predictions)\n",
    "cm_df = pd.DataFrame(\n",
    "    cm, index=[\"Actual 0\", \"Actual 1\"], columns=[\"Predicted 0\", \"Predicted 1\"]\n",
    ")\n",
    "\n",
    "# Calculating the accuracy score\n",
    "acc_score = accuracy_score(y_test, predictions)"
   ]
  },
  {
   "cell_type": "code",
   "execution_count": 109,
   "metadata": {
    "id": "JkzjqTtLeNzg"
   },
   "outputs": [
    {
     "name": "stdout",
     "output_type": "stream",
     "text": [
      "Confusion Matrix\n"
     ]
    },
    {
     "data": {
      "text/html": [
       "<div>\n",
       "<style scoped>\n",
       "    .dataframe tbody tr th:only-of-type {\n",
       "        vertical-align: middle;\n",
       "    }\n",
       "\n",
       "    .dataframe tbody tr th {\n",
       "        vertical-align: top;\n",
       "    }\n",
       "\n",
       "    .dataframe thead th {\n",
       "        text-align: right;\n",
       "    }\n",
       "</style>\n",
       "<table border=\"1\" class=\"dataframe\">\n",
       "  <thead>\n",
       "    <tr style=\"text-align: right;\">\n",
       "      <th></th>\n",
       "      <th>Predicted 0</th>\n",
       "      <th>Predicted 1</th>\n",
       "    </tr>\n",
       "  </thead>\n",
       "  <tbody>\n",
       "    <tr>\n",
       "      <th>Actual 0</th>\n",
       "      <td>4868</td>\n",
       "      <td>12</td>\n",
       "    </tr>\n",
       "    <tr>\n",
       "      <th>Actual 1</th>\n",
       "      <td>13</td>\n",
       "      <td>19</td>\n",
       "    </tr>\n",
       "  </tbody>\n",
       "</table>\n",
       "</div>"
      ],
      "text/plain": [
       "          Predicted 0  Predicted 1\n",
       "Actual 0         4868           12\n",
       "Actual 1           13           19"
      ]
     },
     "metadata": {},
     "output_type": "display_data"
    },
    {
     "name": "stdout",
     "output_type": "stream",
     "text": [
      "Accuracy Score : 0.9949104234527687\n",
      "Classification Report\n",
      "              precision    recall  f1-score   support\n",
      "\n",
      "         0.0       1.00      1.00      1.00      4880\n",
      "         1.0       0.61      0.59      0.60        32\n",
      "\n",
      "    accuracy                           0.99      4912\n",
      "   macro avg       0.81      0.80      0.80      4912\n",
      "weighted avg       0.99      0.99      0.99      4912\n",
      "\n"
     ]
    }
   ],
   "source": [
    "# Displaying results\n",
    "print(\"Confusion Matrix\")\n",
    "display(cm_df)\n",
    "print(f\"Accuracy Score : {acc_score}\")\n",
    "print(\"Classification Report\")\n",
    "print(classification_report(y_test, predictions))"
   ]
  },
  {
   "cell_type": "code",
   "execution_count": null,
   "metadata": {},
   "outputs": [],
   "source": []
  }
 ],
 "metadata": {
  "colab": {
   "name": "final_project_segment.ipynb",
   "provenance": []
  },
  "kernelspec": {
   "display_name": "Python 3",
   "language": "python",
   "name": "python3"
  },
  "language_info": {
   "codemirror_mode": {
    "name": "ipython",
    "version": 3
   },
   "file_extension": ".py",
   "mimetype": "text/x-python",
   "name": "python",
   "nbconvert_exporter": "python",
   "pygments_lexer": "ipython3",
   "version": "3.8.5"
  }
 },
 "nbformat": 4,
 "nbformat_minor": 1
}
