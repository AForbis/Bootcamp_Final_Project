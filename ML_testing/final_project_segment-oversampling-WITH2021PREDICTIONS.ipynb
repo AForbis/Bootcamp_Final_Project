{
 "cells": [
  {
   "cell_type": "code",
   "execution_count": 116,
   "metadata": {},
   "outputs": [],
   "source": [
    "import pandas as pd \n",
    "import numpy as np\n",
    "import requests\n",
    "import io\n",
    "import csv\n",
    "from path import Path\n",
    "import psycopg2\n",
    "#from config import db_password\n",
    "\n",
    "# Expand cols\n",
    "pd.set_option('display.max_columns', 80)"
   ]
  },
  {
   "cell_type": "markdown",
   "metadata": {},
   "source": [
    "CREATE DATASET"
   ]
  },
  {
   "cell_type": "code",
   "execution_count": 117,
   "metadata": {},
   "outputs": [],
   "source": [
    "# Connction to AWS nba database\n",
    "connection = psycopg2.connect(\n",
    "    host = 'nba-db.cpmpsi1pfaz0.us-east-2.rds.amazonaws.com',\n",
    "    port = 5432,\n",
    "    user = 'postgres',\n",
    "    password = 'caf3rac3',\n",
    "    database='postgres'\n",
    "    )\n",
    "cursor=connection.cursor()"
   ]
  },
  {
   "cell_type": "code",
   "execution_count": 118,
   "metadata": {},
   "outputs": [
    {
     "output_type": "execute_result",
     "data": {
      "text/plain": [
       "     Season   Tm Position             PlayerName  Season_Start_Year\n",
       "0   2019-20  1st        C          Anthony Davis               2019\n",
       "1   2019-20  1st        F  Giannis Antetokounmpo               2019\n",
       "2   2019-20  1st        F           LeBron James               2019\n",
       "3   2019-20  1st        G           James Harden               2019\n",
       "4   2019-20  1st        G            Luka Dončić               2019\n",
       "5   2019-20  2nd        C           Nikola Jokić               2019\n",
       "6   2019-20  2nd        F          Kawhi Leonard               2019\n",
       "7   2019-20  2nd        F          Pascal Siakam               2019\n",
       "8   2019-20  2nd        G         Damian Lillard               2019\n",
       "9   2019-20  2nd        G             Chris Paul               2019\n",
       "10  2019-20  3rd        C            Rudy Gobert               2019\n",
       "11  2019-20  3rd        F           Jayson Tatum               2019\n",
       "12  2019-20  3rd        F           Jimmy Butler               2019\n",
       "13  2019-20  3rd        G            Ben Simmons               2019\n",
       "14  2019-20  3rd        G      Russell Westbrook               2019"
      ],
      "text/html": "<div>\n<style scoped>\n    .dataframe tbody tr th:only-of-type {\n        vertical-align: middle;\n    }\n\n    .dataframe tbody tr th {\n        vertical-align: top;\n    }\n\n    .dataframe thead th {\n        text-align: right;\n    }\n</style>\n<table border=\"1\" class=\"dataframe\">\n  <thead>\n    <tr style=\"text-align: right;\">\n      <th></th>\n      <th>Season</th>\n      <th>Tm</th>\n      <th>Position</th>\n      <th>PlayerName</th>\n      <th>Season_Start_Year</th>\n    </tr>\n  </thead>\n  <tbody>\n    <tr>\n      <th>0</th>\n      <td>2019-20</td>\n      <td>1st</td>\n      <td>C</td>\n      <td>Anthony Davis</td>\n      <td>2019</td>\n    </tr>\n    <tr>\n      <th>1</th>\n      <td>2019-20</td>\n      <td>1st</td>\n      <td>F</td>\n      <td>Giannis Antetokounmpo</td>\n      <td>2019</td>\n    </tr>\n    <tr>\n      <th>2</th>\n      <td>2019-20</td>\n      <td>1st</td>\n      <td>F</td>\n      <td>LeBron James</td>\n      <td>2019</td>\n    </tr>\n    <tr>\n      <th>3</th>\n      <td>2019-20</td>\n      <td>1st</td>\n      <td>G</td>\n      <td>James Harden</td>\n      <td>2019</td>\n    </tr>\n    <tr>\n      <th>4</th>\n      <td>2019-20</td>\n      <td>1st</td>\n      <td>G</td>\n      <td>Luka Dončić</td>\n      <td>2019</td>\n    </tr>\n    <tr>\n      <th>5</th>\n      <td>2019-20</td>\n      <td>2nd</td>\n      <td>C</td>\n      <td>Nikola Jokić</td>\n      <td>2019</td>\n    </tr>\n    <tr>\n      <th>6</th>\n      <td>2019-20</td>\n      <td>2nd</td>\n      <td>F</td>\n      <td>Kawhi Leonard</td>\n      <td>2019</td>\n    </tr>\n    <tr>\n      <th>7</th>\n      <td>2019-20</td>\n      <td>2nd</td>\n      <td>F</td>\n      <td>Pascal Siakam</td>\n      <td>2019</td>\n    </tr>\n    <tr>\n      <th>8</th>\n      <td>2019-20</td>\n      <td>2nd</td>\n      <td>G</td>\n      <td>Damian Lillard</td>\n      <td>2019</td>\n    </tr>\n    <tr>\n      <th>9</th>\n      <td>2019-20</td>\n      <td>2nd</td>\n      <td>G</td>\n      <td>Chris Paul</td>\n      <td>2019</td>\n    </tr>\n    <tr>\n      <th>10</th>\n      <td>2019-20</td>\n      <td>3rd</td>\n      <td>C</td>\n      <td>Rudy Gobert</td>\n      <td>2019</td>\n    </tr>\n    <tr>\n      <th>11</th>\n      <td>2019-20</td>\n      <td>3rd</td>\n      <td>F</td>\n      <td>Jayson Tatum</td>\n      <td>2019</td>\n    </tr>\n    <tr>\n      <th>12</th>\n      <td>2019-20</td>\n      <td>3rd</td>\n      <td>F</td>\n      <td>Jimmy Butler</td>\n      <td>2019</td>\n    </tr>\n    <tr>\n      <th>13</th>\n      <td>2019-20</td>\n      <td>3rd</td>\n      <td>G</td>\n      <td>Ben Simmons</td>\n      <td>2019</td>\n    </tr>\n    <tr>\n      <th>14</th>\n      <td>2019-20</td>\n      <td>3rd</td>\n      <td>G</td>\n      <td>Russell Westbrook</td>\n      <td>2019</td>\n    </tr>\n  </tbody>\n</table>\n</div>"
     },
     "metadata": {},
     "execution_count": 118
    }
   ],
   "source": [
    "#read in data from database for All NBA table\n",
    "nba_unpivoted_sql = 'SELECT * FROM public.allnba_unpivoted'\n",
    "All_NBA_Unpivoted_df = pd.read_sql(nba_unpivoted_sql, con=connection).drop(['Lg'],axis=1)\n",
    "#rename the players column\n",
    "All_NBA_Unpivoted_df=All_NBA_Unpivoted_df.rename(columns = {'Value':'PlayerName'})\n",
    "#create column with the start year\n",
    "All_NBA_Unpivoted_df['Season_Start_Year'] = All_NBA_Unpivoted_df['Season'].apply(lambda row: row[0:4])\n",
    "All_NBA_Unpivoted_df['Season_Start_Year'] = pd.to_numeric(All_NBA_Unpivoted_df['Season_Start_Year'])\n",
    "All_NBA_Unpivoted_df.head(15)"
   ]
  },
  {
   "cell_type": "code",
   "execution_count": 119,
   "metadata": {},
   "outputs": [
    {
     "output_type": "execute_result",
     "data": {
      "text/plain": [
       "   Season_Start_Year   PlayerName_Formatted  AllNBA_Center  AllNBA_Forward  \\\n",
       "0               2019          Anthony Davis              1               0   \n",
       "1               2019  Giannis Antetokounmpo              0               1   \n",
       "2               2019           LeBron James              0               1   \n",
       "3               2019           James Harden              0               0   \n",
       "4               2019            Luka Doncic              0               0   \n",
       "5               2019           Nikola Jokic              1               0   \n",
       "6               2019          Kawhi Leonard              0               1   \n",
       "7               2019          Pascal Siakam              0               1   \n",
       "8               2019         Damian Lillard              0               0   \n",
       "9               2019             Chris Paul              0               0   \n",
       "\n",
       "   AllNBA_Guard  Tm_1st  Tm_2nd  Tm_3rd  \n",
       "0             0       1       0       0  \n",
       "1             0       1       0       0  \n",
       "2             0       1       0       0  \n",
       "3             1       1       0       0  \n",
       "4             1       1       0       0  \n",
       "5             0       0       1       0  \n",
       "6             0       0       1       0  \n",
       "7             0       0       1       0  \n",
       "8             1       0       1       0  \n",
       "9             1       0       1       0  "
      ],
      "text/html": "<div>\n<style scoped>\n    .dataframe tbody tr th:only-of-type {\n        vertical-align: middle;\n    }\n\n    .dataframe tbody tr th {\n        vertical-align: top;\n    }\n\n    .dataframe thead th {\n        text-align: right;\n    }\n</style>\n<table border=\"1\" class=\"dataframe\">\n  <thead>\n    <tr style=\"text-align: right;\">\n      <th></th>\n      <th>Season_Start_Year</th>\n      <th>PlayerName_Formatted</th>\n      <th>AllNBA_Center</th>\n      <th>AllNBA_Forward</th>\n      <th>AllNBA_Guard</th>\n      <th>Tm_1st</th>\n      <th>Tm_2nd</th>\n      <th>Tm_3rd</th>\n    </tr>\n  </thead>\n  <tbody>\n    <tr>\n      <th>0</th>\n      <td>2019</td>\n      <td>Anthony Davis</td>\n      <td>1</td>\n      <td>0</td>\n      <td>0</td>\n      <td>1</td>\n      <td>0</td>\n      <td>0</td>\n    </tr>\n    <tr>\n      <th>1</th>\n      <td>2019</td>\n      <td>Giannis Antetokounmpo</td>\n      <td>0</td>\n      <td>1</td>\n      <td>0</td>\n      <td>1</td>\n      <td>0</td>\n      <td>0</td>\n    </tr>\n    <tr>\n      <th>2</th>\n      <td>2019</td>\n      <td>LeBron James</td>\n      <td>0</td>\n      <td>1</td>\n      <td>0</td>\n      <td>1</td>\n      <td>0</td>\n      <td>0</td>\n    </tr>\n    <tr>\n      <th>3</th>\n      <td>2019</td>\n      <td>James Harden</td>\n      <td>0</td>\n      <td>0</td>\n      <td>1</td>\n      <td>1</td>\n      <td>0</td>\n      <td>0</td>\n    </tr>\n    <tr>\n      <th>4</th>\n      <td>2019</td>\n      <td>Luka Doncic</td>\n      <td>0</td>\n      <td>0</td>\n      <td>1</td>\n      <td>1</td>\n      <td>0</td>\n      <td>0</td>\n    </tr>\n    <tr>\n      <th>5</th>\n      <td>2019</td>\n      <td>Nikola Jokic</td>\n      <td>1</td>\n      <td>0</td>\n      <td>0</td>\n      <td>0</td>\n      <td>1</td>\n      <td>0</td>\n    </tr>\n    <tr>\n      <th>6</th>\n      <td>2019</td>\n      <td>Kawhi Leonard</td>\n      <td>0</td>\n      <td>1</td>\n      <td>0</td>\n      <td>0</td>\n      <td>1</td>\n      <td>0</td>\n    </tr>\n    <tr>\n      <th>7</th>\n      <td>2019</td>\n      <td>Pascal Siakam</td>\n      <td>0</td>\n      <td>1</td>\n      <td>0</td>\n      <td>0</td>\n      <td>1</td>\n      <td>0</td>\n    </tr>\n    <tr>\n      <th>8</th>\n      <td>2019</td>\n      <td>Damian Lillard</td>\n      <td>0</td>\n      <td>0</td>\n      <td>1</td>\n      <td>0</td>\n      <td>1</td>\n      <td>0</td>\n    </tr>\n    <tr>\n      <th>9</th>\n      <td>2019</td>\n      <td>Chris Paul</td>\n      <td>0</td>\n      <td>0</td>\n      <td>1</td>\n      <td>0</td>\n      <td>1</td>\n      <td>0</td>\n    </tr>\n  </tbody>\n</table>\n</div>"
     },
     "metadata": {},
     "execution_count": 119
    }
   ],
   "source": [
    "\n",
    "#cleaning up the names with crazy characters\n",
    "All_NBA_Unpivoted_df['PlayerName_Formatted'] = All_NBA_Unpivoted_df['PlayerName'].apply(lambda row: row.replace(\"ć\",\"c\"))\n",
    "All_NBA_Unpivoted_df['PlayerName_Formatted'] = All_NBA_Unpivoted_df['PlayerName_Formatted'].apply(lambda row: row.replace(\"č\",\"c\"))\n",
    "All_NBA_Unpivoted_df['PlayerName_Formatted'] = All_NBA_Unpivoted_df['PlayerName_Formatted'].apply(lambda row: row.replace(\"ž\",\"z\"))\n",
    "\n",
    "#make dummies for position and team (1st, 2nd, 3rd)\n",
    "All_NBA_Unpivoted_df = pd.get_dummies(All_NBA_Unpivoted_df,columns=['Position','Tm']).drop(['Season','PlayerName'],axis=1)\n",
    "#rename the columns (cosmetic)\n",
    "All_NBA_Unpivoted_df=All_NBA_Unpivoted_df.rename(columns = {'Position_C':'AllNBA_Center'})\n",
    "All_NBA_Unpivoted_df=All_NBA_Unpivoted_df.rename(columns = {'Position_F':'AllNBA_Forward'})\n",
    "All_NBA_Unpivoted_df=All_NBA_Unpivoted_df.rename(columns = {'Position_G':'AllNBA_Guard'})\n",
    "All_NBA_Unpivoted_df.head(10)"
   ]
  },
  {
   "cell_type": "code",
   "execution_count": 120,
   "metadata": {},
   "outputs": [
    {
     "output_type": "execute_result",
     "data": {
      "text/plain": [
       "array(['Anthony Davis', 'Giannis Antetokounmpo', 'LeBron James',\n",
       "       'James Harden', 'Luka Doncic', 'Nikola Jokic', 'Kawhi Leonard',\n",
       "       'Pascal Siakam', 'Damian Lillard', 'Chris Paul', 'Rudy Gobert',\n",
       "       'Jayson Tatum', 'Jimmy Butler', 'Ben Simmons', 'Russell Westbrook',\n",
       "       'Paul George', 'Stephen Curry', 'Joel Embiid', 'Kevin Durant',\n",
       "       'Kyrie Irving', 'Blake Griffin', 'Kemba Walker',\n",
       "       'LaMarcus Aldridge', 'DeMar DeRozan', 'Karl-Anthony Towns',\n",
       "       'Victor Oladipo', 'Isaiah Thomas', 'DeAndre Jordan',\n",
       "       'Draymond Green', 'John Wall', 'DeMarcus Cousins',\n",
       "       'Andre Drummond', 'Klay Thompson', 'Kyle Lowry', 'Marc Gasol',\n",
       "       'Pau Gasol', 'Tim Duncan', 'Joakim Noah', 'Dwight Howard',\n",
       "       'Kevin Love', 'Tony Parker', 'Al Jefferson', 'Goran Dragic',\n",
       "       'Kobe Bryant', 'Carmelo Anthony', 'David Lee', 'Dwyane Wade',\n",
       "       'Andrew Bynum', 'Tyson Chandler', 'Dirk Nowitzki', 'Rajon Rondo',\n",
       "       'Derrick Rose', \"Amar'e Stoudemire\", 'Al Horford', 'Zach Randolph',\n",
       "       'Manu Ginobili', 'Steve Nash', 'Deron Williams', 'Andrew Bogut',\n",
       "       'Joe Johnson', 'Brandon Roy', 'Yao Ming', 'Paul Pierce',\n",
       "       \"Shaquille O'Neal\", 'Chauncey Billups', 'Kevin Garnett',\n",
       "       'Carlos Boozer', 'Tracy McGrady', 'Chris Bosh', 'Gilbert Arenas',\n",
       "       'Ben Wallace', 'Elton Brand', 'Shawn Marion', 'Allen Iverson',\n",
       "       'Ray Allen', 'Jason Kidd', \"Jermaine O'Neal\", 'Peja Stojakovic',\n",
       "       'Sam Cassell', 'Metta World Peace', 'Baron Davis', 'Michael Redd',\n",
       "       'Chris Webber', 'Jamal Mashburn', 'Stephon Marbury', 'Gary Payton',\n",
       "       'Dikembe Mutombo', 'Vince Carter', 'David Robinson', 'Karl Malone',\n",
       "       'Alonzo Mourning', 'Grant Hill', 'Eddie Jones', 'Tim Hardaway',\n",
       "       'Hakeem Olajuwon', 'Antonio McDyess', 'John Stockton',\n",
       "       'Michael Jordan', 'Vin Baker', 'Rod Strickland', 'Scottie Pippen',\n",
       "       'Glen Rice', 'Reggie Miller', 'Mitch Richmond', 'Patrick Ewing',\n",
       "       'Anthony Mason', 'Anfernee Hardaway', 'Shawn Kemp',\n",
       "       'Charles Barkley', 'Juwan Howard', 'Dennis Rodman',\n",
       "       'Detlef Schrempf', 'Clyde Drexler', 'Latrell Sprewell',\n",
       "       'Kevin Johnson', 'Derrick Coleman', 'Dominique Wilkins',\n",
       "       'Mark Price', 'Larry Johnson', 'Joe Dumars', 'Drazen Petrovic',\n",
       "       'Chris Mullin', 'Brad Daugherty', 'Kevin Willis', 'Magic Johnson',\n",
       "       'Bernard King', 'James Worthy', 'Larry Bird', 'Tom Chambers',\n",
       "       'Robert Parish', 'Terry Cummings', 'Dale Ellis', 'Kevin McHale',\n",
       "       'Moses Malone', 'Fat Lever', 'Isiah Thomas', 'Kareem Abdul-Jabbar',\n",
       "       'Alex English', 'Sidney Moncrief', 'Alvin Robertson',\n",
       "       'Ralph Sampson', 'Adrian Dantley', 'Julius Erving', 'Jim Paxson',\n",
       "       'Buck Williams', 'George Gervin', 'Gus Williams', 'Dennis Johnson',\n",
       "       'Marques Johnson', 'Tiny Archibald', 'Otis Birdsong',\n",
       "       'Paul Westphal', 'Dan Roundfield', 'Bill Walton', 'Truck Robinson',\n",
       "       'David Thompson', 'Walter Davis', 'Maurice Lucas', 'Pete Maravich'],\n",
       "      dtype=object)"
      ]
     },
     "metadata": {},
     "execution_count": 120
    }
   ],
   "source": [
    "#get list of all of the players that have made an all nba team\n",
    "AllNBAPlayersList = All_NBA_Unpivoted_df['PlayerName_Formatted'].unique()\n",
    "AllNBAPlayersList"
   ]
  },
  {
   "cell_type": "code",
   "execution_count": 121,
   "metadata": {},
   "outputs": [
    {
     "output_type": "execute_result",
     "data": {
      "text/plain": [
       "   Year_season_end         Player Pos Age   Tm   G  GS      MP   PER  TS_pct  \\\n",
       "0             2018   Álex Abrines  SG  24  OKC  75   8  1134.0   9.0   0.567   \n",
       "1             2018     Quincy Acy  PF  27  BRK  70   8  1359.0   8.2   0.525   \n",
       "2             2018   Steven Adams   C  24  OKC  76  76  2487.0  20.6   0.630   \n",
       "3             2018    Bam Adebayo   C  20  MIA  69  19  1368.0  15.7   0.570   \n",
       "4             2018  Arron Afflalo  SG  32  ORL  53   3   682.0   5.8   0.516   \n",
       "\n",
       "    3PAr    FTr  ORB_pct  DRB_pct  TRB_pct  AST_pct  STL_pct  BLK_pct  \\\n",
       "0  0.759  0.158      2.5      8.9      5.6      3.4      1.7      0.6   \n",
       "1  0.800  0.164      3.1     17.1     10.0      6.0      1.2      1.6   \n",
       "2  0.003  0.402     16.6     13.9     15.3      5.5      1.8      2.8   \n",
       "3  0.021  0.526      9.7     21.6     15.6     11.0      1.2      2.5   \n",
       "4  0.432  0.160      0.6     10.1      5.3      6.2      0.3      1.1   \n",
       "\n",
       "   TOV_pct  USG_pct  OWS  DWS   WS  WS/48  OBPM  DBPM  BPM  VORP     FG  \\\n",
       "0      7.4     12.7  1.3  1.0  2.2  0.094  -1.9   0.4 -1.5   0.1  115.0   \n",
       "1     13.3     14.4 -0.1  1.1  1.0  0.036  -2.6   0.1 -2.5  -0.2  130.0   \n",
       "2     13.3     16.7  6.7  3.0  9.7  0.187   1.7  -0.6  1.1   2.0  448.0   \n",
       "3     13.6     15.9  2.3  1.9  4.2  0.148  -1.1   0.7 -0.4   0.6  174.0   \n",
       "4     10.8     12.5 -0.1  0.2  0.1  0.009  -3.8  -1.5 -5.4  -0.6   65.0   \n",
       "\n",
       "     FGA  FG_pct     3P    3PA  3P_pct     2P    2PA  2P_pct  eFG_pct     FT  \\\n",
       "0  291.0   0.395   84.0  221.0   0.380   31.0   70.0   0.443    0.540   39.0   \n",
       "1  365.0   0.356  102.0  292.0   0.349   28.0   73.0   0.384    0.496   49.0   \n",
       "2  712.0   0.629    0.0    2.0   0.000  448.0  710.0   0.631    0.629  160.0   \n",
       "3  340.0   0.512    0.0    7.0   0.000  174.0  333.0   0.523    0.512  129.0   \n",
       "4  162.0   0.401   27.0   70.0   0.386   38.0   92.0   0.413    0.485   22.0   \n",
       "\n",
       "     FTA  FT_pct    ORB    DRB    TRB    AST   STL   BLK    TOV     PF  \\\n",
       "0   46.0   0.848   26.0   88.0  114.0   28.0  38.0   8.0   25.0  124.0   \n",
       "1   60.0   0.817   40.0  217.0  257.0   57.0  33.0  29.0   60.0  149.0   \n",
       "2  286.0   0.559  384.0  301.0  685.0   88.0  92.0  78.0  128.0  215.0   \n",
       "3  179.0   0.721  118.0  263.0  381.0  101.0  32.0  41.0   66.0  138.0   \n",
       "4   26.0   0.846    4.0   62.0   66.0   30.0   4.0   9.0   21.0   56.0   \n",
       "\n",
       "      PTS  Year_season_start  \n",
       "0   353.0               2017  \n",
       "1   411.0               2017  \n",
       "2  1056.0               2017  \n",
       "3   477.0               2017  \n",
       "4   179.0               2017  "
      ],
      "text/html": "<div>\n<style scoped>\n    .dataframe tbody tr th:only-of-type {\n        vertical-align: middle;\n    }\n\n    .dataframe tbody tr th {\n        vertical-align: top;\n    }\n\n    .dataframe thead th {\n        text-align: right;\n    }\n</style>\n<table border=\"1\" class=\"dataframe\">\n  <thead>\n    <tr style=\"text-align: right;\">\n      <th></th>\n      <th>Year_season_end</th>\n      <th>Player</th>\n      <th>Pos</th>\n      <th>Age</th>\n      <th>Tm</th>\n      <th>G</th>\n      <th>GS</th>\n      <th>MP</th>\n      <th>PER</th>\n      <th>TS_pct</th>\n      <th>3PAr</th>\n      <th>FTr</th>\n      <th>ORB_pct</th>\n      <th>DRB_pct</th>\n      <th>TRB_pct</th>\n      <th>AST_pct</th>\n      <th>STL_pct</th>\n      <th>BLK_pct</th>\n      <th>TOV_pct</th>\n      <th>USG_pct</th>\n      <th>OWS</th>\n      <th>DWS</th>\n      <th>WS</th>\n      <th>WS/48</th>\n      <th>OBPM</th>\n      <th>DBPM</th>\n      <th>BPM</th>\n      <th>VORP</th>\n      <th>FG</th>\n      <th>FGA</th>\n      <th>FG_pct</th>\n      <th>3P</th>\n      <th>3PA</th>\n      <th>3P_pct</th>\n      <th>2P</th>\n      <th>2PA</th>\n      <th>2P_pct</th>\n      <th>eFG_pct</th>\n      <th>FT</th>\n      <th>FTA</th>\n      <th>FT_pct</th>\n      <th>ORB</th>\n      <th>DRB</th>\n      <th>TRB</th>\n      <th>AST</th>\n      <th>STL</th>\n      <th>BLK</th>\n      <th>TOV</th>\n      <th>PF</th>\n      <th>PTS</th>\n      <th>Year_season_start</th>\n    </tr>\n  </thead>\n  <tbody>\n    <tr>\n      <th>0</th>\n      <td>2018</td>\n      <td>Álex Abrines</td>\n      <td>SG</td>\n      <td>24</td>\n      <td>OKC</td>\n      <td>75</td>\n      <td>8</td>\n      <td>1134.0</td>\n      <td>9.0</td>\n      <td>0.567</td>\n      <td>0.759</td>\n      <td>0.158</td>\n      <td>2.5</td>\n      <td>8.9</td>\n      <td>5.6</td>\n      <td>3.4</td>\n      <td>1.7</td>\n      <td>0.6</td>\n      <td>7.4</td>\n      <td>12.7</td>\n      <td>1.3</td>\n      <td>1.0</td>\n      <td>2.2</td>\n      <td>0.094</td>\n      <td>-1.9</td>\n      <td>0.4</td>\n      <td>-1.5</td>\n      <td>0.1</td>\n      <td>115.0</td>\n      <td>291.0</td>\n      <td>0.395</td>\n      <td>84.0</td>\n      <td>221.0</td>\n      <td>0.380</td>\n      <td>31.0</td>\n      <td>70.0</td>\n      <td>0.443</td>\n      <td>0.540</td>\n      <td>39.0</td>\n      <td>46.0</td>\n      <td>0.848</td>\n      <td>26.0</td>\n      <td>88.0</td>\n      <td>114.0</td>\n      <td>28.0</td>\n      <td>38.0</td>\n      <td>8.0</td>\n      <td>25.0</td>\n      <td>124.0</td>\n      <td>353.0</td>\n      <td>2017</td>\n    </tr>\n    <tr>\n      <th>1</th>\n      <td>2018</td>\n      <td>Quincy Acy</td>\n      <td>PF</td>\n      <td>27</td>\n      <td>BRK</td>\n      <td>70</td>\n      <td>8</td>\n      <td>1359.0</td>\n      <td>8.2</td>\n      <td>0.525</td>\n      <td>0.800</td>\n      <td>0.164</td>\n      <td>3.1</td>\n      <td>17.1</td>\n      <td>10.0</td>\n      <td>6.0</td>\n      <td>1.2</td>\n      <td>1.6</td>\n      <td>13.3</td>\n      <td>14.4</td>\n      <td>-0.1</td>\n      <td>1.1</td>\n      <td>1.0</td>\n      <td>0.036</td>\n      <td>-2.6</td>\n      <td>0.1</td>\n      <td>-2.5</td>\n      <td>-0.2</td>\n      <td>130.0</td>\n      <td>365.0</td>\n      <td>0.356</td>\n      <td>102.0</td>\n      <td>292.0</td>\n      <td>0.349</td>\n      <td>28.0</td>\n      <td>73.0</td>\n      <td>0.384</td>\n      <td>0.496</td>\n      <td>49.0</td>\n      <td>60.0</td>\n      <td>0.817</td>\n      <td>40.0</td>\n      <td>217.0</td>\n      <td>257.0</td>\n      <td>57.0</td>\n      <td>33.0</td>\n      <td>29.0</td>\n      <td>60.0</td>\n      <td>149.0</td>\n      <td>411.0</td>\n      <td>2017</td>\n    </tr>\n    <tr>\n      <th>2</th>\n      <td>2018</td>\n      <td>Steven Adams</td>\n      <td>C</td>\n      <td>24</td>\n      <td>OKC</td>\n      <td>76</td>\n      <td>76</td>\n      <td>2487.0</td>\n      <td>20.6</td>\n      <td>0.630</td>\n      <td>0.003</td>\n      <td>0.402</td>\n      <td>16.6</td>\n      <td>13.9</td>\n      <td>15.3</td>\n      <td>5.5</td>\n      <td>1.8</td>\n      <td>2.8</td>\n      <td>13.3</td>\n      <td>16.7</td>\n      <td>6.7</td>\n      <td>3.0</td>\n      <td>9.7</td>\n      <td>0.187</td>\n      <td>1.7</td>\n      <td>-0.6</td>\n      <td>1.1</td>\n      <td>2.0</td>\n      <td>448.0</td>\n      <td>712.0</td>\n      <td>0.629</td>\n      <td>0.0</td>\n      <td>2.0</td>\n      <td>0.000</td>\n      <td>448.0</td>\n      <td>710.0</td>\n      <td>0.631</td>\n      <td>0.629</td>\n      <td>160.0</td>\n      <td>286.0</td>\n      <td>0.559</td>\n      <td>384.0</td>\n      <td>301.0</td>\n      <td>685.0</td>\n      <td>88.0</td>\n      <td>92.0</td>\n      <td>78.0</td>\n      <td>128.0</td>\n      <td>215.0</td>\n      <td>1056.0</td>\n      <td>2017</td>\n    </tr>\n    <tr>\n      <th>3</th>\n      <td>2018</td>\n      <td>Bam Adebayo</td>\n      <td>C</td>\n      <td>20</td>\n      <td>MIA</td>\n      <td>69</td>\n      <td>19</td>\n      <td>1368.0</td>\n      <td>15.7</td>\n      <td>0.570</td>\n      <td>0.021</td>\n      <td>0.526</td>\n      <td>9.7</td>\n      <td>21.6</td>\n      <td>15.6</td>\n      <td>11.0</td>\n      <td>1.2</td>\n      <td>2.5</td>\n      <td>13.6</td>\n      <td>15.9</td>\n      <td>2.3</td>\n      <td>1.9</td>\n      <td>4.2</td>\n      <td>0.148</td>\n      <td>-1.1</td>\n      <td>0.7</td>\n      <td>-0.4</td>\n      <td>0.6</td>\n      <td>174.0</td>\n      <td>340.0</td>\n      <td>0.512</td>\n      <td>0.0</td>\n      <td>7.0</td>\n      <td>0.000</td>\n      <td>174.0</td>\n      <td>333.0</td>\n      <td>0.523</td>\n      <td>0.512</td>\n      <td>129.0</td>\n      <td>179.0</td>\n      <td>0.721</td>\n      <td>118.0</td>\n      <td>263.0</td>\n      <td>381.0</td>\n      <td>101.0</td>\n      <td>32.0</td>\n      <td>41.0</td>\n      <td>66.0</td>\n      <td>138.0</td>\n      <td>477.0</td>\n      <td>2017</td>\n    </tr>\n    <tr>\n      <th>4</th>\n      <td>2018</td>\n      <td>Arron Afflalo</td>\n      <td>SG</td>\n      <td>32</td>\n      <td>ORL</td>\n      <td>53</td>\n      <td>3</td>\n      <td>682.0</td>\n      <td>5.8</td>\n      <td>0.516</td>\n      <td>0.432</td>\n      <td>0.160</td>\n      <td>0.6</td>\n      <td>10.1</td>\n      <td>5.3</td>\n      <td>6.2</td>\n      <td>0.3</td>\n      <td>1.1</td>\n      <td>10.8</td>\n      <td>12.5</td>\n      <td>-0.1</td>\n      <td>0.2</td>\n      <td>0.1</td>\n      <td>0.009</td>\n      <td>-3.8</td>\n      <td>-1.5</td>\n      <td>-5.4</td>\n      <td>-0.6</td>\n      <td>65.0</td>\n      <td>162.0</td>\n      <td>0.401</td>\n      <td>27.0</td>\n      <td>70.0</td>\n      <td>0.386</td>\n      <td>38.0</td>\n      <td>92.0</td>\n      <td>0.413</td>\n      <td>0.485</td>\n      <td>22.0</td>\n      <td>26.0</td>\n      <td>0.846</td>\n      <td>4.0</td>\n      <td>62.0</td>\n      <td>66.0</td>\n      <td>30.0</td>\n      <td>4.0</td>\n      <td>9.0</td>\n      <td>21.0</td>\n      <td>56.0</td>\n      <td>179.0</td>\n      <td>2017</td>\n    </tr>\n  </tbody>\n</table>\n</div>"
     },
     "metadata": {},
     "execution_count": 121
    }
   ],
   "source": [
    "#read in data from database for season stats table\n",
    "seasons_stats_sql = 'SELECT * FROM public.seasons_stats'\n",
    "season_stats_df = pd.read_sql(seasons_stats_sql, con=connection)\n",
    "#divid year into season start and end\n",
    "season_stats_df=season_stats_df.rename(columns = {'Year':'Year_season_end'})\n",
    "season_stats_df['Year_season_end'] = pd.to_numeric(season_stats_df['Year_season_end'])\n",
    "season_stats_df['Year_season_start'] = (season_stats_df['Year_season_end'] - 1)\n",
    "season_stats_df['Player'] = season_stats_df['Player'].apply(lambda row: row.replace(\"*\",\"\"))\n",
    "season_stats_df.head()\n"
   ]
  },
  {
   "cell_type": "code",
   "execution_count": 122,
   "metadata": {},
   "outputs": [
    {
     "output_type": "stream",
     "name": "stdout",
     "text": [
      "Luka Doncic\n"
     ]
    }
   ],
   "source": [
    "# get list of every nba player\n",
    "AllPlayersList = season_stats_df.Player.unique()\n",
    "AllPlayersList_df = pd.DataFrame(AllPlayersList)\n",
    "#AllPlayersList_df.to_csv('listofplayers_test.csv')\n",
    "\n",
    "#check and make sure every all-nba player shows up in the season data dataset\n",
    "#players who weren't in the league in 2017 will show up here, that's okay!\n",
    "#I cleaned up a bunch of names in the excel\n",
    "for player in AllNBAPlayersList:\n",
    "    if player not in AllPlayersList:   \n",
    "        print(player)"
   ]
  },
  {
   "cell_type": "code",
   "execution_count": 123,
   "metadata": {},
   "outputs": [],
   "source": [
    "#merge allNBA status into season stats\n",
    "Season_Stats_ML_DF = pd.merge(season_stats_df,All_NBA_Unpivoted_df,how='left',left_on = ['Player','Year_season_start'], right_on = ['PlayerName_Formatted','Season_Start_Year'])"
   ]
  },
  {
   "cell_type": "code",
   "execution_count": 124,
   "metadata": {},
   "outputs": [],
   "source": [
    "# get rid of duplicate cols\n",
    "Season_Stats_ML_DF = Season_Stats_ML_DF.drop(['Season_Start_Year','PlayerName_Formatted'],axis=1)"
   ]
  },
  {
   "cell_type": "code",
   "execution_count": 125,
   "metadata": {},
   "outputs": [],
   "source": [
    "# fill in zeros for players that arent all nba\n",
    "Season_Stats_ML_DF['AllNBA_Center'] = Season_Stats_ML_DF['AllNBA_Center'].fillna(int(0))\n",
    "Season_Stats_ML_DF['AllNBA_Forward'] = Season_Stats_ML_DF['AllNBA_Forward'].fillna(int(0))\n",
    "Season_Stats_ML_DF['AllNBA_Guard'] = Season_Stats_ML_DF['AllNBA_Guard'].fillna(int(0))\n",
    "Season_Stats_ML_DF['Tm_1st'] = Season_Stats_ML_DF['Tm_1st'].fillna(int(0))\n",
    "Season_Stats_ML_DF['Tm_2nd'] = Season_Stats_ML_DF['Tm_2nd'].fillna(int(0))\n",
    "Season_Stats_ML_DF['Tm_3rd'] = Season_Stats_ML_DF['Tm_3rd'].fillna(int(0))"
   ]
  },
  {
   "cell_type": "code",
   "execution_count": 126,
   "metadata": {},
   "outputs": [
    {
     "output_type": "execute_result",
     "data": {
      "text/plain": [
       "array(['SG', 'PF', 'C', 'PG', 'SF', 'SF-SG', 'PG-SG', 'PF-SF', 'SG-SF',\n",
       "       'SG-PF', 'C-PF', 'PF-C', 'SF-PF', 'SG-PG', 'SF-C', 'PG-SF', 'C-SF'],\n",
       "      dtype=object)"
      ]
     },
     "metadata": {},
     "execution_count": 126
    }
   ],
   "source": [
    "#get list of positions\n",
    "Positions_List = Season_Stats_ML_DF['Pos'].unique()\n",
    "Positions_List"
   ]
  },
  {
   "cell_type": "code",
   "execution_count": 127,
   "metadata": {},
   "outputs": [],
   "source": [
    "# create functions to determine if player is a guard forward and/or center\n",
    "def is_forward(pos):\n",
    "    possible_pos = [ 'SF',  'PF', 'PF-C', 'SG-SF', 'PF-SF', 'SF-SG', 'SF-PF', 'C-PF', 'SG-PF', 'C-SF', 'PG-SF']\n",
    "    if pos in possible_pos: isF = 1\n",
    "    else: isF = 0\n",
    "    return isF\n",
    "\n",
    "def is_guard(pos):\n",
    "    possible_pos = ['PG','SG','SG-SF','PG-SG','SG-PG','SF-SG','SG-PF','PG-SF']\n",
    "    if pos in possible_pos: isG = 1\n",
    "    else: isG = 0\n",
    "    return isG\n",
    "\n",
    "def is_center(pos):\n",
    "    possible_pos = ['C','PF-C','C-PF','C-SF']\n",
    "    if pos in possible_pos: isC = 1\n",
    "    else: isC = 0\n",
    "    return isC"
   ]
  },
  {
   "cell_type": "code",
   "execution_count": 128,
   "metadata": {},
   "outputs": [],
   "source": [
    "#Create dummy columns for G, F, C\n",
    "Season_Stats_ML_DF['is_Guard'] = Season_Stats_ML_DF['Pos'].apply(lambda pos: is_guard(pos) )\n",
    "Season_Stats_ML_DF['is_Forward'] = Season_Stats_ML_DF['Pos'].apply(lambda pos: is_forward(pos) )\n",
    "Season_Stats_ML_DF['is_Center'] = Season_Stats_ML_DF['Pos'].apply(lambda pos: is_center(pos) )"
   ]
  },
  {
   "cell_type": "code",
   "execution_count": 129,
   "metadata": {},
   "outputs": [],
   "source": [
    "#Drop the Pos Column since we have dummy columns\n",
    "Season_Stats_ML_DF=Season_Stats_ML_DF.drop(['Pos'],axis=1)"
   ]
  },
  {
   "cell_type": "code",
   "execution_count": 130,
   "metadata": {},
   "outputs": [
    {
     "output_type": "execute_result",
     "data": {
      "text/plain": [
       "Index(['Age', 'Tm', 'G', 'GS', 'MP', 'PER', 'TS_pct', '3PAr', 'FTr', 'ORB_pct',\n",
       "       'DRB_pct', 'TRB_pct', 'AST_pct', 'STL_pct', 'BLK_pct', 'TOV_pct',\n",
       "       'USG_pct', 'OWS', 'DWS', 'WS', 'WS/48', 'OBPM', 'DBPM', 'BPM', 'VORP',\n",
       "       'FG', 'FGA', 'FG_pct', '3P', '3PA', '3P_pct', '2P', '2PA', '2P_pct',\n",
       "       'eFG_pct', 'FT', 'FTA', 'FT_pct', 'ORB', 'DRB', 'TRB', 'AST', 'STL',\n",
       "       'BLK', 'TOV', 'PF', 'PTS', 'AllNBA_Center', 'AllNBA_Forward',\n",
       "       'AllNBA_Guard', 'Tm_1st', 'Tm_2nd', 'Tm_3rd', 'is_Guard', 'is_Forward',\n",
       "       'is_Center'],\n",
       "      dtype='object')"
      ]
     },
     "metadata": {},
     "execution_count": 130
    }
   ],
   "source": [
    "# drop year  and player name\n",
    "Season_Stats_ML_DF=Season_Stats_ML_DF.drop(['Year_season_end','Player'],axis=1)\n",
    "Season_Stats_ML_DF=Season_Stats_ML_DF.drop(['Year_season_start'],axis=1)\n",
    "\n",
    "Season_Stats_ML_DF.columns"
   ]
  },
  {
   "cell_type": "code",
   "execution_count": 131,
   "metadata": {},
   "outputs": [],
   "source": [
    "#Creating Per Game Statistics\n",
    "\n",
    "#Points per Game\n",
    "Season_Stats_ML_DF[\"PPG\"] = Season_Stats_ML_DF[\"PTS\"]/Season_Stats_ML_DF[\"G\"]\n",
    "#Assits Per Game\n",
    "Season_Stats_ML_DF[\"APG\"] = Season_Stats_ML_DF[\"AST\"]/Season_Stats_ML_DF[\"G\"]\n",
    "#Rebounds Per Game\n",
    "Season_Stats_ML_DF[\"RPG\"] = Season_Stats_ML_DF[\"TRB\"]/Season_Stats_ML_DF[\"G\"]\n",
    "#Blocks Per Game\n",
    "Season_Stats_ML_DF[\"RPG\"] = Season_Stats_ML_DF[\"BLK\"]/Season_Stats_ML_DF[\"G\"]\n",
    "#STLs Per Game\n",
    "Season_Stats_ML_DF[\"SPG\"] = Season_Stats_ML_DF[\"STL\"]/Season_Stats_ML_DF[\"G\"]"
   ]
  },
  {
   "cell_type": "code",
   "execution_count": 132,
   "metadata": {},
   "outputs": [],
   "source": [
    "Season_Stats_ML_DF['3PAr'] = Season_Stats_ML_DF['3PAr'].fillna(int(0))\n",
    "Season_Stats_ML_DF['3P'] = Season_Stats_ML_DF['3P'].fillna(int(0))\n",
    "Season_Stats_ML_DF['3PA'] = Season_Stats_ML_DF['3PA'].fillna(int(0))\n",
    "Season_Stats_ML_DF['3P_pct'] = Season_Stats_ML_DF['3P_pct'].fillna(int(0))\n"
   ]
  },
  {
   "cell_type": "code",
   "execution_count": 133,
   "metadata": {},
   "outputs": [],
   "source": [
    "#make dummies for team\n",
    "#Season_Stats_ML_DF = pd.get_dummies(Season_Stats_ML_DF,columns=['Tm'])\n",
    "#I don't like this lol"
   ]
  },
  {
   "cell_type": "code",
   "execution_count": 134,
   "metadata": {},
   "outputs": [],
   "source": [
    "# Fill null values with zero\n",
    "for col in list(Season_Stats_ML_DF.columns):\n",
    "    Season_Stats_ML_DF[col] = Season_Stats_ML_DF[col].fillna(int(0))"
   ]
  },
  {
   "cell_type": "code",
   "execution_count": null,
   "metadata": {},
   "outputs": [],
   "source": []
  },
  {
   "cell_type": "code",
   "execution_count": null,
   "metadata": {},
   "outputs": [],
   "source": []
  },
  {
   "cell_type": "code",
   "execution_count": null,
   "metadata": {},
   "outputs": [],
   "source": []
  },
  {
   "cell_type": "markdown",
   "metadata": {},
   "source": [
    "ALL NBA CENTER MACHINE LEARNING SECTION"
   ]
  },
  {
   "cell_type": "code",
   "execution_count": 135,
   "metadata": {},
   "outputs": [
    {
     "output_type": "stream",
     "name": "stdout",
     "text": [
      "Confusion Matrix Centers\n"
     ]
    },
    {
     "output_type": "display_data",
     "data": {
      "text/plain": "          Predicted 0  Predicted 1\nActual 0         1015            6\nActual 1           11           19",
      "text/html": "<div>\n<style scoped>\n    .dataframe tbody tr th:only-of-type {\n        vertical-align: middle;\n    }\n\n    .dataframe tbody tr th {\n        vertical-align: top;\n    }\n\n    .dataframe thead th {\n        text-align: right;\n    }\n</style>\n<table border=\"1\" class=\"dataframe\">\n  <thead>\n    <tr style=\"text-align: right;\">\n      <th></th>\n      <th>Predicted 0</th>\n      <th>Predicted 1</th>\n    </tr>\n  </thead>\n  <tbody>\n    <tr>\n      <th>Actual 0</th>\n      <td>1015</td>\n      <td>6</td>\n    </tr>\n    <tr>\n      <th>Actual 1</th>\n      <td>11</td>\n      <td>19</td>\n    </tr>\n  </tbody>\n</table>\n</div>"
     },
     "metadata": {}
    },
    {
     "output_type": "stream",
     "name": "stdout",
     "text": [
      "Accuracy Score : 0.9838249286393911\nClassification Report\n              precision    recall  f1-score   support\n\n         0.0       0.99      0.99      0.99      1021\n         1.0       0.76      0.63      0.69        30\n\n    accuracy                           0.98      1051\n   macro avg       0.87      0.81      0.84      1051\nweighted avg       0.98      0.98      0.98      1051\n\n"
     ]
    }
   ],
   "source": [
    "#Create Dataset for X & y, make sure it is only centers...we don't need guard or forward data her\n",
    "\n",
    "# implement random oversampling\n",
    "from imblearn.over_sampling import RandomOverSampler\n",
    "ros = RandomOverSampler(random_state=78)\n",
    "\n",
    "X = Season_Stats_ML_DF[Season_Stats_ML_DF.is_Center==1]\n",
    "X = X.drop(['AllNBA_Center','AllNBA_Forward','AllNBA_Guard','is_Guard','is_Center','is_Forward','WS/48','STL_pct','APG','GS'], axis=1)\n",
    "X = X.drop(['Tm_1st','Tm_2nd','Tm_3rd'], axis=1)\n",
    "#I dont think team is that important\n",
    "X = X.drop(['Tm'], axis=1)\n",
    "y = Season_Stats_ML_DF[Season_Stats_ML_DF.is_Center==1]\n",
    "y = y[\"AllNBA_Center\"].values.reshape(-1, 1)\n",
    "\n",
    "# Splitting into Train and Test sets\n",
    "# Creating StandardScaler instance\n",
    "# Fitting Standard Scaller\n",
    "# Scaling data\n",
    "\n",
    "from sklearn.model_selection import train_test_split\n",
    "from sklearn.preprocessing import StandardScaler\n",
    "\n",
    "X_train, X_test, y_train, y_test = train_test_split(X, y, random_state=78)\n",
    "\n",
    "#oversampling\n",
    "X_train, y_train = ros.fit_resample(X_train, y_train)\n",
    "\n",
    "scaler = StandardScaler()\n",
    "X_scaler = scaler.fit(X_train)\n",
    "X_Center_Train = X_train\n",
    "\n",
    "X_train_scaled = X_scaler.transform(X_train)\n",
    "X_test_scaled = X_scaler.transform(X_test)\n",
    "\n",
    "from sklearn import tree\n",
    "from sklearn.metrics import confusion_matrix, accuracy_score, classification_report\n",
    "\n",
    "\n",
    "# Creating the decision tree classifier instance\n",
    "model = tree.DecisionTreeClassifier()\n",
    "\n",
    "model = model.fit(X_train_scaled, y_train)\n",
    "\n",
    "center_model = model\n",
    "\n",
    "# Making predictions using the testing data\n",
    "predictions = model.predict(X_test_scaled)\n",
    "\n",
    "# Calculating the confusion matrix\n",
    "cm = confusion_matrix(y_test, predictions)\n",
    "cm_df = pd.DataFrame(cm, index=[\"Actual 0\", \"Actual 1\"], columns=[\"Predicted 0\", \"Predicted 1\"])\n",
    "\n",
    "# Calculating the accuracy score\n",
    "acc_score = accuracy_score(y_test, predictions)\n",
    "\n",
    "# Displaying results\n",
    "print(\"Confusion Matrix Centers\")\n",
    "display(cm_df)\n",
    "print(f\"Accuracy Score : {acc_score}\")\n",
    "print(\"Classification Report\")\n",
    "print(classification_report(y_test, predictions))"
   ]
  },
  {
   "cell_type": "code",
   "execution_count": 136,
   "metadata": {},
   "outputs": [
    {
     "output_type": "execute_result",
     "data": {
      "text/plain": [
       "[(0.752659897768514, 'WS'),\n",
       " (0.06061738423040846, 'BLK'),\n",
       " (0.06024831249545301, 'TRB'),\n",
       " (0.03100544638702937, 'RPG'),\n",
       " (0.0285202728044901, 'PER'),\n",
       " (0.02223810715829587, 'Age'),\n",
       " (0.009965053275406782, 'TOV'),\n",
       " (0.007236162118048708, 'DWS'),\n",
       " (0.003183150306104743, 'G'),\n",
       " (0.0031380863666703638, 'AST'),\n",
       " (0.0025510208643595086, 'PF'),\n",
       " (0.0019119190543698348, 'TS_pct'),\n",
       " (0.0018930316766732301, 'TOV_pct'),\n",
       " (0.001886847523009989, 'DRB'),\n",
       " (0.0018639313249820405, 'FG_pct'),\n",
       " (0.0018359375000000001, 'OWS'),\n",
       " (0.001374803241589767, 'OBPM'),\n",
       " (0.0012640268650392684, '2P'),\n",
       " (0.0012621680020022906, 'DRB_pct'),\n",
       " (0.0012584625561562572, 'AST_pct'),\n",
       " (0.0006490071614583329, 'BLK_pct'),\n",
       " (0.0006484058704453446, 'SPG'),\n",
       " (0.0006481609513274336, 'FT'),\n",
       " (0.000636456331012424, '3PA'),\n",
       " (0.0006351626016260166, '3P'),\n",
       " (0.0006346424862779775, '2P_pct'),\n",
       " (0.00015555346097312467, 'PPG'),\n",
       " (4.744728728044272e-05, 'MP'),\n",
       " (3.11423309952774e-05, 'eFG_pct'),\n",
       " (0.0, 'VORP'),\n",
       " (0.0, 'USG_pct'),\n",
       " (0.0, 'TRB_pct'),\n",
       " (0.0, 'STL'),\n",
       " (0.0, 'PTS'),\n",
       " (0.0, 'ORB_pct'),\n",
       " (0.0, 'ORB'),\n",
       " (0.0, 'FTr'),\n",
       " (0.0, 'FT_pct'),\n",
       " (0.0, 'FTA'),\n",
       " (0.0, 'FGA'),\n",
       " (0.0, 'FG'),\n",
       " (0.0, 'DBPM'),\n",
       " (0.0, 'BPM'),\n",
       " (0.0, '3P_pct'),\n",
       " (0.0, '3PAr'),\n",
       " (0.0, '2PA')]"
      ]
     },
     "metadata": {},
     "execution_count": 136
    }
   ],
   "source": [
    "# We can sort the features by their importance.\n",
    "model  = model .fit(X_train_scaled, y_train)\n",
    "importances =model.feature_importances_\n",
    "center_feature_importance = sorted(zip(model.feature_importances_, X.columns), reverse=True)\n",
    "center_feature_importance"
   ]
  },
  {
   "cell_type": "markdown",
   "metadata": {},
   "source": [
    "ALL NBA GUARD MACHINE LEARNING SECTION"
   ]
  },
  {
   "cell_type": "code",
   "execution_count": 137,
   "metadata": {},
   "outputs": [
    {
     "output_type": "stream",
     "name": "stdout",
     "text": [
      "Confusion Matrix\n"
     ]
    },
    {
     "output_type": "display_data",
     "data": {
      "text/plain": "          Predicted 0  Predicted 1\nActual 0         2031           24\nActual 1           20           32",
      "text/html": "<div>\n<style scoped>\n    .dataframe tbody tr th:only-of-type {\n        vertical-align: middle;\n    }\n\n    .dataframe tbody tr th {\n        vertical-align: top;\n    }\n\n    .dataframe thead th {\n        text-align: right;\n    }\n</style>\n<table border=\"1\" class=\"dataframe\">\n  <thead>\n    <tr style=\"text-align: right;\">\n      <th></th>\n      <th>Predicted 0</th>\n      <th>Predicted 1</th>\n    </tr>\n  </thead>\n  <tbody>\n    <tr>\n      <th>Actual 0</th>\n      <td>2031</td>\n      <td>24</td>\n    </tr>\n    <tr>\n      <th>Actual 1</th>\n      <td>20</td>\n      <td>32</td>\n    </tr>\n  </tbody>\n</table>\n</div>"
     },
     "metadata": {}
    },
    {
     "output_type": "stream",
     "name": "stdout",
     "text": [
      "Accuracy Score : 0.9791172282866635\nClassification Report\n              precision    recall  f1-score   support\n\n         0.0       0.99      0.99      0.99      2055\n         1.0       0.57      0.62      0.59        52\n\n    accuracy                           0.98      2107\n   macro avg       0.78      0.80      0.79      2107\nweighted avg       0.98      0.98      0.98      2107\n\n"
     ]
    }
   ],
   "source": [
    "#Create Dataset for X & y, make sure it is only guard...we don't need center or forward data her\n",
    "ros = RandomOverSampler(random_state=78)\n",
    "\n",
    "X = Season_Stats_ML_DF[Season_Stats_ML_DF.is_Guard==1]\n",
    "X = X.drop(['AllNBA_Center','AllNBA_Forward','AllNBA_Guard','is_Guard','is_Center','is_Forward','WS/48','STL_pct','APG','GS'], axis=1)\n",
    "X = X.drop(['Tm_1st','Tm_2nd','Tm_3rd'], axis=1)\n",
    "#I dont think team is that important\n",
    "X = X.drop(['Tm'], axis=1)\n",
    "y = Season_Stats_ML_DF[Season_Stats_ML_DF.is_Guard==1]\n",
    "y = y[\"AllNBA_Guard\"].values.reshape(-1, 1)\n",
    "\n",
    "# Splitting into Train and Test sets\n",
    "# Creating StandardScaler instance\n",
    "# Fitting Standard Scaller\n",
    "# Scaling data\n",
    "\n",
    "X_train, X_test, y_train, y_test = train_test_split(X, y, random_state=78)\n",
    "\n",
    "#oversampling\n",
    "X_train, y_train = ros.fit_resample(X_train, y_train)\n",
    "\n",
    "scaler = StandardScaler()\n",
    "X_scaler = scaler.fit(X_train)\n",
    "X_Guard_Train = X_train\n",
    "X_train_scaled = X_scaler.transform(X_train)\n",
    "X_test_scaled = X_scaler.transform(X_test)\n",
    "\n",
    "\n",
    "# Creating the decision tree classifier instance\n",
    "model = tree.DecisionTreeClassifier(random_state=78)\n",
    "\n",
    "model = model.fit(X_train_scaled, y_train)\n",
    "\n",
    "guard_model = model\n",
    "\n",
    "# Making predictions using the testing data\n",
    "predictions = model.predict(X_test_scaled)\n",
    "\n",
    "# Calculating the confusion matrix\n",
    "cm = confusion_matrix(y_test, predictions)\n",
    "cm_df = pd.DataFrame(\n",
    "    cm, index=[\"Actual 0\", \"Actual 1\"], columns=[\"Predicted 0\", \"Predicted 1\"]\n",
    ")\n",
    "\n",
    "# Calculating the accuracy score\n",
    "acc_score = accuracy_score(y_test, predictions)\n",
    "\n",
    "# Displaying results\n",
    "print(\"Confusion Matrix\")\n",
    "display(cm_df)\n",
    "print(f\"Accuracy Score : {acc_score}\")\n",
    "print(\"Classification Report\")\n",
    "print(classification_report(y_test, predictions))"
   ]
  },
  {
   "cell_type": "code",
   "execution_count": 138,
   "metadata": {},
   "outputs": [
    {
     "output_type": "execute_result",
     "data": {
      "text/plain": [
       "[(0.8225661001767586, 'WS'),\n",
       " (0.057001895703052995, 'PPG'),\n",
       " (0.01289674838606588, 'PER'),\n",
       " (0.011662026920933365, 'DRB'),\n",
       " (0.011463724243133641, 'DRB_pct'),\n",
       " (0.010659929649393229, '3PAr'),\n",
       " (0.007994854067775285, 'Age'),\n",
       " (0.0054455843816952915, 'USG_pct'),\n",
       " (0.005202968141002383, 'OBPM'),\n",
       " (0.005122605780690495, 'RPG'),\n",
       " (0.004922094292666703, 'AST_pct'),\n",
       " (0.004525650132455867, 'TOV'),\n",
       " (0.004361062390378351, '3P_pct'),\n",
       " (0.0036490277165619183, 'FG_pct'),\n",
       " (0.002975033364452392, 'G'),\n",
       " (0.0028156433202144093, 'FTA'),\n",
       " (0.0027003444001214008, 'FT'),\n",
       " (0.002185071925624158, 'VORP'),\n",
       " (0.002103046862248289, 'ORB_pct'),\n",
       " (0.002084931865304412, 'MP'),\n",
       " (0.0019123048700259895, 'FTr'),\n",
       " (0.001303833657196691, 'PF'),\n",
       " (0.0012824402588458722, 'DBPM'),\n",
       " (0.001262809034343684, 'FT_pct'),\n",
       " (0.0012572066170322266, 'ORB'),\n",
       " (0.0012568479205378544, 'STL'),\n",
       " (0.0012567452128040956, 'FG'),\n",
       " (0.0012318373115668302, 'FGA'),\n",
       " (0.001205719106361378, 'BPM'),\n",
       " (0.0009577359375839374, 'BLK'),\n",
       " (0.0009400194228165184, 'TRB_pct'),\n",
       " (0.0009393415775540651, 'TRB'),\n",
       " (0.00090637780354025, '2P'),\n",
       " (0.0006317244102260384, 'BLK_pct'),\n",
       " (0.00031768643055271747, 'PTS'),\n",
       " (0.00031640972802784686, 'OWS'),\n",
       " (0.0003159858703881619, 'SPG'),\n",
       " (0.00031151377351028466, 'AST'),\n",
       " (3.887540667646145e-05, 'DWS'),\n",
       " (8.850964720617058e-06, '2PA'),\n",
       " (7.3909651594764336e-06, '2P_pct'),\n",
       " (0.0, 'eFG_pct'),\n",
       " (0.0, 'TS_pct'),\n",
       " (0.0, 'TOV_pct'),\n",
       " (0.0, '3PA'),\n",
       " (0.0, '3P')]"
      ]
     },
     "metadata": {},
     "execution_count": 138
    }
   ],
   "source": [
    "# We can sort the features by their importance.\n",
    "model  = model .fit(X_train_scaled, y_train)\n",
    "importances =model.feature_importances_\n",
    "guard_feature_importance = sorted(zip(model.feature_importances_, X.columns), reverse=True)\n",
    "guard_feature_importance"
   ]
  },
  {
   "cell_type": "markdown",
   "metadata": {},
   "source": [
    "ALL NBA FORWARD MACHINE LEARNING SECTION"
   ]
  },
  {
   "cell_type": "code",
   "execution_count": 139,
   "metadata": {},
   "outputs": [
    {
     "output_type": "stream",
     "name": "stdout",
     "text": [
      "Confusion Matrix Forwards\n"
     ]
    },
    {
     "output_type": "display_data",
     "data": {
      "text/plain": "          Predicted 0  Predicted 1\nActual 0         2039           18\nActual 1           19           35",
      "text/html": "<div>\n<style scoped>\n    .dataframe tbody tr th:only-of-type {\n        vertical-align: middle;\n    }\n\n    .dataframe tbody tr th {\n        vertical-align: top;\n    }\n\n    .dataframe thead th {\n        text-align: right;\n    }\n</style>\n<table border=\"1\" class=\"dataframe\">\n  <thead>\n    <tr style=\"text-align: right;\">\n      <th></th>\n      <th>Predicted 0</th>\n      <th>Predicted 1</th>\n    </tr>\n  </thead>\n  <tbody>\n    <tr>\n      <th>Actual 0</th>\n      <td>2039</td>\n      <td>18</td>\n    </tr>\n    <tr>\n      <th>Actual 1</th>\n      <td>19</td>\n      <td>35</td>\n    </tr>\n  </tbody>\n</table>\n</div>"
     },
     "metadata": {}
    },
    {
     "output_type": "stream",
     "name": "stdout",
     "text": [
      "Accuracy Score : 0.9824727617243013\nClassification Report\n              precision    recall  f1-score   support\n\n         0.0       0.99      0.99      0.99      2057\n         1.0       0.66      0.65      0.65        54\n\n    accuracy                           0.98      2111\n   macro avg       0.83      0.82      0.82      2111\nweighted avg       0.98      0.98      0.98      2111\n\n"
     ]
    }
   ],
   "source": [
    "#Create Dataset for X & y, make sure it is only guard...we don't need center or forward data her\n",
    "ros = RandomOverSampler(random_state=78)\n",
    "\n",
    "X = Season_Stats_ML_DF[Season_Stats_ML_DF.is_Forward==1]\n",
    "X = X.drop(['AllNBA_Center','AllNBA_Forward','AllNBA_Guard','is_Guard','is_Center','is_Forward','WS/48','STL_pct','APG','GS'], axis=1)\n",
    "X = X.drop(['Tm_1st','Tm_2nd','Tm_3rd'], axis=1)\n",
    "#I dont think team is that important\n",
    "X = X.drop(['Tm'], axis=1)\n",
    "y = Season_Stats_ML_DF[Season_Stats_ML_DF.is_Forward==1]\n",
    "y = y[\"AllNBA_Forward\"].values.reshape(-1, 1)\n",
    "\n",
    "# Splitting into Train and Test sets\n",
    "# Creating StandardScaler instance\n",
    "# Fitting Standard Scaller\n",
    "# Scaling data\n",
    "\n",
    "X_train, X_test, y_train, y_test = train_test_split(X, y, random_state=78)\n",
    "\n",
    "#oversampling\n",
    "X_train, y_train = ros.fit_resample(X_train, y_train)\n",
    "\n",
    "scaler = StandardScaler()\n",
    "X_scaler = scaler.fit(X_train)\n",
    "X_Forward_Train = X_train\n",
    "X_train_scaled = X_scaler.transform(X_train)\n",
    "X_test_scaled = X_scaler.transform(X_test)\n",
    "\n",
    "\n",
    "# Creating the decision tree classifier instance\n",
    "model = tree.DecisionTreeClassifier()\n",
    "\n",
    "model = model.fit(X_train_scaled, y_train)\n",
    "forward_model = model.fit(X_train_scaled, y_train)\n",
    "# Making predictions using the testing data\n",
    "predictions = model.predict(X_test_scaled)\n",
    "\n",
    "# Calculating the confusion matrix\n",
    "cm = confusion_matrix(y_test, predictions)\n",
    "cm_df = pd.DataFrame(\n",
    "    cm, index=[\"Actual 0\", \"Actual 1\"], columns=[\"Predicted 0\", \"Predicted 1\"]\n",
    ")\n",
    "\n",
    "# Calculating the accuracy score\n",
    "acc_score = accuracy_score(y_test, predictions)\n",
    "\n",
    "# Displaying results\n",
    "print(\"Confusion Matrix Forwards\")\n",
    "display(cm_df)\n",
    "print(f\"Accuracy Score : {acc_score}\")\n",
    "print(\"Classification Report\")\n",
    "print(classification_report(y_test, predictions))\n"
   ]
  },
  {
   "cell_type": "code",
   "execution_count": 140,
   "metadata": {},
   "outputs": [
    {
     "output_type": "execute_result",
     "data": {
      "text/plain": [
       "53.0"
      ]
     },
     "metadata": {},
     "execution_count": 140
    }
   ],
   "source": [
    "sum(predictions)"
   ]
  },
  {
   "cell_type": "code",
   "execution_count": 141,
   "metadata": {},
   "outputs": [
    {
     "output_type": "execute_result",
     "data": {
      "text/plain": [
       "[(0.8255849394944266, 'PPG'),\n",
       " (0.05712661154494149, 'VORP'),\n",
       " (0.029216620145729774, 'PER'),\n",
       " (0.011399864935642436, 'USG_pct'),\n",
       " (0.010335666455175191, 'TRB_pct'),\n",
       " (0.007053485271700184, 'DRB_pct'),\n",
       " (0.006601813565050975, 'Age'),\n",
       " (0.006350176432718704, 'DWS'),\n",
       " (0.00597869722282812, 'eFG_pct'),\n",
       " (0.005780609489375142, '3P_pct'),\n",
       " (0.005709737744073731, 'WS'),\n",
       " (0.004603578903129232, 'FGA'),\n",
       " (0.0037385944294725704, '3PA'),\n",
       " (0.00245698703497248, 'FT'),\n",
       " (0.002097047646152513, 'FT_pct'),\n",
       " (0.001907279852832193, 'TOV'),\n",
       " (0.0015880527821315606, '2PA'),\n",
       " (0.0015816742893747925, 'BLK'),\n",
       " (0.001534767329459763, 'TOV_pct'),\n",
       " (0.001530609122188225, 'STL'),\n",
       " (0.0012595336576632487, 'FG'),\n",
       " (0.0009332014863895558, 'FTr'),\n",
       " (0.00090062271627812, 'AST_pct'),\n",
       " (0.0008935866013071868, 'ORB_pct'),\n",
       " (0.0006530049960021912, 'BLK_pct'),\n",
       " (0.00064246100243534, 'AST'),\n",
       " (0.000637431333847832, 'PTS'),\n",
       " (0.0006140092346988978, 'MP'),\n",
       " (0.0003303976768780217, 'PF'),\n",
       " (0.00032348295004292957, '2P_pct'),\n",
       " (0.0003219652020009645, 'ORB'),\n",
       " (0.0003134894510799709, 'FTA'),\n",
       " (0.0, 'TS_pct'),\n",
       " (0.0, 'TRB'),\n",
       " (0.0, 'SPG'),\n",
       " (0.0, 'RPG'),\n",
       " (0.0, 'OWS'),\n",
       " (0.0, 'OBPM'),\n",
       " (0.0, 'G'),\n",
       " (0.0, 'FG_pct'),\n",
       " (0.0, 'DRB'),\n",
       " (0.0, 'DBPM'),\n",
       " (0.0, 'BPM'),\n",
       " (0.0, '3PAr'),\n",
       " (0.0, '3P'),\n",
       " (0.0, '2P')]"
      ]
     },
     "metadata": {},
     "execution_count": 141
    }
   ],
   "source": [
    "# We can sort the features by their importance.\n",
    "model  = model .fit(X_train_scaled, y_train)\n",
    "importances =model.feature_importances_\n",
    "forward_feature_importance = sorted(zip(model.feature_importances_, X.columns), reverse=True)\n",
    "forward_feature_importance"
   ]
  },
  {
   "cell_type": "markdown",
   "metadata": {},
   "source": [
    "Making Predictions"
   ]
  },
  {
   "cell_type": "code",
   "execution_count": 142,
   "metadata": {},
   "outputs": [],
   "source": [
    "#filename =  r'C:\\Users\\jack.getman\\OneDrive - WaterBridge Resources, LLC\\Desktop\\DatacampNew\\Bootcamp_Final_Project\\2021Data\\season_stats2021.csv'\n",
    "#seasons_stats_2021 = pd.read_csv(filename) \n",
    "testing_stats_sql = 'SELECT * FROM public.testing_stats'\n",
    "seasons_stats_2021 = pd.read_sql(testing_stats_sql, con=connection)\n",
    "#try:\n",
    "#    seasons_stats_2021 = seasons_stats_2021.drop(['Unnamed: 0'], axis=1)\n",
    "#except:\n",
    "#    print('switch the data source')\n",
    "\n",
    "#seasons_stats_2021\n",
    "\n",
    "#Creating Per Game Statistics\n",
    "\n",
    "#Points per Game\n",
    "seasons_stats_2021[\"PPG\"] = seasons_stats_2021[\"PTS\"]/seasons_stats_2021[\"G\"]\n",
    "#Assits Per Game\n",
    "seasons_stats_2021[\"APG\"] = seasons_stats_2021[\"AST\"]/seasons_stats_2021[\"G\"]\n",
    "#Rebounds Per Game\n",
    "seasons_stats_2021[\"RPG\"] = seasons_stats_2021[\"TRB\"]/seasons_stats_2021[\"G\"]\n",
    "#Blocks Per Game\n",
    "seasons_stats_2021[\"RPG\"] = seasons_stats_2021[\"BLK\"]/seasons_stats_2021[\"G\"]\n",
    "#STLs Per Game\n",
    "seasons_stats_2021[\"SPG\"] = seasons_stats_2021[\"STL\"]/seasons_stats_2021[\"G\"]    \n",
    "    \n",
    "\n",
    "\n"
   ]
  },
  {
   "cell_type": "code",
   "execution_count": 143,
   "metadata": {},
   "outputs": [],
   "source": [
    "filename =  r'Stat_Glossary.xlsx'\n",
    "stat_glossary = pd.read_excel(filename) \n",
    "    \n",
    "    \n",
    "scaled_stats = stat_glossary[stat_glossary.Scaled_Per_Game != 0].reset_index().drop(['index'], axis=1).Stat\n",
    "\n",
    "scaled_seasons_stats_2021 = seasons_stats_2021\n",
    "\n",
    "def scale_stats(season_df, num_games):\n",
    "    #scaled_season_df = pd.DataFrame()\n",
    "    for stat in scaled_stats:\n",
    "        season_df[stat] = season_df[stat] * 82/num_games\n",
    "    return season_df\n",
    "\n",
    "#seasons_stats_2021[seasons_stats_2021.Player == 'LeBron James']"
   ]
  },
  {
   "cell_type": "code",
   "execution_count": 144,
   "metadata": {},
   "outputs": [],
   "source": [
    "seasons_stats_2021 = scale_stats(seasons_stats_2021,82)\n",
    "#seasons_stats_2021.head()"
   ]
  },
  {
   "cell_type": "code",
   "execution_count": 145,
   "metadata": {},
   "outputs": [
    {
     "output_type": "execute_result",
     "data": {
      "text/plain": [
       "     Year         Player Pos Age   Tm      G     GS           MP   PER  \\\n",
       "151  2021  Stephen Curry  PG  32  GSW  71.75  71.75  2450.888889  26.3   \n",
       "\n",
       "     TS_pct   3PAr    FTr  ORB_pct  DRB_pct  TRB_pct  AST_pct  STL_pct  \\\n",
       "151   0.655  0.587  0.289      1.5     15.4      8.5     30.5      1.7   \n",
       "\n",
       "     BLK_pct  TOV_pct  USG_pct       OWS       DWS     WS  WS/48  OBPM  DBPM  \\\n",
       "151      0.3     12.2     34.8  7.402778  2.847222  10.25  0.201   8.1   0.0   \n",
       "\n",
       "     BPM      VORP          FG          FGA  FG_pct          3P     3PA  \\\n",
       "151  8.1  6.263889  749.388889  1554.583333   0.482  383.805556  912.25   \n",
       "\n",
       "     3P_pct          2P         2PA  2P_pct  eFG_pct          FT         FTA  \\\n",
       "151   0.421  365.583333  642.333333   0.569    0.605  412.277778  449.861111   \n",
       "\n",
       "     FT_pct        ORB         DRB         TRB         AST        STL  \\\n",
       "151   0.916  33.027778  359.888889  392.916667  413.416667  87.694444   \n",
       "\n",
       "          BLK         TOV          PF          PTS        PPG       APG  \\\n",
       "151  9.111111  242.583333  135.527778  2294.861111  31.984127  5.761905   \n",
       "\n",
       "          RPG       SPG  \n",
       "151  0.126984  1.222222  "
      ],
      "text/html": "<div>\n<style scoped>\n    .dataframe tbody tr th:only-of-type {\n        vertical-align: middle;\n    }\n\n    .dataframe tbody tr th {\n        vertical-align: top;\n    }\n\n    .dataframe thead th {\n        text-align: right;\n    }\n</style>\n<table border=\"1\" class=\"dataframe\">\n  <thead>\n    <tr style=\"text-align: right;\">\n      <th></th>\n      <th>Year</th>\n      <th>Player</th>\n      <th>Pos</th>\n      <th>Age</th>\n      <th>Tm</th>\n      <th>G</th>\n      <th>GS</th>\n      <th>MP</th>\n      <th>PER</th>\n      <th>TS_pct</th>\n      <th>3PAr</th>\n      <th>FTr</th>\n      <th>ORB_pct</th>\n      <th>DRB_pct</th>\n      <th>TRB_pct</th>\n      <th>AST_pct</th>\n      <th>STL_pct</th>\n      <th>BLK_pct</th>\n      <th>TOV_pct</th>\n      <th>USG_pct</th>\n      <th>OWS</th>\n      <th>DWS</th>\n      <th>WS</th>\n      <th>WS/48</th>\n      <th>OBPM</th>\n      <th>DBPM</th>\n      <th>BPM</th>\n      <th>VORP</th>\n      <th>FG</th>\n      <th>FGA</th>\n      <th>FG_pct</th>\n      <th>3P</th>\n      <th>3PA</th>\n      <th>3P_pct</th>\n      <th>2P</th>\n      <th>2PA</th>\n      <th>2P_pct</th>\n      <th>eFG_pct</th>\n      <th>FT</th>\n      <th>FTA</th>\n      <th>FT_pct</th>\n      <th>ORB</th>\n      <th>DRB</th>\n      <th>TRB</th>\n      <th>AST</th>\n      <th>STL</th>\n      <th>BLK</th>\n      <th>TOV</th>\n      <th>PF</th>\n      <th>PTS</th>\n      <th>PPG</th>\n      <th>APG</th>\n      <th>RPG</th>\n      <th>SPG</th>\n    </tr>\n  </thead>\n  <tbody>\n    <tr>\n      <th>151</th>\n      <td>2021</td>\n      <td>Stephen Curry</td>\n      <td>PG</td>\n      <td>32</td>\n      <td>GSW</td>\n      <td>71.75</td>\n      <td>71.75</td>\n      <td>2450.888889</td>\n      <td>26.3</td>\n      <td>0.655</td>\n      <td>0.587</td>\n      <td>0.289</td>\n      <td>1.5</td>\n      <td>15.4</td>\n      <td>8.5</td>\n      <td>30.5</td>\n      <td>1.7</td>\n      <td>0.3</td>\n      <td>12.2</td>\n      <td>34.8</td>\n      <td>7.402778</td>\n      <td>2.847222</td>\n      <td>10.25</td>\n      <td>0.201</td>\n      <td>8.1</td>\n      <td>0.0</td>\n      <td>8.1</td>\n      <td>6.263889</td>\n      <td>749.388889</td>\n      <td>1554.583333</td>\n      <td>0.482</td>\n      <td>383.805556</td>\n      <td>912.25</td>\n      <td>0.421</td>\n      <td>365.583333</td>\n      <td>642.333333</td>\n      <td>0.569</td>\n      <td>0.605</td>\n      <td>412.277778</td>\n      <td>449.861111</td>\n      <td>0.916</td>\n      <td>33.027778</td>\n      <td>359.888889</td>\n      <td>392.916667</td>\n      <td>413.416667</td>\n      <td>87.694444</td>\n      <td>9.111111</td>\n      <td>242.583333</td>\n      <td>135.527778</td>\n      <td>2294.861111</td>\n      <td>31.984127</td>\n      <td>5.761905</td>\n      <td>0.126984</td>\n      <td>1.222222</td>\n    </tr>\n  </tbody>\n</table>\n</div>"
     },
     "metadata": {},
     "execution_count": 145
    }
   ],
   "source": [
    "seasons_stats_2021[seasons_stats_2021.Player == 'Stephen Curry']"
   ]
  },
  {
   "cell_type": "code",
   "execution_count": 146,
   "metadata": {},
   "outputs": [],
   "source": [
    "centers_stats_2021 = seasons_stats_2021\n",
    "forwards_stats_2021 = seasons_stats_2021\n",
    "guards_stats_2021 = seasons_stats_2021\n",
    "\n",
    "#seasons_stats_2021=seasons_stats_2021[['Age','G','GS','MP','PER','TS_pct','3PAr','FTr','ORB_pct','DRB_pct','TRB_pct','AST_pct','STL_pct','BLK_pct','TOV_pct','USG_pct','OWS', 'DWS','WS','WS/48','OBPM','DBPM','BPM','VORP','FG','FGA','FG_pct','3P','3PA','3P_pct','2P','2PA','2P_pct','eFG_pct','FT','FTA','FT_pct','ORB','DRB','TRB','AST','STL','BLK','TOV','PF','PTS']]\n",
    "#seasons_stats_2021\n",
    "\n",
    "centers_stats_2021['is_Center'] = centers_stats_2021['Pos'].apply(lambda pos: is_center(pos) )\n",
    "guards_stats_2021['is_Guard'] = guards_stats_2021['Pos'].apply(lambda pos: is_guard(pos) )\n",
    "forwards_stats_2021['is_Forward'] = forwards_stats_2021['Pos'].apply(lambda pos: is_forward(pos) )\n",
    "\n",
    "centers_stats_2021=centers_stats_2021[centers_stats_2021['is_Center']==1]\n",
    "guards_stats_2021=guards_stats_2021[guards_stats_2021['is_Guard']==1]\n",
    "forwards_stats_2021=forwards_stats_2021[forwards_stats_2021['is_Forward']==1]\n",
    "\n",
    "centers_stats_2021=centers_stats_2021[centers_stats_2021['is_Center']==1].reset_index()\n",
    "guards_stats_2021=guards_stats_2021[guards_stats_2021['is_Guard']==1].reset_index()\n",
    "forwards_stats_2021=forwards_stats_2021[forwards_stats_2021['is_Forward']==1].reset_index()\n",
    "\n",
    "#centers_stats_2021=centers_stats_2021[['Age','G','MP','PER','TS_pct','3PAr','FTr','ORB_pct','DRB_pct','TRB_pct','AST_pct','BLK_pct','TOV_pct','USG_pct','OWS', 'DWS','WS','OBPM','DBPM','BPM','VORP','FG','FGA','FG_pct','3P','3PA','3P_pct','2P','2PA','2P_pct','eFG_pct','FT','FTA','FT_pct','ORB','DRB','TRB','AST','STL','BLK','TOV','PF','PTS','PPG','RPG','SPG']]\n",
    "#guards_stats_2021=guards_stats_2021[['Age','G','MP','PER','TS_pct','3PAr','FTr','ORB_pct','DRB_pct','TRB_pct','AST_pct','BLK_pct','TOV_pct','USG_pct','OWS', 'DWS','WS','OBPM','DBPM','BPM','VORP','FG','FGA','FG_pct','3P','3PA','3P_pct','2P','2PA','2P_pct','eFG_pct','FT','FTA','FT_pct','ORB','DRB','TRB','AST','STL','BLK','TOV','PF','PTS','PPG','RPG','SPG']]\n",
    "#forwards_stats_2021=forwards_stats_2021[['Age','G','MP','PER','TS_pct','3PAr','FTr','ORB_pct','DRB_pct','TRB_pct','AST_pct','BLK_pct','TOV_pct','USG_pct','OWS', 'DWS','WS','OBPM','DBPM','BPM','VORP','FG','FGA','FG_pct','3P','3PA','3P_pct','2P','2PA','2P_pct','eFG_pct','FT','FTA','FT_pct','ORB','DRB','TRB','AST','STL','BLK','TOV','PF','PTS','PPG','RPG','SPG']]"
   ]
  },
  {
   "cell_type": "code",
   "execution_count": 147,
   "metadata": {},
   "outputs": [
    {
     "output_type": "execute_result",
     "data": {
      "text/plain": [
       "    index  Year       Player Pos Age   Tm          G         GS           MP  \\\n",
       "46    189  2021  Joel Embiid   C  26  PHI  58.083333  58.083333  1805.138889   \n",
       "\n",
       "     PER  TS_pct   3PAr   FTr  ORB_pct  DRB_pct  TRB_pct  AST_pct  STL_pct  \\\n",
       "46  30.3   0.636  0.171  0.61      8.0     29.1     18.7     16.2      1.5   \n",
       "\n",
       "    BLK_pct  TOV_pct  USG_pct       OWS       DWS         WS  WS/48  OBPM  \\\n",
       "46      3.9     12.2     35.3  6.377778  3.644444  10.022222  0.266   6.2   \n",
       "\n",
       "    DBPM  BPM      VORP          FG          FGA  FG_pct         3P  \\\n",
       "46   1.0  7.2  4.213889  525.027778  1023.861111   0.513  66.055556   \n",
       "\n",
       "           3PA  3P_pct          2P         2PA  2P_pct  eFG_pct          FT  \\\n",
       "46  175.388889   0.377  458.972222  848.472222   0.541    0.545  536.416667   \n",
       "\n",
       "           FTA  FT_pct         ORB         DRB         TRB         AST  \\\n",
       "46  624.111111   0.859  128.694444  485.166667  613.861111  165.138889   \n",
       "\n",
       "          STL        BLK         TOV          PF          PTS       PPG  \\\n",
       "46  56.944444  78.583333  181.083333  140.083333  1652.527778  28.45098   \n",
       "\n",
       "         APG       RPG       SPG  is_Center  is_Guard  is_Forward  \\\n",
       "46  2.843137  1.352941  0.980392          1         0           0   \n",
       "\n",
       "    All_NBA_Status  \n",
       "46             1.0  "
      ],
      "text/html": "<div>\n<style scoped>\n    .dataframe tbody tr th:only-of-type {\n        vertical-align: middle;\n    }\n\n    .dataframe tbody tr th {\n        vertical-align: top;\n    }\n\n    .dataframe thead th {\n        text-align: right;\n    }\n</style>\n<table border=\"1\" class=\"dataframe\">\n  <thead>\n    <tr style=\"text-align: right;\">\n      <th></th>\n      <th>index</th>\n      <th>Year</th>\n      <th>Player</th>\n      <th>Pos</th>\n      <th>Age</th>\n      <th>Tm</th>\n      <th>G</th>\n      <th>GS</th>\n      <th>MP</th>\n      <th>PER</th>\n      <th>TS_pct</th>\n      <th>3PAr</th>\n      <th>FTr</th>\n      <th>ORB_pct</th>\n      <th>DRB_pct</th>\n      <th>TRB_pct</th>\n      <th>AST_pct</th>\n      <th>STL_pct</th>\n      <th>BLK_pct</th>\n      <th>TOV_pct</th>\n      <th>USG_pct</th>\n      <th>OWS</th>\n      <th>DWS</th>\n      <th>WS</th>\n      <th>WS/48</th>\n      <th>OBPM</th>\n      <th>DBPM</th>\n      <th>BPM</th>\n      <th>VORP</th>\n      <th>FG</th>\n      <th>FGA</th>\n      <th>FG_pct</th>\n      <th>3P</th>\n      <th>3PA</th>\n      <th>3P_pct</th>\n      <th>2P</th>\n      <th>2PA</th>\n      <th>2P_pct</th>\n      <th>eFG_pct</th>\n      <th>FT</th>\n      <th>FTA</th>\n      <th>FT_pct</th>\n      <th>ORB</th>\n      <th>DRB</th>\n      <th>TRB</th>\n      <th>AST</th>\n      <th>STL</th>\n      <th>BLK</th>\n      <th>TOV</th>\n      <th>PF</th>\n      <th>PTS</th>\n      <th>PPG</th>\n      <th>APG</th>\n      <th>RPG</th>\n      <th>SPG</th>\n      <th>is_Center</th>\n      <th>is_Guard</th>\n      <th>is_Forward</th>\n      <th>All_NBA_Status</th>\n    </tr>\n  </thead>\n  <tbody>\n    <tr>\n      <th>46</th>\n      <td>189</td>\n      <td>2021</td>\n      <td>Joel Embiid</td>\n      <td>C</td>\n      <td>26</td>\n      <td>PHI</td>\n      <td>58.083333</td>\n      <td>58.083333</td>\n      <td>1805.138889</td>\n      <td>30.3</td>\n      <td>0.636</td>\n      <td>0.171</td>\n      <td>0.61</td>\n      <td>8.0</td>\n      <td>29.1</td>\n      <td>18.7</td>\n      <td>16.2</td>\n      <td>1.5</td>\n      <td>3.9</td>\n      <td>12.2</td>\n      <td>35.3</td>\n      <td>6.377778</td>\n      <td>3.644444</td>\n      <td>10.022222</td>\n      <td>0.266</td>\n      <td>6.2</td>\n      <td>1.0</td>\n      <td>7.2</td>\n      <td>4.213889</td>\n      <td>525.027778</td>\n      <td>1023.861111</td>\n      <td>0.513</td>\n      <td>66.055556</td>\n      <td>175.388889</td>\n      <td>0.377</td>\n      <td>458.972222</td>\n      <td>848.472222</td>\n      <td>0.541</td>\n      <td>0.545</td>\n      <td>536.416667</td>\n      <td>624.111111</td>\n      <td>0.859</td>\n      <td>128.694444</td>\n      <td>485.166667</td>\n      <td>613.861111</td>\n      <td>165.138889</td>\n      <td>56.944444</td>\n      <td>78.583333</td>\n      <td>181.083333</td>\n      <td>140.083333</td>\n      <td>1652.527778</td>\n      <td>28.45098</td>\n      <td>2.843137</td>\n      <td>1.352941</td>\n      <td>0.980392</td>\n      <td>1</td>\n      <td>0</td>\n      <td>0</td>\n      <td>1.0</td>\n    </tr>\n  </tbody>\n</table>\n</div>"
     },
     "metadata": {},
     "execution_count": 147
    }
   ],
   "source": [
    "#Predict All- nba Centers\n",
    "X_scaler = StandardScaler().fit(X_Center_Train)\n",
    "X_test_scaled = X_scaler.transform(centers_stats_2021[['Age','G','MP','PER','TS_pct','3PAr','FTr','ORB_pct',\n",
    "                                                       'DRB_pct','TRB_pct','AST_pct','BLK_pct',\n",
    "                                                       'TOV_pct','USG_pct','OWS', 'DWS','WS','OBPM',\n",
    "                                                       'DBPM','BPM','VORP','FG','FGA','FG_pct','3P',\n",
    "                                                       '3PA','3P_pct','2P','2PA','2P_pct','eFG_pct',\n",
    "                                                       'FT','FTA','FT_pct','ORB','DRB','TRB','AST',\n",
    "                                                       'STL','BLK','TOV','PF','PTS','PPG','RPG','SPG']])\n",
    "X_test_scaled = np.nan_to_num(X_test_scaled)\n",
    "predictions = center_model.predict(X_test_scaled)\n",
    "predictions_df = pd.DataFrame(predictions)\n",
    "predictions_df = predictions_df.rename(columns = {predictions_df.columns[0]:'All_NBA_Status'})\n",
    "centers_stats_2021=centers_stats_2021.join(predictions_df)\n",
    "centers_stats_2021[centers_stats_2021.All_NBA_Status == 1]"
   ]
  },
  {
   "cell_type": "code",
   "execution_count": 148,
   "metadata": {},
   "outputs": [
    {
     "output_type": "execute_result",
     "data": {
      "text/plain": [
       "     index  Year             Player Pos Age   Tm          G         GS  \\\n",
       "50     151  2021      Stephen Curry  PG  32  GSW  71.750000  71.750000   \n",
       "60     171  2021        Luka Dončić  PG  21  DAL  75.166667  75.166667   \n",
       "128    328  2021       LeBron James  PG  36  LAL  51.250000  51.250000   \n",
       "287    675  2021  Russell Westbrook  PG  32  WAS  74.027778  74.027778   \n",
       "297    702  2021         Trae Young  PG  22  ATL  71.750000  71.750000   \n",
       "\n",
       "              MP   PER  TS_pct   3PAr    FTr  ORB_pct  DRB_pct  TRB_pct  \\\n",
       "50   2450.888889  26.3   0.655  0.587  0.289      1.5     15.4      8.5   \n",
       "60   2576.166667  25.3   0.587  0.406  0.349      2.7     22.9     12.8   \n",
       "128  1712.888889  24.2   0.602  0.346  0.310      2.2     23.6     12.9   \n",
       "287  2698.027778  19.5   0.509  0.221  0.334      4.9     28.6     16.8   \n",
       "297  2420.138889  23.0   0.589  0.357  0.491      2.0     10.5      6.3   \n",
       "\n",
       "     AST_pct  STL_pct  BLK_pct  TOV_pct  USG_pct       OWS       DWS  \\\n",
       "50      30.5      1.7      0.3     12.2     34.8  7.402778  2.847222   \n",
       "60      44.1      1.4      1.5     15.3     36.0  5.808333  2.961111   \n",
       "128     41.8      1.6      1.5     15.2     31.9  3.416667  2.961111   \n",
       "287     48.6      1.7      0.8     18.0     30.2  0.569444  3.644444   \n",
       "297     45.5      1.2      0.5     16.2     33.0  6.719444  1.480556   \n",
       "\n",
       "            WS  WS/48  OBPM  DBPM  BPM      VORP          FG          FGA  \\\n",
       "50   10.250000  0.201   8.1   0.0  8.1  6.263889  749.388889  1554.583333   \n",
       "60    8.769444  0.163   6.1   0.6  6.7  5.694444  736.861111  1538.638889   \n",
       "128   6.377778  0.179   5.9   1.6  7.5  4.100000  480.611111   937.305556   \n",
       "287   4.213889  0.075   2.5   0.8  3.4  3.644444  619.555556  1409.944444   \n",
       "297   8.200000  0.163   5.4  -1.7  3.6  3.416667  554.638889  1266.444444   \n",
       "\n",
       "     FG_pct          3P         3PA  3P_pct          2P          2PA  2P_pct  \\\n",
       "50    0.482  383.805556  912.250000   0.421  365.583333   642.333333   0.569   \n",
       "60    0.479  218.666667  624.111111   0.350  518.194444   914.527778   0.567   \n",
       "128   0.513  118.444444  324.583333   0.365  362.166667   612.722222   0.591   \n",
       "287   0.439   97.944444  310.916667   0.315  521.611111  1099.027778   0.475   \n",
       "297   0.438  154.888889  452.138889   0.343  399.750000   814.305556   0.491   \n",
       "\n",
       "     eFG_pct          FT         FTA  FT_pct         ORB         DRB  \\\n",
       "50     0.605  412.277778  449.861111   0.916   33.027778  359.888889   \n",
       "60     0.550  391.777778  536.416667   0.730   61.500000  538.694444   \n",
       "128    0.576  202.722222  290.416667   0.698   33.027778  361.027778   \n",
       "287    0.474  308.638889  470.361111   0.656  124.138889  730.027778   \n",
       "297    0.499  551.222222  621.833333   0.886   43.277778  235.750000   \n",
       "\n",
       "            TRB         AST         STL        BLK         TOV          PF  \\\n",
       "50   392.916667  413.416667   87.694444   9.111111  242.583333  135.527778   \n",
       "60   600.194444  645.750000   72.888889  41.000000  320.027778  173.111111   \n",
       "128  394.055556  398.611111   54.666667  28.472222  191.333333   79.722222   \n",
       "287  854.166667  868.972222  101.361111  26.194444  355.333333  216.388889   \n",
       "297  279.027778  676.500000   60.361111  13.666667  297.250000  126.416667   \n",
       "\n",
       "             PTS        PPG        APG       RPG       SPG  is_Center  \\\n",
       "50   2294.861111  31.984127   5.761905  0.126984  1.222222          0   \n",
       "60   2084.166667  27.727273   8.590909  0.545455  0.969697          0   \n",
       "128  1282.388889  25.022222   7.777778  0.555556  1.066667          0   \n",
       "287  1645.694444  22.230769  11.738462  0.353846  1.369231          0   \n",
       "297  1815.388889  25.301587   9.428571  0.190476  0.841270          0   \n",
       "\n",
       "     is_Guard  is_Forward  All_NBA_Status  \n",
       "50          1           0             1.0  \n",
       "60          1           0             1.0  \n",
       "128         1           0             1.0  \n",
       "287         1           0             1.0  \n",
       "297         1           0             1.0  "
      ],
      "text/html": "<div>\n<style scoped>\n    .dataframe tbody tr th:only-of-type {\n        vertical-align: middle;\n    }\n\n    .dataframe tbody tr th {\n        vertical-align: top;\n    }\n\n    .dataframe thead th {\n        text-align: right;\n    }\n</style>\n<table border=\"1\" class=\"dataframe\">\n  <thead>\n    <tr style=\"text-align: right;\">\n      <th></th>\n      <th>index</th>\n      <th>Year</th>\n      <th>Player</th>\n      <th>Pos</th>\n      <th>Age</th>\n      <th>Tm</th>\n      <th>G</th>\n      <th>GS</th>\n      <th>MP</th>\n      <th>PER</th>\n      <th>TS_pct</th>\n      <th>3PAr</th>\n      <th>FTr</th>\n      <th>ORB_pct</th>\n      <th>DRB_pct</th>\n      <th>TRB_pct</th>\n      <th>AST_pct</th>\n      <th>STL_pct</th>\n      <th>BLK_pct</th>\n      <th>TOV_pct</th>\n      <th>USG_pct</th>\n      <th>OWS</th>\n      <th>DWS</th>\n      <th>WS</th>\n      <th>WS/48</th>\n      <th>OBPM</th>\n      <th>DBPM</th>\n      <th>BPM</th>\n      <th>VORP</th>\n      <th>FG</th>\n      <th>FGA</th>\n      <th>FG_pct</th>\n      <th>3P</th>\n      <th>3PA</th>\n      <th>3P_pct</th>\n      <th>2P</th>\n      <th>2PA</th>\n      <th>2P_pct</th>\n      <th>eFG_pct</th>\n      <th>FT</th>\n      <th>FTA</th>\n      <th>FT_pct</th>\n      <th>ORB</th>\n      <th>DRB</th>\n      <th>TRB</th>\n      <th>AST</th>\n      <th>STL</th>\n      <th>BLK</th>\n      <th>TOV</th>\n      <th>PF</th>\n      <th>PTS</th>\n      <th>PPG</th>\n      <th>APG</th>\n      <th>RPG</th>\n      <th>SPG</th>\n      <th>is_Center</th>\n      <th>is_Guard</th>\n      <th>is_Forward</th>\n      <th>All_NBA_Status</th>\n    </tr>\n  </thead>\n  <tbody>\n    <tr>\n      <th>50</th>\n      <td>151</td>\n      <td>2021</td>\n      <td>Stephen Curry</td>\n      <td>PG</td>\n      <td>32</td>\n      <td>GSW</td>\n      <td>71.750000</td>\n      <td>71.750000</td>\n      <td>2450.888889</td>\n      <td>26.3</td>\n      <td>0.655</td>\n      <td>0.587</td>\n      <td>0.289</td>\n      <td>1.5</td>\n      <td>15.4</td>\n      <td>8.5</td>\n      <td>30.5</td>\n      <td>1.7</td>\n      <td>0.3</td>\n      <td>12.2</td>\n      <td>34.8</td>\n      <td>7.402778</td>\n      <td>2.847222</td>\n      <td>10.250000</td>\n      <td>0.201</td>\n      <td>8.1</td>\n      <td>0.0</td>\n      <td>8.1</td>\n      <td>6.263889</td>\n      <td>749.388889</td>\n      <td>1554.583333</td>\n      <td>0.482</td>\n      <td>383.805556</td>\n      <td>912.250000</td>\n      <td>0.421</td>\n      <td>365.583333</td>\n      <td>642.333333</td>\n      <td>0.569</td>\n      <td>0.605</td>\n      <td>412.277778</td>\n      <td>449.861111</td>\n      <td>0.916</td>\n      <td>33.027778</td>\n      <td>359.888889</td>\n      <td>392.916667</td>\n      <td>413.416667</td>\n      <td>87.694444</td>\n      <td>9.111111</td>\n      <td>242.583333</td>\n      <td>135.527778</td>\n      <td>2294.861111</td>\n      <td>31.984127</td>\n      <td>5.761905</td>\n      <td>0.126984</td>\n      <td>1.222222</td>\n      <td>0</td>\n      <td>1</td>\n      <td>0</td>\n      <td>1.0</td>\n    </tr>\n    <tr>\n      <th>60</th>\n      <td>171</td>\n      <td>2021</td>\n      <td>Luka Dončić</td>\n      <td>PG</td>\n      <td>21</td>\n      <td>DAL</td>\n      <td>75.166667</td>\n      <td>75.166667</td>\n      <td>2576.166667</td>\n      <td>25.3</td>\n      <td>0.587</td>\n      <td>0.406</td>\n      <td>0.349</td>\n      <td>2.7</td>\n      <td>22.9</td>\n      <td>12.8</td>\n      <td>44.1</td>\n      <td>1.4</td>\n      <td>1.5</td>\n      <td>15.3</td>\n      <td>36.0</td>\n      <td>5.808333</td>\n      <td>2.961111</td>\n      <td>8.769444</td>\n      <td>0.163</td>\n      <td>6.1</td>\n      <td>0.6</td>\n      <td>6.7</td>\n      <td>5.694444</td>\n      <td>736.861111</td>\n      <td>1538.638889</td>\n      <td>0.479</td>\n      <td>218.666667</td>\n      <td>624.111111</td>\n      <td>0.350</td>\n      <td>518.194444</td>\n      <td>914.527778</td>\n      <td>0.567</td>\n      <td>0.550</td>\n      <td>391.777778</td>\n      <td>536.416667</td>\n      <td>0.730</td>\n      <td>61.500000</td>\n      <td>538.694444</td>\n      <td>600.194444</td>\n      <td>645.750000</td>\n      <td>72.888889</td>\n      <td>41.000000</td>\n      <td>320.027778</td>\n      <td>173.111111</td>\n      <td>2084.166667</td>\n      <td>27.727273</td>\n      <td>8.590909</td>\n      <td>0.545455</td>\n      <td>0.969697</td>\n      <td>0</td>\n      <td>1</td>\n      <td>0</td>\n      <td>1.0</td>\n    </tr>\n    <tr>\n      <th>128</th>\n      <td>328</td>\n      <td>2021</td>\n      <td>LeBron James</td>\n      <td>PG</td>\n      <td>36</td>\n      <td>LAL</td>\n      <td>51.250000</td>\n      <td>51.250000</td>\n      <td>1712.888889</td>\n      <td>24.2</td>\n      <td>0.602</td>\n      <td>0.346</td>\n      <td>0.310</td>\n      <td>2.2</td>\n      <td>23.6</td>\n      <td>12.9</td>\n      <td>41.8</td>\n      <td>1.6</td>\n      <td>1.5</td>\n      <td>15.2</td>\n      <td>31.9</td>\n      <td>3.416667</td>\n      <td>2.961111</td>\n      <td>6.377778</td>\n      <td>0.179</td>\n      <td>5.9</td>\n      <td>1.6</td>\n      <td>7.5</td>\n      <td>4.100000</td>\n      <td>480.611111</td>\n      <td>937.305556</td>\n      <td>0.513</td>\n      <td>118.444444</td>\n      <td>324.583333</td>\n      <td>0.365</td>\n      <td>362.166667</td>\n      <td>612.722222</td>\n      <td>0.591</td>\n      <td>0.576</td>\n      <td>202.722222</td>\n      <td>290.416667</td>\n      <td>0.698</td>\n      <td>33.027778</td>\n      <td>361.027778</td>\n      <td>394.055556</td>\n      <td>398.611111</td>\n      <td>54.666667</td>\n      <td>28.472222</td>\n      <td>191.333333</td>\n      <td>79.722222</td>\n      <td>1282.388889</td>\n      <td>25.022222</td>\n      <td>7.777778</td>\n      <td>0.555556</td>\n      <td>1.066667</td>\n      <td>0</td>\n      <td>1</td>\n      <td>0</td>\n      <td>1.0</td>\n    </tr>\n    <tr>\n      <th>287</th>\n      <td>675</td>\n      <td>2021</td>\n      <td>Russell Westbrook</td>\n      <td>PG</td>\n      <td>32</td>\n      <td>WAS</td>\n      <td>74.027778</td>\n      <td>74.027778</td>\n      <td>2698.027778</td>\n      <td>19.5</td>\n      <td>0.509</td>\n      <td>0.221</td>\n      <td>0.334</td>\n      <td>4.9</td>\n      <td>28.6</td>\n      <td>16.8</td>\n      <td>48.6</td>\n      <td>1.7</td>\n      <td>0.8</td>\n      <td>18.0</td>\n      <td>30.2</td>\n      <td>0.569444</td>\n      <td>3.644444</td>\n      <td>4.213889</td>\n      <td>0.075</td>\n      <td>2.5</td>\n      <td>0.8</td>\n      <td>3.4</td>\n      <td>3.644444</td>\n      <td>619.555556</td>\n      <td>1409.944444</td>\n      <td>0.439</td>\n      <td>97.944444</td>\n      <td>310.916667</td>\n      <td>0.315</td>\n      <td>521.611111</td>\n      <td>1099.027778</td>\n      <td>0.475</td>\n      <td>0.474</td>\n      <td>308.638889</td>\n      <td>470.361111</td>\n      <td>0.656</td>\n      <td>124.138889</td>\n      <td>730.027778</td>\n      <td>854.166667</td>\n      <td>868.972222</td>\n      <td>101.361111</td>\n      <td>26.194444</td>\n      <td>355.333333</td>\n      <td>216.388889</td>\n      <td>1645.694444</td>\n      <td>22.230769</td>\n      <td>11.738462</td>\n      <td>0.353846</td>\n      <td>1.369231</td>\n      <td>0</td>\n      <td>1</td>\n      <td>0</td>\n      <td>1.0</td>\n    </tr>\n    <tr>\n      <th>297</th>\n      <td>702</td>\n      <td>2021</td>\n      <td>Trae Young</td>\n      <td>PG</td>\n      <td>22</td>\n      <td>ATL</td>\n      <td>71.750000</td>\n      <td>71.750000</td>\n      <td>2420.138889</td>\n      <td>23.0</td>\n      <td>0.589</td>\n      <td>0.357</td>\n      <td>0.491</td>\n      <td>2.0</td>\n      <td>10.5</td>\n      <td>6.3</td>\n      <td>45.5</td>\n      <td>1.2</td>\n      <td>0.5</td>\n      <td>16.2</td>\n      <td>33.0</td>\n      <td>6.719444</td>\n      <td>1.480556</td>\n      <td>8.200000</td>\n      <td>0.163</td>\n      <td>5.4</td>\n      <td>-1.7</td>\n      <td>3.6</td>\n      <td>3.416667</td>\n      <td>554.638889</td>\n      <td>1266.444444</td>\n      <td>0.438</td>\n      <td>154.888889</td>\n      <td>452.138889</td>\n      <td>0.343</td>\n      <td>399.750000</td>\n      <td>814.305556</td>\n      <td>0.491</td>\n      <td>0.499</td>\n      <td>551.222222</td>\n      <td>621.833333</td>\n      <td>0.886</td>\n      <td>43.277778</td>\n      <td>235.750000</td>\n      <td>279.027778</td>\n      <td>676.500000</td>\n      <td>60.361111</td>\n      <td>13.666667</td>\n      <td>297.250000</td>\n      <td>126.416667</td>\n      <td>1815.388889</td>\n      <td>25.301587</td>\n      <td>9.428571</td>\n      <td>0.190476</td>\n      <td>0.841270</td>\n      <td>0</td>\n      <td>1</td>\n      <td>0</td>\n      <td>1.0</td>\n    </tr>\n  </tbody>\n</table>\n</div>"
     },
     "metadata": {},
     "execution_count": 148
    }
   ],
   "source": [
    "#Predict All- nba Guards\n",
    "X_scaler = StandardScaler().fit(X_Guard_Train)\n",
    "X_test_scaled = X_scaler.transform(guards_stats_2021[['Age','G','MP','PER','TS_pct','3PAr','FTr','ORB_pct',\n",
    "                                                      'DRB_pct','TRB_pct','AST_pct','BLK_pct','TOV_pct','USG_pct',\n",
    "                                                      'OWS', 'DWS','WS','OBPM','DBPM','BPM','VORP','FG','FGA',\n",
    "                                                      'FG_pct','3P','3PA','3P_pct','2P','2PA','2P_pct','eFG_pct',\n",
    "                                                      'FT','FTA','FT_pct','ORB','DRB','TRB','AST','STL','BLK',\n",
    "                                                      'TOV','PF','PTS','PPG','RPG','SPG']])\n",
    "X_test_scaled = np.nan_to_num(X_test_scaled)\n",
    "predictions = guard_model.predict(X_test_scaled)\n",
    "predictions_df = pd.DataFrame(predictions)\n",
    "predictions_df = predictions_df.rename(columns = {predictions_df.columns[0]:'All_NBA_Status'})\n",
    "guards_stats_2021=guards_stats_2021.join(predictions_df)\n",
    "guards_stats_2021[guards_stats_2021.All_NBA_Status == 1]"
   ]
  },
  {
   "cell_type": "code",
   "execution_count": 149,
   "metadata": {},
   "outputs": [
    {
     "output_type": "execute_result",
     "data": {
      "text/plain": [
       "     index  Year                 Player Pos Age   Tm          G         GS  \\\n",
       "5       17  2021  Giannis Antetokounmpo  PF  26  MIL  69.472222  69.472222   \n",
       "44     106  2021           Jimmy Butler  SF  31  MIA  59.222222  59.222222   \n",
       "63     153  2021          Anthony Davis  PF  27  LAL  41.000000  41.000000   \n",
       "158    390  2021          Kawhi Leonard  SF  29  LAC  59.222222  59.222222   \n",
       "266    688  2021        Zion Williamson  PF  20  NOP  69.472222  69.472222   \n",
       "\n",
       "              MP   PER  TS_pct   3PAr    FTr  ORB_pct  DRB_pct  TRB_pct  \\\n",
       "5    2292.583333  29.2   0.633  0.201  0.528      5.3     28.9     17.5   \n",
       "44   1987.361111  26.5   0.607  0.139  0.565      6.3     17.1     11.8   \n",
       "63   1323.388889  22.1   0.556  0.163  0.349      6.0     21.5     13.8   \n",
       "158  2019.250000  26.0   0.622  0.280  0.325      3.6     17.4     10.7   \n",
       "266  2307.388889  27.1   0.649  0.033  0.510      8.9     14.7     11.8   \n",
       "\n",
       "     AST_pct  STL_pct  BLK_pct  TOV_pct  USG_pct       OWS       DWS  \\\n",
       "5       28.7      1.7      3.2     13.2     32.5  7.858333  3.758333   \n",
       "44      35.1      3.1      1.1     10.6     26.6  7.516667  3.075000   \n",
       "63      16.4      1.9      4.5      9.5     29.2  1.480556  2.733333   \n",
       "158     24.9      2.3      1.1      9.2     28.6  7.288889  2.733333   \n",
       "266     19.7      1.3      1.8     11.6     29.8  8.086111  1.822222   \n",
       "\n",
       "            WS  WS/48  OBPM  DBPM  BPM      VORP          FG          FGA  \\\n",
       "5    11.616667  0.244   6.2   2.6  8.8  6.263889  712.944444  1252.777778   \n",
       "44   10.591667  0.255   5.1   2.5  7.5  4.783333  416.833333   838.222222   \n",
       "63    4.213889  0.152   2.9   1.6  4.5  2.163889  342.805556   698.138889   \n",
       "158  10.022222  0.238   5.7   1.0  6.7  4.441667  529.583333  1034.111111   \n",
       "266   9.908333  0.205   5.8  -0.4  5.4  4.327778  722.055556  1181.027778   \n",
       "\n",
       "     FG_pct          3P         3PA  3P_pct          2P          2PA  2P_pct  \\\n",
       "5     0.569   76.305556  251.694444   0.303  636.638889  1001.083333   0.636   \n",
       "44    0.497   28.472222  116.166667   0.245  388.361111   722.055556   0.538   \n",
       "63    0.491   29.611111  113.888889   0.260  313.194444   584.250000   0.536   \n",
       "158   0.512  115.027778  289.277778   0.398  414.555556   744.833333   0.557   \n",
       "266   0.611   11.388889   38.722222   0.294  710.666667  1142.305556   0.622   \n",
       "\n",
       "     eFG_pct          FT         FTA  FT_pct         ORB         DRB  \\\n",
       "5      0.600  453.277778  661.694444   0.685  110.472222  653.722222   \n",
       "44     0.514  408.861111  473.777778   0.863  107.055556  301.805556   \n",
       "63     0.512  179.944444  243.722222   0.738   70.611111  255.111111   \n",
       "158    0.568  297.250000  335.972222   0.885   62.638889  321.166667   \n",
       "266    0.616  420.250000  602.472222   0.698  190.194444  312.055556   \n",
       "\n",
       "            TRB         AST         STL        BLK         TOV          PF  \\\n",
       "5    764.194444  406.583333   82.000000  83.138889  235.750000  191.333333   \n",
       "44   408.861111  420.250000  123.000000  20.500000  124.138889   80.861111   \n",
       "63   325.722222  125.277778   51.250000  67.194444   84.277778   68.333333   \n",
       "158  383.805556  306.361111   92.250000  23.916667  119.583333   93.388889   \n",
       "266  502.250000  257.388889   64.916667  44.416667  190.194444  153.750000   \n",
       "\n",
       "             PTS        PPG       APG       RPG       SPG  is_Center  \\\n",
       "5    1955.472222  28.147541  5.852459  1.196721  1.180328          0   \n",
       "44   1271.000000  21.461538  7.096154  0.346154  2.076923          0   \n",
       "63    895.166667  21.833333  3.055556  1.638889  1.250000          0   \n",
       "158  1471.444444  24.846154  5.173077  0.403846  1.557692          0   \n",
       "266  1875.750000  27.000000  3.704918  0.639344  0.934426          0   \n",
       "\n",
       "     is_Guard  is_Forward  All_NBA_Status  \n",
       "5           0           1             1.0  \n",
       "44          0           1             1.0  \n",
       "63          0           1             1.0  \n",
       "158         0           1             1.0  \n",
       "266         0           1             1.0  "
      ],
      "text/html": "<div>\n<style scoped>\n    .dataframe tbody tr th:only-of-type {\n        vertical-align: middle;\n    }\n\n    .dataframe tbody tr th {\n        vertical-align: top;\n    }\n\n    .dataframe thead th {\n        text-align: right;\n    }\n</style>\n<table border=\"1\" class=\"dataframe\">\n  <thead>\n    <tr style=\"text-align: right;\">\n      <th></th>\n      <th>index</th>\n      <th>Year</th>\n      <th>Player</th>\n      <th>Pos</th>\n      <th>Age</th>\n      <th>Tm</th>\n      <th>G</th>\n      <th>GS</th>\n      <th>MP</th>\n      <th>PER</th>\n      <th>TS_pct</th>\n      <th>3PAr</th>\n      <th>FTr</th>\n      <th>ORB_pct</th>\n      <th>DRB_pct</th>\n      <th>TRB_pct</th>\n      <th>AST_pct</th>\n      <th>STL_pct</th>\n      <th>BLK_pct</th>\n      <th>TOV_pct</th>\n      <th>USG_pct</th>\n      <th>OWS</th>\n      <th>DWS</th>\n      <th>WS</th>\n      <th>WS/48</th>\n      <th>OBPM</th>\n      <th>DBPM</th>\n      <th>BPM</th>\n      <th>VORP</th>\n      <th>FG</th>\n      <th>FGA</th>\n      <th>FG_pct</th>\n      <th>3P</th>\n      <th>3PA</th>\n      <th>3P_pct</th>\n      <th>2P</th>\n      <th>2PA</th>\n      <th>2P_pct</th>\n      <th>eFG_pct</th>\n      <th>FT</th>\n      <th>FTA</th>\n      <th>FT_pct</th>\n      <th>ORB</th>\n      <th>DRB</th>\n      <th>TRB</th>\n      <th>AST</th>\n      <th>STL</th>\n      <th>BLK</th>\n      <th>TOV</th>\n      <th>PF</th>\n      <th>PTS</th>\n      <th>PPG</th>\n      <th>APG</th>\n      <th>RPG</th>\n      <th>SPG</th>\n      <th>is_Center</th>\n      <th>is_Guard</th>\n      <th>is_Forward</th>\n      <th>All_NBA_Status</th>\n    </tr>\n  </thead>\n  <tbody>\n    <tr>\n      <th>5</th>\n      <td>17</td>\n      <td>2021</td>\n      <td>Giannis Antetokounmpo</td>\n      <td>PF</td>\n      <td>26</td>\n      <td>MIL</td>\n      <td>69.472222</td>\n      <td>69.472222</td>\n      <td>2292.583333</td>\n      <td>29.2</td>\n      <td>0.633</td>\n      <td>0.201</td>\n      <td>0.528</td>\n      <td>5.3</td>\n      <td>28.9</td>\n      <td>17.5</td>\n      <td>28.7</td>\n      <td>1.7</td>\n      <td>3.2</td>\n      <td>13.2</td>\n      <td>32.5</td>\n      <td>7.858333</td>\n      <td>3.758333</td>\n      <td>11.616667</td>\n      <td>0.244</td>\n      <td>6.2</td>\n      <td>2.6</td>\n      <td>8.8</td>\n      <td>6.263889</td>\n      <td>712.944444</td>\n      <td>1252.777778</td>\n      <td>0.569</td>\n      <td>76.305556</td>\n      <td>251.694444</td>\n      <td>0.303</td>\n      <td>636.638889</td>\n      <td>1001.083333</td>\n      <td>0.636</td>\n      <td>0.600</td>\n      <td>453.277778</td>\n      <td>661.694444</td>\n      <td>0.685</td>\n      <td>110.472222</td>\n      <td>653.722222</td>\n      <td>764.194444</td>\n      <td>406.583333</td>\n      <td>82.000000</td>\n      <td>83.138889</td>\n      <td>235.750000</td>\n      <td>191.333333</td>\n      <td>1955.472222</td>\n      <td>28.147541</td>\n      <td>5.852459</td>\n      <td>1.196721</td>\n      <td>1.180328</td>\n      <td>0</td>\n      <td>0</td>\n      <td>1</td>\n      <td>1.0</td>\n    </tr>\n    <tr>\n      <th>44</th>\n      <td>106</td>\n      <td>2021</td>\n      <td>Jimmy Butler</td>\n      <td>SF</td>\n      <td>31</td>\n      <td>MIA</td>\n      <td>59.222222</td>\n      <td>59.222222</td>\n      <td>1987.361111</td>\n      <td>26.5</td>\n      <td>0.607</td>\n      <td>0.139</td>\n      <td>0.565</td>\n      <td>6.3</td>\n      <td>17.1</td>\n      <td>11.8</td>\n      <td>35.1</td>\n      <td>3.1</td>\n      <td>1.1</td>\n      <td>10.6</td>\n      <td>26.6</td>\n      <td>7.516667</td>\n      <td>3.075000</td>\n      <td>10.591667</td>\n      <td>0.255</td>\n      <td>5.1</td>\n      <td>2.5</td>\n      <td>7.5</td>\n      <td>4.783333</td>\n      <td>416.833333</td>\n      <td>838.222222</td>\n      <td>0.497</td>\n      <td>28.472222</td>\n      <td>116.166667</td>\n      <td>0.245</td>\n      <td>388.361111</td>\n      <td>722.055556</td>\n      <td>0.538</td>\n      <td>0.514</td>\n      <td>408.861111</td>\n      <td>473.777778</td>\n      <td>0.863</td>\n      <td>107.055556</td>\n      <td>301.805556</td>\n      <td>408.861111</td>\n      <td>420.250000</td>\n      <td>123.000000</td>\n      <td>20.500000</td>\n      <td>124.138889</td>\n      <td>80.861111</td>\n      <td>1271.000000</td>\n      <td>21.461538</td>\n      <td>7.096154</td>\n      <td>0.346154</td>\n      <td>2.076923</td>\n      <td>0</td>\n      <td>0</td>\n      <td>1</td>\n      <td>1.0</td>\n    </tr>\n    <tr>\n      <th>63</th>\n      <td>153</td>\n      <td>2021</td>\n      <td>Anthony Davis</td>\n      <td>PF</td>\n      <td>27</td>\n      <td>LAL</td>\n      <td>41.000000</td>\n      <td>41.000000</td>\n      <td>1323.388889</td>\n      <td>22.1</td>\n      <td>0.556</td>\n      <td>0.163</td>\n      <td>0.349</td>\n      <td>6.0</td>\n      <td>21.5</td>\n      <td>13.8</td>\n      <td>16.4</td>\n      <td>1.9</td>\n      <td>4.5</td>\n      <td>9.5</td>\n      <td>29.2</td>\n      <td>1.480556</td>\n      <td>2.733333</td>\n      <td>4.213889</td>\n      <td>0.152</td>\n      <td>2.9</td>\n      <td>1.6</td>\n      <td>4.5</td>\n      <td>2.163889</td>\n      <td>342.805556</td>\n      <td>698.138889</td>\n      <td>0.491</td>\n      <td>29.611111</td>\n      <td>113.888889</td>\n      <td>0.260</td>\n      <td>313.194444</td>\n      <td>584.250000</td>\n      <td>0.536</td>\n      <td>0.512</td>\n      <td>179.944444</td>\n      <td>243.722222</td>\n      <td>0.738</td>\n      <td>70.611111</td>\n      <td>255.111111</td>\n      <td>325.722222</td>\n      <td>125.277778</td>\n      <td>51.250000</td>\n      <td>67.194444</td>\n      <td>84.277778</td>\n      <td>68.333333</td>\n      <td>895.166667</td>\n      <td>21.833333</td>\n      <td>3.055556</td>\n      <td>1.638889</td>\n      <td>1.250000</td>\n      <td>0</td>\n      <td>0</td>\n      <td>1</td>\n      <td>1.0</td>\n    </tr>\n    <tr>\n      <th>158</th>\n      <td>390</td>\n      <td>2021</td>\n      <td>Kawhi Leonard</td>\n      <td>SF</td>\n      <td>29</td>\n      <td>LAC</td>\n      <td>59.222222</td>\n      <td>59.222222</td>\n      <td>2019.250000</td>\n      <td>26.0</td>\n      <td>0.622</td>\n      <td>0.280</td>\n      <td>0.325</td>\n      <td>3.6</td>\n      <td>17.4</td>\n      <td>10.7</td>\n      <td>24.9</td>\n      <td>2.3</td>\n      <td>1.1</td>\n      <td>9.2</td>\n      <td>28.6</td>\n      <td>7.288889</td>\n      <td>2.733333</td>\n      <td>10.022222</td>\n      <td>0.238</td>\n      <td>5.7</td>\n      <td>1.0</td>\n      <td>6.7</td>\n      <td>4.441667</td>\n      <td>529.583333</td>\n      <td>1034.111111</td>\n      <td>0.512</td>\n      <td>115.027778</td>\n      <td>289.277778</td>\n      <td>0.398</td>\n      <td>414.555556</td>\n      <td>744.833333</td>\n      <td>0.557</td>\n      <td>0.568</td>\n      <td>297.250000</td>\n      <td>335.972222</td>\n      <td>0.885</td>\n      <td>62.638889</td>\n      <td>321.166667</td>\n      <td>383.805556</td>\n      <td>306.361111</td>\n      <td>92.250000</td>\n      <td>23.916667</td>\n      <td>119.583333</td>\n      <td>93.388889</td>\n      <td>1471.444444</td>\n      <td>24.846154</td>\n      <td>5.173077</td>\n      <td>0.403846</td>\n      <td>1.557692</td>\n      <td>0</td>\n      <td>0</td>\n      <td>1</td>\n      <td>1.0</td>\n    </tr>\n    <tr>\n      <th>266</th>\n      <td>688</td>\n      <td>2021</td>\n      <td>Zion Williamson</td>\n      <td>PF</td>\n      <td>20</td>\n      <td>NOP</td>\n      <td>69.472222</td>\n      <td>69.472222</td>\n      <td>2307.388889</td>\n      <td>27.1</td>\n      <td>0.649</td>\n      <td>0.033</td>\n      <td>0.510</td>\n      <td>8.9</td>\n      <td>14.7</td>\n      <td>11.8</td>\n      <td>19.7</td>\n      <td>1.3</td>\n      <td>1.8</td>\n      <td>11.6</td>\n      <td>29.8</td>\n      <td>8.086111</td>\n      <td>1.822222</td>\n      <td>9.908333</td>\n      <td>0.205</td>\n      <td>5.8</td>\n      <td>-0.4</td>\n      <td>5.4</td>\n      <td>4.327778</td>\n      <td>722.055556</td>\n      <td>1181.027778</td>\n      <td>0.611</td>\n      <td>11.388889</td>\n      <td>38.722222</td>\n      <td>0.294</td>\n      <td>710.666667</td>\n      <td>1142.305556</td>\n      <td>0.622</td>\n      <td>0.616</td>\n      <td>420.250000</td>\n      <td>602.472222</td>\n      <td>0.698</td>\n      <td>190.194444</td>\n      <td>312.055556</td>\n      <td>502.250000</td>\n      <td>257.388889</td>\n      <td>64.916667</td>\n      <td>44.416667</td>\n      <td>190.194444</td>\n      <td>153.750000</td>\n      <td>1875.750000</td>\n      <td>27.000000</td>\n      <td>3.704918</td>\n      <td>0.639344</td>\n      <td>0.934426</td>\n      <td>0</td>\n      <td>0</td>\n      <td>1</td>\n      <td>1.0</td>\n    </tr>\n  </tbody>\n</table>\n</div>"
     },
     "metadata": {},
     "execution_count": 149
    }
   ],
   "source": [
    "#Predict All- nba Forwards\n",
    "X_scaler = StandardScaler().fit(X_Forward_Train)\n",
    "X_test_scaled = X_scaler.transform(forwards_stats_2021[['Age','G','MP','PER','TS_pct','3PAr','FTr','ORB_pct','DRB_pct',\n",
    "                                                        'TRB_pct','AST_pct','BLK_pct','TOV_pct','USG_pct','OWS', 'DWS',\n",
    "                                                        'WS','OBPM','DBPM','BPM','VORP','FG','FGA','FG_pct','3P','3PA',\n",
    "                                                        '3P_pct','2P','2PA','2P_pct','eFG_pct','FT','FTA','FT_pct','ORB',\n",
    "                                                        'DRB','TRB','AST','STL','BLK','TOV','PF','PTS','PPG','RPG','SPG']])\n",
    "X_test_scaled = np.nan_to_num(X_test_scaled)\n",
    "predictions = forward_model.predict(X_test_scaled)\n",
    "predictions_df = pd.DataFrame(predictions)\n",
    "predictions_df = predictions_df.rename(columns = {predictions_df.columns[0]:'All_NBA_Status'})\n",
    "forwards_stats_2021=forwards_stats_2021.join(predictions_df)\n",
    "forwards_stats_2021[forwards_stats_2021.All_NBA_Status == 1]"
   ]
  },
  {
   "cell_type": "code",
   "execution_count": 150,
   "metadata": {},
   "outputs": [],
   "source": [
    "# Make sure that the games played for 2021 is normalized to 82 games\n",
    "# 72 games in 2021 \n",
    "# 1998-1999 50 games\n",
    "# 2011-2021 66 games"
   ]
  },
  {
   "cell_type": "code",
   "execution_count": null,
   "metadata": {},
   "outputs": [],
   "source": []
  },
  {
   "cell_type": "code",
   "execution_count": null,
   "metadata": {},
   "outputs": [],
   "source": []
  },
  {
   "cell_type": "code",
   "execution_count": null,
   "metadata": {},
   "outputs": [],
   "source": []
  },
  {
   "cell_type": "code",
   "execution_count": null,
   "metadata": {},
   "outputs": [],
   "source": []
  },
  {
   "cell_type": "code",
   "execution_count": null,
   "metadata": {},
   "outputs": [],
   "source": []
  },
  {
   "cell_type": "code",
   "execution_count": null,
   "metadata": {},
   "outputs": [],
   "source": []
  },
  {
   "cell_type": "code",
   "execution_count": null,
   "metadata": {},
   "outputs": [],
   "source": []
  },
  {
   "cell_type": "code",
   "execution_count": null,
   "metadata": {},
   "outputs": [],
   "source": []
  },
  {
   "cell_type": "code",
   "execution_count": null,
   "metadata": {},
   "outputs": [],
   "source": []
  },
  {
   "cell_type": "code",
   "execution_count": null,
   "metadata": {},
   "outputs": [],
   "source": []
  },
  {
   "cell_type": "code",
   "execution_count": null,
   "metadata": {},
   "outputs": [],
   "source": []
  }
 ],
 "metadata": {
  "kernelspec": {
   "display_name": "mlenv",
   "language": "python",
   "name": "mlenv"
  },
  "language_info": {
   "codemirror_mode": {
    "name": "ipython",
    "version": 3
   },
   "file_extension": ".py",
   "mimetype": "text/x-python",
   "name": "python",
   "nbconvert_exporter": "python",
   "pygments_lexer": "ipython3",
   "version": "3.7.9"
  }
 },
 "nbformat": 4,
 "nbformat_minor": 4
}